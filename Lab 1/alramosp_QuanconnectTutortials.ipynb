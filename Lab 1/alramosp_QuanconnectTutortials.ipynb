{
  "nbformat": 4,
  "nbformat_minor": 0,
  "metadata": {
    "colab": {
      "name": "alramosp_QuanconnectTutortials.ipynb",
      "provenance": [],
      "collapsed_sections": [],
      "include_colab_link": true
    },
    "kernelspec": {
      "display_name": "Python 3",
      "language": "python",
      "name": "python3"
    },
    "language_info": {
      "codemirror_mode": {
        "name": "ipython",
        "version": 3
      },
      "file_extension": ".py",
      "mimetype": "text/x-python",
      "name": "python",
      "nbconvert_exporter": "python",
      "pygments_lexer": "ipython3",
      "version": "3.6.4"
    }
  },
  "cells": [
    {
      "cell_type": "markdown",
      "metadata": {
        "id": "view-in-github",
        "colab_type": "text"
      },
      "source": [
        "<a href=\"https://colab.research.google.com/github/alramosp/Alg2_alramosp/blob/main/Lab%201/alramosp_QuanconnectTutortials.ipynb\" target=\"_parent\"><img src=\"https://colab.research.google.com/assets/colab-badge.svg\" alt=\"Open In Colab\"/></a>"
      ]
    },
    {
      "cell_type": "markdown",
      "metadata": {
        "id": "eQzBbvyKQymx"
      },
      "source": [
        "<div align=\"center\">\n",
        "<img style=\"display: block; margin: auto;\" alt=\"photo\" src=\"https://cdn.quantconnect.com/web/i/icon.png\">\n",
        "\n",
        "Quantconnect\n",
        "\n",
        "Introduction to Financial Python\n",
        "</div>\n",
        "\n",
        "# 01 Data Types and Data Structures\n",
        "\n",
        "# Introduction\n",
        "\n",
        "This tutorial provides a basic introduction to the Python programming language. If you are new to Python, you should run the code snippets while reading this tutorial. If you are an advanced Python user, please feel free to skip this chapter.\n",
        "\n",
        "# Basic Variable Types\n",
        "The basic types of variables in Python are: strings, integers, floating point numbers and booleans.\n",
        "\n",
        "Strings in python are identified as a contiguous set of characters represented in either single quotes (' ') or double quotes (\" \").\n"
      ]
    },
    {
      "cell_type": "code",
      "metadata": {
        "colab": {
          "base_uri": "https://localhost:8080/"
        },
        "id": "N5t-UrcfOqid",
        "outputId": "ec328a04-11c3-45ae-d447-6dd75b78c494"
      },
      "source": [
        "my_string1 = 'Welcome to'\n",
        "my_string2 = \"QuantConnect\"\n",
        "print(my_string1 + ' ' + my_string2)"
      ],
      "execution_count": 263,
      "outputs": [
        {
          "output_type": "stream",
          "name": "stdout",
          "text": [
            "Welcome to QuantConnect\n"
          ]
        }
      ]
    },
    {
      "cell_type": "code",
      "metadata": {
        "colab": {
          "base_uri": "https://localhost:8080/"
        },
        "id": "nRqZfg7Jg_Ny",
        "outputId": "f424ce13-85ce-4e8b-b27c-2db962b10af1"
      },
      "source": [
        "my_string1 = 'Bienvenido'\n",
        "my_string2 = \"Alejandro Ramos\"\n",
        "print(my_string1 + ' ' + my_string2)"
      ],
      "execution_count": 264,
      "outputs": [
        {
          "output_type": "stream",
          "name": "stdout",
          "text": [
            "Bienvenido Alejandro Ramos\n"
          ]
        }
      ]
    },
    {
      "cell_type": "markdown",
      "metadata": {
        "id": "bXHnxZyHSd1M"
      },
      "source": [
        "An integer is a round number with no values after the decimal point."
      ]
    },
    {
      "cell_type": "code",
      "metadata": {
        "colab": {
          "base_uri": "https://localhost:8080/"
        },
        "id": "pNjuz3toOqif",
        "outputId": "397e5fb9-3c8c-45f2-972a-5eaf05cd66ec"
      },
      "source": [
        "my_int = 10\n",
        "print(my_int)\n",
        "print(type(my_int))"
      ],
      "execution_count": 265,
      "outputs": [
        {
          "output_type": "stream",
          "name": "stdout",
          "text": [
            "10\n",
            "<class 'int'>\n"
          ]
        }
      ]
    },
    {
      "cell_type": "code",
      "metadata": {
        "colab": {
          "base_uri": "https://localhost:8080/"
        },
        "id": "z9YphwmChKhQ",
        "outputId": "a96eb276-1cb8-4973-9c4e-04925f2b9604"
      },
      "source": [
        "my_int = 2001\n",
        "print(my_int)\n",
        "print(type(my_int))"
      ],
      "execution_count": 266,
      "outputs": [
        {
          "output_type": "stream",
          "name": "stdout",
          "text": [
            "2001\n",
            "<class 'int'>\n"
          ]
        }
      ]
    },
    {
      "cell_type": "markdown",
      "metadata": {
        "id": "_1ZanWrYSnzF"
      },
      "source": [
        "The built-in function int() can convert a string into an integer."
      ]
    },
    {
      "cell_type": "code",
      "metadata": {
        "colab": {
          "base_uri": "https://localhost:8080/"
        },
        "id": "zPwGb20FOqif",
        "outputId": "20f3b557-497f-44c7-8942-6f0ba05d2bec"
      },
      "source": [
        "my_string = \"100\"\n",
        "print(type(my_string))\n",
        "my_int = int(my_string) #function int() can convert a string into an integer.\n",
        "print(type(my_int))"
      ],
      "execution_count": 267,
      "outputs": [
        {
          "output_type": "stream",
          "name": "stdout",
          "text": [
            "<class 'str'>\n",
            "<class 'int'>\n"
          ]
        }
      ]
    },
    {
      "cell_type": "code",
      "metadata": {
        "colab": {
          "base_uri": "https://localhost:8080/"
        },
        "id": "1oxyTcJzi7ac",
        "outputId": "c50c0f8a-a98e-4cfb-80f5-f095b2e1e827"
      },
      "source": [
        "mi_cadena = \"5642\"\n",
        "print(type(mi_cadena))\n",
        "miNuevo_int = int(mi_cadena)\n",
        "print(type(miNuevo_int))\n"
      ],
      "execution_count": 268,
      "outputs": [
        {
          "output_type": "stream",
          "name": "stdout",
          "text": [
            "<class 'str'>\n",
            "<class 'int'>\n"
          ]
        }
      ]
    },
    {
      "cell_type": "markdown",
      "metadata": {
        "id": "WqMDPDTHSrE9"
      },
      "source": [
        "A floating point number, or a float, is a real number in mathematics. In Python we need to include a value after a decimal point to define it as a float"
      ]
    },
    {
      "cell_type": "code",
      "metadata": {
        "colab": {
          "base_uri": "https://localhost:8080/"
        },
        "id": "otCzKKW9Oqig",
        "outputId": "c9dcb213-f414-4416-b921-ff27fea3baf3"
      },
      "source": [
        "my_string = \"100\"\n",
        "my_float = float(my_string) #function float() can convert a string into an integer.\n",
        "print(type(my_float))"
      ],
      "execution_count": 269,
      "outputs": [
        {
          "output_type": "stream",
          "name": "stdout",
          "text": [
            "<class 'float'>\n"
          ]
        }
      ]
    },
    {
      "cell_type": "code",
      "metadata": {
        "colab": {
          "base_uri": "https://localhost:8080/"
        },
        "id": "kmZXvjbmjhAx",
        "outputId": "e6a4687f-d19d-4148-bfe7-9569a74343b4"
      },
      "source": [
        "my_string = \"230\"\n",
        "my_float = float(my_string)\n",
        "print(type(my_float))\n"
      ],
      "execution_count": 270,
      "outputs": [
        {
          "output_type": "stream",
          "name": "stdout",
          "text": [
            "<class 'float'>\n"
          ]
        }
      ]
    },
    {
      "cell_type": "markdown",
      "metadata": {
        "id": "2iuyv8Q7StTJ"
      },
      "source": [
        "As you can see above, if we don't include a decimal value, the variable would be defined as an integer. The built-in function float() can convert a string or an integer into a float."
      ]
    },
    {
      "cell_type": "code",
      "metadata": {
        "colab": {
          "base_uri": "https://localhost:8080/"
        },
        "id": "wwLw5VthOqig",
        "outputId": "6b34d1ae-fe2a-4d0d-88be-fbdc05611548"
      },
      "source": [
        "my_bool = False\n",
        "print(my_bool)\n",
        "print(type(my_bool)) "
      ],
      "execution_count": 271,
      "outputs": [
        {
          "output_type": "stream",
          "name": "stdout",
          "text": [
            "False\n",
            "<class 'bool'>\n"
          ]
        }
      ]
    },
    {
      "cell_type": "code",
      "metadata": {
        "colab": {
          "base_uri": "https://localhost:8080/"
        },
        "id": "oIaWBjm8lQmC",
        "outputId": "6e58c16a-d409-4017-d603-1e645a086cfd"
      },
      "source": [
        "my_bool = True\n",
        "print(my_bool)\n",
        "print(type(my_bool))"
      ],
      "execution_count": 272,
      "outputs": [
        {
          "output_type": "stream",
          "name": "stdout",
          "text": [
            "True\n",
            "<class 'bool'>\n"
          ]
        }
      ]
    },
    {
      "cell_type": "markdown",
      "metadata": {
        "id": "bnGMwH21Szr_"
      },
      "source": [
        "A boolean, or bool, is a binary variable. Its value can only be True or False. It is useful when we do some logic operations, which would be covered in our next chapter."
      ]
    },
    {
      "cell_type": "code",
      "metadata": {
        "colab": {
          "base_uri": "https://localhost:8080/"
        },
        "id": "DMa6pDl5Oqig",
        "outputId": "4ccdc9ab-329c-42eb-ddb7-5d8052149d31"
      },
      "source": [
        "print(\"Addition \", 1+1)\n",
        "print(\"Subtraction \", 5-2)\n",
        "print(\"Multiplication \", 2*3)\n",
        "print(\"Division \", 10/2)\n",
        "print('exponent', 2**3)"
      ],
      "execution_count": 273,
      "outputs": [
        {
          "output_type": "stream",
          "name": "stdout",
          "text": [
            "Addition  2\n",
            "Subtraction  3\n",
            "Multiplication  6\n",
            "Division  5.0\n",
            "exponent 8\n"
          ]
        }
      ]
    },
    {
      "cell_type": "code",
      "metadata": {
        "colab": {
          "base_uri": "https://localhost:8080/"
        },
        "id": "Wxn829FJlqO6",
        "outputId": "59504ca5-fbd8-4373-a5d9-6029be6ab2cb"
      },
      "source": [
        "print(\"Addition \", 8+1)\n",
        "print(\"Subtraction \", 24-5)\n",
        "print(\"Multiplication \", 8*3)\n",
        "print(\"Division \", 12/3)\n",
        "print('exponent', 4**3)"
      ],
      "execution_count": 274,
      "outputs": [
        {
          "output_type": "stream",
          "name": "stdout",
          "text": [
            "Addition  9\n",
            "Subtraction  19\n",
            "Multiplication  24\n",
            "Division  4.0\n",
            "exponent 64\n"
          ]
        }
      ]
    },
    {
      "cell_type": "markdown",
      "metadata": {
        "id": "1Xc9G9_sS2ju"
      },
      "source": [
        "# Basic Math Operations\n",
        "\n",
        "The basic math operators in python are demonstrated below:"
      ]
    },
    {
      "cell_type": "code",
      "metadata": {
        "colab": {
          "base_uri": "https://localhost:8080/"
        },
        "id": "KE9gUryAOqig",
        "outputId": "5b74002b-71b4-45fe-c73f-54fdc7899aa0"
      },
      "source": [
        "print(1/3)\n",
        "print(1.0/3)"
      ],
      "execution_count": 275,
      "outputs": [
        {
          "output_type": "stream",
          "name": "stdout",
          "text": [
            "0.3333333333333333\n",
            "0.3333333333333333\n"
          ]
        }
      ]
    },
    {
      "cell_type": "code",
      "metadata": {
        "colab": {
          "base_uri": "https://localhost:8080/"
        },
        "id": "Bd0Q4SxGmSK7",
        "outputId": "72a4036e-156f-4d99-97b6-88025d4e02d4"
      },
      "source": [
        "print(3/4)\n",
        "print(3.0/4)"
      ],
      "execution_count": 276,
      "outputs": [
        {
          "output_type": "stream",
          "name": "stdout",
          "text": [
            "0.75\n",
            "0.75\n"
          ]
        }
      ]
    },
    {
      "cell_type": "markdown",
      "metadata": {
        "id": "AN5Oa3DoS_Nf"
      },
      "source": [
        "# Data Collections\n",
        "\n",
        "## List\n",
        "A list is an ordered collection of values. A list is mutable, which means you can change a list's value without changing the list itself. Creating a list is simply putting different comma-separated values between square brackets."
      ]
    },
    {
      "cell_type": "code",
      "metadata": {
        "colab": {
          "base_uri": "https://localhost:8080/"
        },
        "id": "-tQdNqCvOqig",
        "outputId": "371ecc9f-cd42-4663-88a2-4341b9640189"
      },
      "source": [
        "my_list = ['Quant', 'Connect', 1,2,3]\n",
        "print(my_list)"
      ],
      "execution_count": 277,
      "outputs": [
        {
          "output_type": "stream",
          "name": "stdout",
          "text": [
            "['Quant', 'Connect', 1, 2, 3]\n"
          ]
        }
      ]
    },
    {
      "cell_type": "code",
      "metadata": {
        "colab": {
          "base_uri": "https://localhost:8080/"
        },
        "id": "6aP7dYcCm6aO",
        "outputId": "89d573ea-2b0b-48d3-f915-d070a525fb7a"
      },
      "source": [
        "mi_lista = ['Alejandro', 'Ramos', 6,22,78,108]\n",
        "print(mi_lista)"
      ],
      "execution_count": 278,
      "outputs": [
        {
          "output_type": "stream",
          "name": "stdout",
          "text": [
            "['Alejandro', 'Ramos', 6, 22, 78, 108]\n"
          ]
        }
      ]
    },
    {
      "cell_type": "markdown",
      "metadata": {
        "id": "1O0TsgZCTHrM"
      },
      "source": [
        "The values in a list are called \"elements\". We can access list elements by indexing. Python index starts from 0. So if you have a list of length n, the index of the first element will be 0, and that of the last element will be n − 1. By the way, the length of a list can be obtained by the built-in function len()."
      ]
    },
    {
      "cell_type": "code",
      "metadata": {
        "colab": {
          "base_uri": "https://localhost:8080/"
        },
        "id": "QhuVhRR5Oqih",
        "outputId": "b7463bfa-6c08-43d7-edda-954bc1c2d808"
      },
      "source": [
        "my_list = ['Quant', 'Connect', 1,2,3]\n",
        "print(len(my_list))#With function len() you can obtain the length of a list \n",
        "print(my_list[0])\n",
        "print(my_list[len(my_list) -1])"
      ],
      "execution_count": 279,
      "outputs": [
        {
          "output_type": "stream",
          "name": "stdout",
          "text": [
            "5\n",
            "Quant\n",
            "3\n"
          ]
        }
      ]
    },
    {
      "cell_type": "code",
      "metadata": {
        "colab": {
          "base_uri": "https://localhost:8080/"
        },
        "id": "gc14-KfIoahx",
        "outputId": "304bb1c5-d035-460d-d1e1-a5ad89ac1309"
      },
      "source": [
        "mi_lista = ['Alejandro', 'Ramos', 6,22,78,108]\n",
        "print(len(mi_lista))\n",
        "print(mi_lista[1])\n",
        "print(mi_lista[len(mi_lista) -2])"
      ],
      "execution_count": 280,
      "outputs": [
        {
          "output_type": "stream",
          "name": "stdout",
          "text": [
            "6\n",
            "Ramos\n",
            "78\n"
          ]
        }
      ]
    },
    {
      "cell_type": "markdown",
      "metadata": {
        "id": "jgSZy1VGTKSc"
      },
      "source": [
        "You can also change the elements in the list by accessing an index and assigning a new value."
      ]
    },
    {
      "cell_type": "code",
      "metadata": {
        "colab": {
          "base_uri": "https://localhost:8080/"
        },
        "id": "NQBNLjAvOqih",
        "outputId": "c8547222-6249-4fbf-f974-1e78c8f324e2"
      },
      "source": [
        "my_list = ['Quant','Connect',1,2,3]\n",
        "my_list[2] = 'go'\n",
        "print(my_list)"
      ],
      "execution_count": 281,
      "outputs": [
        {
          "output_type": "stream",
          "name": "stdout",
          "text": [
            "['Quant', 'Connect', 'go', 2, 3]\n"
          ]
        }
      ]
    },
    {
      "cell_type": "code",
      "metadata": {
        "colab": {
          "base_uri": "https://localhost:8080/"
        },
        "id": "-ZacP2LIpMJF",
        "outputId": "b70f6e81-d291-4741-e3f1-6846ca8a57e8"
      },
      "source": [
        "mi_lista = ['Alejandro', 'Ramos', 6,22,78,108]\n",
        "mi_lista [3] = \"Pérez\"\n",
        "print(mi_lista)"
      ],
      "execution_count": 282,
      "outputs": [
        {
          "output_type": "stream",
          "name": "stdout",
          "text": [
            "['Alejandro', 'Ramos', 6, 'Pérez', 78, 108]\n"
          ]
        }
      ]
    },
    {
      "cell_type": "markdown",
      "metadata": {
        "id": "EQPs5ojoTVrk"
      },
      "source": [
        "A list can also be sliced with a colon:"
      ]
    },
    {
      "cell_type": "code",
      "metadata": {
        "colab": {
          "base_uri": "https://localhost:8080/"
        },
        "id": "keNX2RbtOqii",
        "outputId": "ef69d33b-aa65-4986-e1ae-9d7ea0e72549"
      },
      "source": [
        "my_list = ['Quant','Connect',1,2,3]\n",
        "print(my_list[1:3])"
      ],
      "execution_count": 283,
      "outputs": [
        {
          "output_type": "stream",
          "name": "stdout",
          "text": [
            "['Connect', 1]\n"
          ]
        }
      ]
    },
    {
      "cell_type": "code",
      "metadata": {
        "colab": {
          "base_uri": "https://localhost:8080/"
        },
        "id": "FycuszX7qWaP",
        "outputId": "805dd383-4930-456d-9282-21200506e12a"
      },
      "source": [
        "mi_lista = ['Alejandro', 'Ramos', 6,22,78,108]\n",
        "print(mi_lista[2:5])"
      ],
      "execution_count": 284,
      "outputs": [
        {
          "output_type": "stream",
          "name": "stdout",
          "text": [
            "[6, 22, 78]\n"
          ]
        }
      ]
    },
    {
      "cell_type": "markdown",
      "metadata": {
        "id": "AZqQd0K8TYul"
      },
      "source": [
        "The slice starts from the first element indicated, but excludes the last element indicated. Here we select all elements starting from index 1, which refers to the second element:"
      ]
    },
    {
      "cell_type": "code",
      "metadata": {
        "colab": {
          "base_uri": "https://localhost:8080/"
        },
        "id": "0-76sLfkOqii",
        "outputId": "30ecd6dd-c952-4902-d049-0ea16e0f2b20"
      },
      "source": [
        "print(my_list[1:])"
      ],
      "execution_count": 285,
      "outputs": [
        {
          "output_type": "stream",
          "name": "stdout",
          "text": [
            "['Connect', 1, 2, 3]\n"
          ]
        }
      ]
    },
    {
      "cell_type": "code",
      "metadata": {
        "colab": {
          "base_uri": "https://localhost:8080/"
        },
        "id": "L4-73h0rq8B1",
        "outputId": "fc720bda-ef76-4a81-d5b0-5255f56e546d"
      },
      "source": [
        "print(mi_lista[2:])"
      ],
      "execution_count": 286,
      "outputs": [
        {
          "output_type": "stream",
          "name": "stdout",
          "text": [
            "[6, 22, 78, 108]\n"
          ]
        }
      ]
    },
    {
      "cell_type": "markdown",
      "metadata": {
        "id": "XBqvhUdZVKWs"
      },
      "source": [
        "And all elements up to but excluding index 3:"
      ]
    },
    {
      "cell_type": "code",
      "metadata": {
        "colab": {
          "base_uri": "https://localhost:8080/"
        },
        "id": "5NWr75L9Oqii",
        "outputId": "f3d87c7c-ee6a-4612-ed70-8ea90840d154"
      },
      "source": [
        "print(my_list[:3])"
      ],
      "execution_count": 287,
      "outputs": [
        {
          "output_type": "stream",
          "name": "stdout",
          "text": [
            "['Quant', 'Connect', 1]\n"
          ]
        }
      ]
    },
    {
      "cell_type": "code",
      "metadata": {
        "colab": {
          "base_uri": "https://localhost:8080/"
        },
        "id": "K83zmeN1rIXz",
        "outputId": "5751593e-c5ce-43fb-9f3e-ce2241a300f0"
      },
      "source": [
        "print(mi_lista[:5])"
      ],
      "execution_count": 288,
      "outputs": [
        {
          "output_type": "stream",
          "name": "stdout",
          "text": [
            "['Alejandro', 'Ramos', 6, 22, 78]\n"
          ]
        }
      ]
    },
    {
      "cell_type": "markdown",
      "metadata": {
        "id": "eAFmM6bkTZz9"
      },
      "source": [
        "If you wish to add or remove an element from a list, you can use the append() and remove() methods for lists as follows:"
      ]
    },
    {
      "cell_type": "code",
      "metadata": {
        "colab": {
          "base_uri": "https://localhost:8080/"
        },
        "id": "pHmgTPElTo19",
        "outputId": "55859c93-4f81-43a0-f2cb-2b8e77a66b9a"
      },
      "source": [
        "my_list = ['Hello', 'Quant']\n",
        "my_list.append('Hello') #You can use the append() and remove() to add or remove an element from a list\n",
        "print(my_list)\n",
        "\n"
      ],
      "execution_count": 289,
      "outputs": [
        {
          "output_type": "stream",
          "name": "stdout",
          "text": [
            "['Hello', 'Quant', 'Hello']\n"
          ]
        }
      ]
    },
    {
      "cell_type": "code",
      "metadata": {
        "colab": {
          "base_uri": "https://localhost:8080/"
        },
        "id": "ZsQyep1ArlAz",
        "outputId": "2212c683-2604-4101-df48-9f6403643b22"
      },
      "source": [
        "mi_lista = ['Alejandro', 'Ramos']\n",
        "mi_lista.append('Pérez')\n",
        "print(mi_lista)"
      ],
      "execution_count": 290,
      "outputs": [
        {
          "output_type": "stream",
          "name": "stdout",
          "text": [
            "['Alejandro', 'Ramos', 'Pérez']\n"
          ]
        }
      ]
    },
    {
      "cell_type": "code",
      "metadata": {
        "colab": {
          "base_uri": "https://localhost:8080/"
        },
        "id": "4C4U1Yf0Tr8l",
        "outputId": "80936fc7-494d-4012-de58-9945e17bf2f4"
      },
      "source": [
        "my_list.remove('Hello') #You can use the append() and remove() to add or remove an element from a list\n",
        "print(my_list)"
      ],
      "execution_count": 291,
      "outputs": [
        {
          "output_type": "stream",
          "name": "stdout",
          "text": [
            "['Quant', 'Hello']\n"
          ]
        }
      ]
    },
    {
      "cell_type": "code",
      "metadata": {
        "colab": {
          "base_uri": "https://localhost:8080/"
        },
        "id": "lTXZ0_8Ur-Cg",
        "outputId": "af7601d5-9fd8-4425-baa0-b5d422405b60"
      },
      "source": [
        "mi_lista.remove('Ramos')\n",
        "print(mi_lista)"
      ],
      "execution_count": 292,
      "outputs": [
        {
          "output_type": "stream",
          "name": "stdout",
          "text": [
            "['Alejandro', 'Pérez']\n"
          ]
        }
      ]
    },
    {
      "cell_type": "markdown",
      "metadata": {
        "id": "11W1gG-cVmOU"
      },
      "source": [
        "When there are repeated instances of \"Hello\", the first one is removed.\n",
        "\n",
        "## Tuple\n",
        "A tuple is a data structure type similar to a list. The difference is that a tuple is immutable, which means you can't change the elements in it once it's defined. We create a tuple by putting comma-separated values between parentheses."
      ]
    },
    {
      "cell_type": "code",
      "metadata": {
        "collapsed": true,
        "id": "vPmn6BAaOqii"
      },
      "source": [
        "my_tuple = ('Welcome','to','QuantConnect')"
      ],
      "execution_count": 293,
      "outputs": []
    },
    {
      "cell_type": "code",
      "metadata": {
        "id": "EDrg3bm_tXWZ"
      },
      "source": [
        "mi_tupla =('Bienvenido','Alejandro','Ramos','Pérez')"
      ],
      "execution_count": 294,
      "outputs": []
    },
    {
      "cell_type": "markdown",
      "metadata": {
        "id": "zMIme4dDV0Wz"
      },
      "source": [
        "Just like a list, a tuple can be sliced by using index."
      ]
    },
    {
      "cell_type": "code",
      "metadata": {
        "colab": {
          "base_uri": "https://localhost:8080/"
        },
        "id": "8P-ddO0sOqii",
        "outputId": "a38f4c0c-4461-475e-9e58-61553bd06df8"
      },
      "source": [
        "my_tuple = ('Welcome','to','QuantConnect')\n",
        "print(my_tuple[1:])"
      ],
      "execution_count": 295,
      "outputs": [
        {
          "output_type": "stream",
          "name": "stdout",
          "text": [
            "('to', 'QuantConnect')\n"
          ]
        }
      ]
    },
    {
      "cell_type": "code",
      "metadata": {
        "colab": {
          "base_uri": "https://localhost:8080/"
        },
        "id": "dPslVjhdti2e",
        "outputId": "b2ac39b7-ae1b-44da-d387-0d9b1c7eb1e5"
      },
      "source": [
        "mi_tupla =('Bienvenido','Alejandro','Ramos','Pérez')\n",
        "print(mi_tupla[1:])"
      ],
      "execution_count": 296,
      "outputs": [
        {
          "output_type": "stream",
          "name": "stdout",
          "text": [
            "('Alejandro', 'Ramos', 'Pérez')\n"
          ]
        }
      ]
    },
    {
      "cell_type": "markdown",
      "metadata": {
        "id": "l2JqbusAV1Y2"
      },
      "source": [
        "## Set\n",
        "A set is an **unordered**  collection with **no duplicate** elements. The built-in function **set()** can be used to create sets."
      ]
    },
    {
      "cell_type": "code",
      "metadata": {
        "colab": {
          "base_uri": "https://localhost:8080/"
        },
        "id": "Plau8r-UOqij",
        "outputId": "c3961007-6207-4706-daf7-1bc9ad7cba3b"
      },
      "source": [
        "stock_list = ['AAPL','GOOG','IBM','AAPL','IBM','FB','F','GOOG']\n",
        "stock_set = set(stock_list) # The function set() can be used to create sets.\n",
        "print(stock_set)"
      ],
      "execution_count": 297,
      "outputs": [
        {
          "output_type": "stream",
          "name": "stdout",
          "text": [
            "{'F', 'FB', 'GOOG', 'AAPL', 'IBM'}\n"
          ]
        }
      ]
    },
    {
      "cell_type": "code",
      "metadata": {
        "colab": {
          "base_uri": "https://localhost:8080/"
        },
        "id": "LCf_qcyVuJBv",
        "outputId": "995e3926-9487-41ba-d04c-8de4b2029d55"
      },
      "source": [
        "stock_lista = ['li','lo','lu','li','le','le']\n",
        "stock_listaSet = set(stock_lista)\n",
        "print(stock_listaSet)"
      ],
      "execution_count": 298,
      "outputs": [
        {
          "output_type": "stream",
          "name": "stdout",
          "text": [
            "{'li', 'lu', 'le', 'lo'}\n"
          ]
        }
      ]
    },
    {
      "cell_type": "markdown",
      "metadata": {
        "id": "Jyb4GGIoWIHk"
      },
      "source": [
        "Set is an easy way to remove duplicate elements from a list.\n",
        "\n",
        "##Dictionary\n",
        "A dictionary is one of the most important data structures in Python. Unlike sequences which are indexed by integers, dictionaries are indexed by keys which can be either strings or floats.\n",
        "\n",
        "A dictionary is an **unordered** collection of key : value pairs, with the requirement that the keys are unique. We create a dictionary by placing a comma-separated list of key : value pairs within the braces."
      ]
    },
    {
      "cell_type": "code",
      "metadata": {
        "collapsed": true,
        "id": "36mTe5BaOqij"
      },
      "source": [
        "my_dic = {'AAPL':'AAPLE', 'FB':'FaceBook', 'GOOG':'Alphabet'}"
      ],
      "execution_count": 299,
      "outputs": []
    },
    {
      "cell_type": "code",
      "metadata": {
        "id": "wOSl8W-RGV-6"
      },
      "source": [
        "mi_dic ={'CR':'Carro','DS':'Disco','CN':'Cancion'}"
      ],
      "execution_count": 300,
      "outputs": []
    },
    {
      "cell_type": "code",
      "metadata": {
        "colab": {
          "base_uri": "https://localhost:8080/"
        },
        "id": "KUfdVf43Oqij",
        "outputId": "cbb13f4b-0579-4a91-f530-5ef484c7bf24"
      },
      "source": [
        "print(my_dic['GOOG'])"
      ],
      "execution_count": 301,
      "outputs": [
        {
          "output_type": "stream",
          "name": "stdout",
          "text": [
            "Alphabet\n"
          ]
        }
      ]
    },
    {
      "cell_type": "code",
      "metadata": {
        "colab": {
          "base_uri": "https://localhost:8080/"
        },
        "id": "yTcRGGb_G8Xg",
        "outputId": "593eb49b-7b7c-45de-b39d-77465e704131"
      },
      "source": [
        "print(mi_dic['DS'])"
      ],
      "execution_count": 302,
      "outputs": [
        {
          "output_type": "stream",
          "name": "stdout",
          "text": [
            "Disco\n"
          ]
        }
      ]
    },
    {
      "cell_type": "markdown",
      "metadata": {
        "id": "gSicoNqDWP4c"
      },
      "source": [
        "After defining a dictionary, we can access any value by indicating its key in brackets."
      ]
    },
    {
      "cell_type": "code",
      "metadata": {
        "colab": {
          "base_uri": "https://localhost:8080/"
        },
        "id": "IrTZdq9FOqij",
        "outputId": "16809f37-cf2b-4377-af96-5e1f25961574"
      },
      "source": [
        "my_dic['GOOG'] = 'Alphabet Company'\n",
        "print(my_dic['GOOG'])"
      ],
      "execution_count": 303,
      "outputs": [
        {
          "output_type": "stream",
          "name": "stdout",
          "text": [
            "Alphabet Company\n"
          ]
        }
      ]
    },
    {
      "cell_type": "code",
      "metadata": {
        "colab": {
          "base_uri": "https://localhost:8080/"
        },
        "id": "zh47GiXCH9pj",
        "outputId": "aa403b74-1a8d-483a-eb34-f34cd9c17eb7"
      },
      "source": [
        "mi_dic['DS'] = 'Discoteca'\n",
        "print(mi_dic['DS'])"
      ],
      "execution_count": 304,
      "outputs": [
        {
          "output_type": "stream",
          "name": "stdout",
          "text": [
            "Discoteca\n"
          ]
        }
      ]
    },
    {
      "cell_type": "markdown",
      "metadata": {
        "id": "M9sDsTEMWQvc"
      },
      "source": [
        "We can also change the value associated with a specified key:"
      ]
    },
    {
      "cell_type": "code",
      "metadata": {
        "colab": {
          "base_uri": "https://localhost:8080/"
        },
        "id": "lupRHf1_Oqij",
        "outputId": "7175c667-661d-43e7-9a63-e0a2bc480320"
      },
      "source": [
        "print(my_dic.keys())"
      ],
      "execution_count": 305,
      "outputs": [
        {
          "output_type": "stream",
          "name": "stdout",
          "text": [
            "dict_keys(['AAPL', 'FB', 'GOOG'])\n"
          ]
        }
      ]
    },
    {
      "cell_type": "code",
      "metadata": {
        "colab": {
          "base_uri": "https://localhost:8080/"
        },
        "id": "tWT8NgB3IbsP",
        "outputId": "fd871438-acd8-45b1-ce64-ea648f19e376"
      },
      "source": [
        "print(mi_dic.keys())"
      ],
      "execution_count": 306,
      "outputs": [
        {
          "output_type": "stream",
          "name": "stdout",
          "text": [
            "dict_keys(['CR', 'DS', 'CN'])\n"
          ]
        }
      ]
    },
    {
      "cell_type": "markdown",
      "metadata": {
        "id": "VPuDinlwWS9D"
      },
      "source": [
        "The built-in method of the dictionary object dict.keys() returns a list of all the keys used in the dictionary."
      ]
    },
    {
      "cell_type": "markdown",
      "metadata": {
        "id": "kSGzgNb2Womz"
      },
      "source": [
        "# Common String Operations\n",
        "A string is an immutable sequence of characters. It can be sliced by index just like a tuple:"
      ]
    },
    {
      "cell_type": "code",
      "metadata": {
        "colab": {
          "base_uri": "https://localhost:8080/"
        },
        "id": "xPojDnm9Oqik",
        "outputId": "ce4337a9-7553-4f95-d46a-1be0f538d153"
      },
      "source": [
        "my_str = 'Welcome to QuantConnect'\n",
        "print(my_str[8:])"
      ],
      "execution_count": 307,
      "outputs": [
        {
          "output_type": "stream",
          "name": "stdout",
          "text": [
            "to QuantConnect\n"
          ]
        }
      ]
    },
    {
      "cell_type": "code",
      "metadata": {
        "colab": {
          "base_uri": "https://localhost:8080/"
        },
        "id": "mcNwZhNtIwtR",
        "outputId": "22a45371-887d-4f19-9727-facd333cc026"
      },
      "source": [
        "my_str = 'Bienvenido Alejandro Ramos'\n",
        "print(my_str[10:])"
      ],
      "execution_count": 308,
      "outputs": [
        {
          "output_type": "stream",
          "name": "stdout",
          "text": [
            " Alejandro Ramos\n"
          ]
        }
      ]
    },
    {
      "cell_type": "markdown",
      "metadata": {
        "id": "wuJYy7tvWtM7"
      },
      "source": [
        "There are many methods associated with strings. We can use string.count() to count the occurrences of a character in a string, use string.find() to return the index of a specific character, and use string.replace() to replace characters"
      ]
    },
    {
      "cell_type": "code",
      "metadata": {
        "colab": {
          "base_uri": "https://localhost:8080/"
        },
        "id": "u9deZq1SOqik",
        "outputId": "b0c8cedc-c1cc-441d-814e-01ad6218c0a7"
      },
      "source": [
        "print('Counting the number of e appears in this sentence'.count('e'))#string.count() is used to count the occurrences of a character in a string\n",
        "print('The first time e appears in this sentence'.find('e')) #string.find() is used to return the index of a specific character\n",
        "print('all the a in this sentence now becomes e'.replace('a','e'))#string.replace() is used to replace characters"
      ],
      "execution_count": 309,
      "outputs": [
        {
          "output_type": "stream",
          "name": "stdout",
          "text": [
            "7\n",
            "2\n",
            "ell the e in this sentence now becomes e\n"
          ]
        }
      ]
    },
    {
      "cell_type": "code",
      "metadata": {
        "colab": {
          "base_uri": "https://localhost:8080/"
        },
        "id": "HQTQsnHmKTtI",
        "outputId": "ba2ac31c-1d28-46a8-8736-0872d54964b4"
      },
      "source": [
        "print('Este año no volvemos a la universidad'.count('a'))\n",
        "print('la virtualidad cansa'.find('u'))\n",
        "print('la presencialidad hace falta'.replace('e','a'))"
      ],
      "execution_count": 310,
      "outputs": [
        {
          "output_type": "stream",
          "name": "stdout",
          "text": [
            "4\n",
            "7\n",
            "la prasancialidad haca falta\n"
          ]
        }
      ]
    },
    {
      "cell_type": "markdown",
      "metadata": {
        "id": "sJPn3rkvWwHN"
      },
      "source": [
        "The most commonly used method for strings is string.split(). This method will split the string by the indicated character and return a list:"
      ]
    },
    {
      "cell_type": "code",
      "metadata": {
        "colab": {
          "base_uri": "https://localhost:8080/"
        },
        "id": "hbIaFLFHOqik",
        "outputId": "9d1c3c5a-891b-4881-de50-8e5b46cbceee"
      },
      "source": [
        "Time = '2016-04-01 09:43:00'\n",
        "splited_list = Time.split(' ')\n",
        "date = splited_list[0]\n",
        "time = splited_list[1]\n",
        "print(date, time)\n",
        "hour = time.split(':')[0] #string.split() is used to split the string by the indicated character and return a list\n",
        "print(hour)"
      ],
      "execution_count": 311,
      "outputs": [
        {
          "output_type": "stream",
          "name": "stdout",
          "text": [
            "2016-04-01 09:43:00\n",
            "09\n"
          ]
        }
      ]
    },
    {
      "cell_type": "code",
      "metadata": {
        "colab": {
          "base_uri": "https://localhost:8080/"
        },
        "id": "fnkzRUm-L7AF",
        "outputId": "54e5cae1-f109-41f6-89b6-796322d36034"
      },
      "source": [
        "Time = '2021-10-19 13:14:00'\n",
        "splited_list = Time.split(' ')\n",
        "date = splited_list[0]\n",
        "time = splited_list[1]\n",
        "print(date, time)\n",
        "hour = time.split(':')[0]\n",
        "print(hour)"
      ],
      "execution_count": 312,
      "outputs": [
        {
          "output_type": "stream",
          "name": "stdout",
          "text": [
            "2021-10-19 13:14:00\n",
            "13\n"
          ]
        }
      ]
    },
    {
      "cell_type": "markdown",
      "metadata": {
        "id": "9cJQGk96WyVc"
      },
      "source": [
        "We can replace parts of a string by our variable. This is called string formatting."
      ]
    },
    {
      "cell_type": "code",
      "metadata": {
        "colab": {
          "base_uri": "https://localhost:8080/"
        },
        "id": "-E_rIvv6Oqik",
        "outputId": "233221ed-d40b-4110-c082-c74686ef0b30"
      },
      "source": [
        "my_time = 'Hour: {}, Minute:{}'.format('09','43')\n",
        "print(my_time)"
      ],
      "execution_count": 313,
      "outputs": [
        {
          "output_type": "stream",
          "name": "stdout",
          "text": [
            "Hour: 09, Minute:43\n"
          ]
        }
      ]
    },
    {
      "cell_type": "code",
      "metadata": {
        "colab": {
          "base_uri": "https://localhost:8080/"
        },
        "id": "W_aInB6yMqt5",
        "outputId": "2b09e1dc-ea0a-47d6-ab9a-4a107af3a878"
      },
      "source": [
        "my_time = 'Hour: {}, Minute:{}'.format('13','14')\n",
        "print(my_time)"
      ],
      "execution_count": 314,
      "outputs": [
        {
          "output_type": "stream",
          "name": "stdout",
          "text": [
            "Hour: 13, Minute:14\n"
          ]
        }
      ]
    },
    {
      "cell_type": "markdown",
      "metadata": {
        "id": "1_NbVldpWzAs"
      },
      "source": [
        "Another way to format a string is to use the % symbol."
      ]
    },
    {
      "cell_type": "code",
      "metadata": {
        "colab": {
          "base_uri": "https://localhost:8080/"
        },
        "id": "4rZ4rkD2Oqik",
        "outputId": "40f7424e-8113-4936-813b-1a102b28b08a"
      },
      "source": [
        "print('the pi number is %f'%3.14)\n",
        "print('%s to %s'%('Welcome','Quantconnect'))"
      ],
      "execution_count": 315,
      "outputs": [
        {
          "output_type": "stream",
          "name": "stdout",
          "text": [
            "the pi number is 3.140000\n",
            "Welcome to Quantconnect\n"
          ]
        }
      ]
    },
    {
      "cell_type": "code",
      "metadata": {
        "colab": {
          "base_uri": "https://localhost:8080/"
        },
        "id": "ihncVZOlNNhQ",
        "outputId": "fccbced5-1a0a-4ec9-ca05-d90234a23e0a"
      },
      "source": [
        "print('el año actual es %i'%2021)\n",
        "print('Estamos en %s , dia %s'%('Octubre','Catorce'))"
      ],
      "execution_count": 316,
      "outputs": [
        {
          "output_type": "stream",
          "name": "stdout",
          "text": [
            "el año actual es 2021\n",
            "Estamos en Octubre , dia Catorce\n"
          ]
        }
      ]
    },
    {
      "cell_type": "markdown",
      "metadata": {
        "id": "v_5cocrDW3MN"
      },
      "source": [
        "# Summary\n",
        "\n",
        "Weave seen the basic data types and data structures in Python. It's important to keep practicing to become familiar with these data structures. In the next tutorial, we will cover for and while loops and logical operations in Python."
      ]
    },
    {
      "cell_type": "markdown",
      "metadata": {
        "id": "QL6dNxwCXNEt"
      },
      "source": [
        "<div align=\"center\">\n",
        "<img style=\"display: block; margin: auto;\" alt=\"photo\" src=\"https://cdn.quantconnect.com/web/i/icon.png\">\n",
        "\n",
        "Quantconnect\n",
        "\n",
        "Introduction to Financial Python\n",
        "</div>\n",
        "\n",
        "# 02 Logical Operations and Loops\n",
        "\n",
        "# Introduction\n",
        "We discussed the basic data types and data structures in Python in the last tutorial. This chapter covers logical operations and loops in Python, which are very common in programming.\n",
        "\n",
        "# Logical Operations\n",
        "Like most programming languages, Python has comparison operators:"
      ]
    },
    {
      "cell_type": "code",
      "metadata": {
        "colab": {
          "base_uri": "https://localhost:8080/"
        },
        "id": "70Guys_rOv7a",
        "outputId": "e9bbfa34-248a-4124-badb-21542f108bda"
      },
      "source": [
        "print(1 == 0)\n",
        "print(1 == 1)\n",
        "print(1 != 0)\n",
        "print(5 >= 5)\n",
        "print(5 >= 6)"
      ],
      "execution_count": 317,
      "outputs": [
        {
          "output_type": "stream",
          "name": "stdout",
          "text": [
            "False\n",
            "True\n",
            "True\n",
            "True\n",
            "False\n"
          ]
        }
      ]
    },
    {
      "cell_type": "code",
      "metadata": {
        "colab": {
          "base_uri": "https://localhost:8080/"
        },
        "id": "Mi7rtcKkQ5dB",
        "outputId": "64fc23cc-ec49-41f3-ecee-47cb7e41db7a"
      },
      "source": [
        "print(25 == 25)\n",
        "print(12 == 1)\n",
        "print(0 != 0)\n",
        "print(85 >= 80)\n",
        "print(41 >= 41)"
      ],
      "execution_count": 318,
      "outputs": [
        {
          "output_type": "stream",
          "name": "stdout",
          "text": [
            "True\n",
            "False\n",
            "False\n",
            "True\n",
            "True\n"
          ]
        }
      ]
    },
    {
      "cell_type": "markdown",
      "metadata": {
        "id": "8aFHYDj-YTXt"
      },
      "source": [
        "Each statement above has a boolean value, which must be either True or False, but not both.\n",
        "\n",
        "We can combine simple statements P and Q to form complex statements using logical operators:\n",
        "\n",
        "- The statement \"P and Q\" is true if both P and Q are true, otherwise it is false.\n",
        "- The statement \"P or Q\" is false if both P and Q are false, otherwise it is true.\n",
        "- The statement \"not P\" is true if P is false, and vice versa."
      ]
    },
    {
      "cell_type": "code",
      "metadata": {
        "colab": {
          "base_uri": "https://localhost:8080/"
        },
        "id": "O5YEEcUbOv7d",
        "outputId": "942861c2-51bf-4285-a176-095de42ca314"
      },
      "source": [
        "print(2 > 1 and 3 > 2)\n",
        "print(2 > 1 and 3 < 2) \n",
        "print(2 > 1 or 3 < 2)\n",
        "print(2 < 1 and 3 < 2)"
      ],
      "execution_count": 319,
      "outputs": [
        {
          "output_type": "stream",
          "name": "stdout",
          "text": [
            "True\n",
            "False\n",
            "True\n",
            "False\n"
          ]
        }
      ]
    },
    {
      "cell_type": "code",
      "metadata": {
        "colab": {
          "base_uri": "https://localhost:8080/"
        },
        "id": "cy3kuoZ8R3bn",
        "outputId": "f38fb4da-afd1-4ae9-a542-4f9d39b87c86"
      },
      "source": [
        "print(32 > 20 and 1 > 2)\n",
        "print(10 > 8 and 3 < 5) \n",
        "print(16 > 40 or 5 < 2)\n",
        "print(0 < 1 or 3 < 2)"
      ],
      "execution_count": 320,
      "outputs": [
        {
          "output_type": "stream",
          "name": "stdout",
          "text": [
            "False\n",
            "True\n",
            "False\n",
            "True\n"
          ]
        }
      ]
    },
    {
      "cell_type": "markdown",
      "metadata": {
        "id": "Dy7yzoSXYXmL"
      },
      "source": [
        "When dealing with a very complex logical statement that involves in several statements, we can use brackets to separate and combine them."
      ]
    },
    {
      "cell_type": "code",
      "metadata": {
        "colab": {
          "base_uri": "https://localhost:8080/"
        },
        "id": "QZ-W2xJZOv7d",
        "outputId": "547ebea3-1fc9-4d45-91da-503ef965ffff"
      },
      "source": [
        "print((3 > 2 or 1 < 3) and (1!=3 and 4>3) and not ( 3 < 2 or 1 < 3 and (1!=3 and 4>3)))\n",
        "print(3 > 2 or 1 < 3 and (1!=3 and 4>3) and not ( 3 < 2 or 1 < 3 and (1!=3 and 4>3)))"
      ],
      "execution_count": 321,
      "outputs": [
        {
          "output_type": "stream",
          "name": "stdout",
          "text": [
            "False\n",
            "True\n"
          ]
        }
      ]
    },
    {
      "cell_type": "code",
      "metadata": {
        "colab": {
          "base_uri": "https://localhost:8080/"
        },
        "id": "FqfdDDacYUUR",
        "outputId": "0bfa0d4d-6690-444a-a0ac-304a378dba6b"
      },
      "source": [
        "print((20 > 8 or 54 < 14) and not (9==45 and 4>3) and ( 0 < 35 or 7 < 3 and (5!=5 and 85>29)))\n",
        "print(0 > 5 and 65 < 80 and not (3==3 and 17>3) and not ( 1 < 7 or 1 < 0 and (12 < 22 and 24>23)))"
      ],
      "execution_count": 322,
      "outputs": [
        {
          "output_type": "stream",
          "name": "stdout",
          "text": [
            "True\n",
            "False\n"
          ]
        }
      ]
    },
    {
      "cell_type": "markdown",
      "metadata": {
        "id": "s95xoRYMYaPD"
      },
      "source": [
        "Comparing the above two statements, we can see that it's wise to use brackets when we make a complex logical statement.\n",
        "\n",
        "# If Statement\n",
        "An if statement executes a segment of code only if its condition is true. A standard if statement consists of 3 segments: if, elif and else."
      ]
    },
    {
      "cell_type": "markdown",
      "metadata": {
        "id": "aRzMMitAaBOL"
      },
      "source": [
        "```python\n",
        "if statement1:\n",
        "    # if the statement1 is true, execute the code here.\n",
        "    # code.....\n",
        "    # code.....\n",
        "elif statement2:\n",
        "    # if the statement 1 is false, skip the codes above to this part.\n",
        "    # code......\n",
        "    # code......\n",
        "else:\n",
        "    # if none of the above statements is True, skip to this part\n",
        "    # code......\n",
        "```"
      ]
    },
    {
      "cell_type": "markdown",
      "metadata": {
        "id": "l59R2AS8aH2K"
      },
      "source": [
        "An if statement doesn't necessarily has elif and else part. If it's not specified, the indented block of code will be executed when the condition is true, otherwise the whole if statement will be skipped."
      ]
    },
    {
      "cell_type": "code",
      "metadata": {
        "colab": {
          "base_uri": "https://localhost:8080/"
        },
        "id": "FZ5GoTXfOv7e",
        "outputId": "c8b85142-5cac-4620-f011-3d9a8c7a29d1"
      },
      "source": [
        "i = 0\n",
        "if i == 0:\n",
        "    print('i==0 is True')"
      ],
      "execution_count": 323,
      "outputs": [
        {
          "output_type": "stream",
          "name": "stdout",
          "text": [
            "i==0 is True\n"
          ]
        }
      ]
    },
    {
      "cell_type": "code",
      "metadata": {
        "colab": {
          "base_uri": "https://localhost:8080/"
        },
        "id": "SEMqXQOIby6O",
        "outputId": "06fa3988-e479-4fda-f448-273cd6e838ea"
      },
      "source": [
        "i = 25\n",
        "if i !=0:\n",
        "    print('i==0 is False')"
      ],
      "execution_count": 324,
      "outputs": [
        {
          "output_type": "stream",
          "name": "stdout",
          "text": [
            "i==0 is False\n"
          ]
        }
      ]
    },
    {
      "cell_type": "markdown",
      "metadata": {
        "id": "nPNW-l5eaJn8"
      },
      "source": [
        "As we mentioned above, we can write some complex statements here:"
      ]
    },
    {
      "cell_type": "code",
      "metadata": {
        "colab": {
          "base_uri": "https://localhost:8080/"
        },
        "id": "gh-U6nMzOv7e",
        "outputId": "5c80f1df-9488-4865-8c91-940c2bb2b519"
      },
      "source": [
        "p = 1 > 0\n",
        "q = 2 > 3\n",
        "if p and q:\n",
        "    print('p and q is true')\n",
        "elif p and not q:\n",
        "    print('q is false')\n",
        "elif q and not p:\n",
        "    print('p is false')\n",
        "else:\n",
        "    print('None of p and q is true')"
      ],
      "execution_count": 325,
      "outputs": [
        {
          "output_type": "stream",
          "name": "stdout",
          "text": [
            "q is false\n"
          ]
        }
      ]
    },
    {
      "cell_type": "code",
      "metadata": {
        "colab": {
          "base_uri": "https://localhost:8080/"
        },
        "id": "oVrolb_MdLqe",
        "outputId": "c728eee7-c2d4-4d62-c384-b6d06c73f930"
      },
      "source": [
        "p = 14 > 15\n",
        "q = 24 > 1\n",
        "if p and q:\n",
        "    print('p and q is true')\n",
        "elif p and not q:\n",
        "    print('q is false')\n",
        "elif q and not p:\n",
        "    print('p is false')\n",
        "else:\n",
        "    print('None of p and q is true')"
      ],
      "execution_count": 326,
      "outputs": [
        {
          "output_type": "stream",
          "name": "stdout",
          "text": [
            "p is false\n"
          ]
        }
      ]
    },
    {
      "cell_type": "markdown",
      "metadata": {
        "id": "tgRDwiAsaMOL"
      },
      "source": [
        "# Loop Structure\n",
        "Loops are an essential part of programming. The \"for\" and \"while\" loops run a block of code repeatedly.\n",
        "\n",
        "## While Loop\n",
        "A \"while\" loop will run repeatedly until a certain condition has been met."
      ]
    },
    {
      "cell_type": "code",
      "metadata": {
        "colab": {
          "base_uri": "https://localhost:8080/"
        },
        "id": "uQLau8d5Ov7f",
        "outputId": "162b92fa-3d4d-4b3a-815b-7de891d4b7fc"
      },
      "source": [
        "i = 0\n",
        "while i < 5:\n",
        "    print(i)\n",
        "    i += 1 "
      ],
      "execution_count": 327,
      "outputs": [
        {
          "output_type": "stream",
          "name": "stdout",
          "text": [
            "0\n",
            "1\n",
            "2\n",
            "3\n",
            "4\n"
          ]
        }
      ]
    },
    {
      "cell_type": "code",
      "metadata": {
        "colab": {
          "base_uri": "https://localhost:8080/"
        },
        "id": "JPpUxB40eMlC",
        "outputId": "086300c8-7d7a-4a3d-845b-0549cec1f1b3"
      },
      "source": [
        "j = 15\n",
        "while j > 5:\n",
        "    print(j)\n",
        "    j -= 1"
      ],
      "execution_count": 328,
      "outputs": [
        {
          "output_type": "stream",
          "name": "stdout",
          "text": [
            "15\n",
            "14\n",
            "13\n",
            "12\n",
            "11\n",
            "10\n",
            "9\n",
            "8\n",
            "7\n",
            "6\n"
          ]
        }
      ]
    },
    {
      "cell_type": "markdown",
      "metadata": {
        "id": "ydLddFAPaTOE"
      },
      "source": [
        "When making a while loop, we need to ensure that something changes from iteration to iteration so that the while loop will terminate, otherwise, it will run forever. Here we used i += 1 (short for i = i + 1) to make i larger after each iteration. This is the most commonly used method to control a while loop.\n",
        "\n",
        "## For Loop\n",
        "A \"for\" loop will iterate over a sequence of value and terminate when the sequence has ended."
      ]
    },
    {
      "cell_type": "code",
      "metadata": {
        "colab": {
          "base_uri": "https://localhost:8080/"
        },
        "id": "kt8Ie8u1Ov7f",
        "outputId": "89a78f79-57ff-48eb-e5e4-4eb0a0ddc8b5"
      },
      "source": [
        "for i in [1,2,3,4,5]:\n",
        "    print(i)"
      ],
      "execution_count": 329,
      "outputs": [
        {
          "output_type": "stream",
          "name": "stdout",
          "text": [
            "1\n",
            "2\n",
            "3\n",
            "4\n",
            "5\n"
          ]
        }
      ]
    },
    {
      "cell_type": "code",
      "metadata": {
        "colab": {
          "base_uri": "https://localhost:8080/"
        },
        "id": "pIYeTW_-fSWN",
        "outputId": "4397e6e8-cf1f-46c1-9f98-0803af545088"
      },
      "source": [
        "for j in [233,'ca',3,14,'Ramos']:\n",
        "    print(j)"
      ],
      "execution_count": 330,
      "outputs": [
        {
          "output_type": "stream",
          "name": "stdout",
          "text": [
            "233\n",
            "ca\n",
            "3\n",
            "14\n",
            "Ramos\n"
          ]
        }
      ]
    },
    {
      "cell_type": "markdown",
      "metadata": {
        "id": "yWStqpreaX-T"
      },
      "source": [
        "We can also add if statements in a for loop. Here is a real example from our pairs trading algorithm:"
      ]
    },
    {
      "cell_type": "code",
      "metadata": {
        "colab": {
          "base_uri": "https://localhost:8080/"
        },
        "id": "kElmffvFOv7f",
        "outputId": "335d71f5-2c4d-48f2-a50f-e057c61fd778"
      },
      "source": [
        "stocks = ['AAPL','GOOG','IBM','FB','F','V', 'G', 'GE']\n",
        "selected = ['AAPL','IBM']\n",
        "new_list = []\n",
        "for i in stocks:\n",
        "    if i not in selected:\n",
        "        new_list.append(i)\n",
        "print(stocks)"
      ],
      "execution_count": 331,
      "outputs": [
        {
          "output_type": "stream",
          "name": "stdout",
          "text": [
            "['AAPL', 'GOOG', 'IBM', 'FB', 'F', 'V', 'G', 'GE']\n"
          ]
        }
      ]
    },
    {
      "cell_type": "code",
      "metadata": {
        "colab": {
          "base_uri": "https://localhost:8080/"
        },
        "id": "3aHezSpRhNvC",
        "outputId": "124f4590-115d-4677-c5c1-7049cb377c94"
      },
      "source": [
        "stocks = ['CA','MI','O','NE','TA','R', 'X']\n",
        "selected = ['O','X']\n",
        "new_list = []\n",
        "for i in stocks:\n",
        "    if i not in selected:\n",
        "        new_list.append(i)\n",
        "print(stocks)"
      ],
      "execution_count": 332,
      "outputs": [
        {
          "output_type": "stream",
          "name": "stdout",
          "text": [
            "['CA', 'MI', 'O', 'NE', 'TA', 'R', 'X']\n"
          ]
        }
      ]
    },
    {
      "cell_type": "markdown",
      "metadata": {
        "id": "wb2hry9dahE0"
      },
      "source": [
        "Here we iterated all the elements in the list 'stocks'. Later in this chapter, we will introduce a smarter way to do this, which is just a one-line code.\n",
        "\n",
        "## Break and continue\n",
        "These are two commonly used commands in a for loop. If \"break\" is triggered while a loop is executing, the loop will terminate immediately:"
      ]
    },
    {
      "cell_type": "code",
      "metadata": {
        "colab": {
          "base_uri": "https://localhost:8080/"
        },
        "id": "yF5wMVItOv7g",
        "outputId": "3a2e0423-70b9-4084-c5ff-97ed67f37943"
      },
      "source": [
        "stocks = ['AAPL','GOOG','IBM','FB','F','V', 'G', 'GE']\n",
        "for i in stocks:\n",
        "    print(i)\n",
        "    if i == 'FB':\n",
        "        break"
      ],
      "execution_count": 333,
      "outputs": [
        {
          "output_type": "stream",
          "name": "stdout",
          "text": [
            "AAPL\n",
            "GOOG\n",
            "IBM\n",
            "FB\n"
          ]
        }
      ]
    },
    {
      "cell_type": "code",
      "metadata": {
        "colab": {
          "base_uri": "https://localhost:8080/"
        },
        "id": "EDC_OHJgh26x",
        "outputId": "62c5a50c-8954-4385-d412-b3ab242db3d4"
      },
      "source": [
        "stocks = ['CA','MI','O','NE','TA','R', 'X']\n",
        "for i in stocks:\n",
        "    print(i)\n",
        "    if i == 'R':\n",
        "        break"
      ],
      "execution_count": 334,
      "outputs": [
        {
          "output_type": "stream",
          "name": "stdout",
          "text": [
            "CA\n",
            "MI\n",
            "O\n",
            "NE\n",
            "TA\n",
            "R\n"
          ]
        }
      ]
    },
    {
      "cell_type": "markdown",
      "metadata": {
        "id": "R0toxyp3ao0T"
      },
      "source": [
        "The \"continue\" command tells the loop to end this iteration and skip to the next iteration:"
      ]
    },
    {
      "cell_type": "code",
      "metadata": {
        "colab": {
          "base_uri": "https://localhost:8080/"
        },
        "id": "Stg-CH6IOv7g",
        "outputId": "26a333db-1258-44b9-9e93-ade8c1c249da"
      },
      "source": [
        "stocks = ['AAPL','GOOG','IBM','FB','F','V', 'G', 'GE']\n",
        "for i in stocks:\n",
        "    if i == 'FB':\n",
        "        continue\n",
        "    print(i)"
      ],
      "execution_count": 335,
      "outputs": [
        {
          "output_type": "stream",
          "name": "stdout",
          "text": [
            "AAPL\n",
            "GOOG\n",
            "IBM\n",
            "F\n",
            "V\n",
            "G\n",
            "GE\n"
          ]
        }
      ]
    },
    {
      "cell_type": "code",
      "metadata": {
        "colab": {
          "base_uri": "https://localhost:8080/"
        },
        "id": "ELJQF4UEiECl",
        "outputId": "b6d4f052-443e-4df2-ac59-49f2af2ac222"
      },
      "source": [
        "stocks = ['CA','MI','O','NE','TA','R', 'X']\n",
        "for i in stocks:\n",
        "    if i == 'NE':\n",
        "        continue\n",
        "    print(i)"
      ],
      "execution_count": 336,
      "outputs": [
        {
          "output_type": "stream",
          "name": "stdout",
          "text": [
            "CA\n",
            "MI\n",
            "O\n",
            "TA\n",
            "R\n",
            "X\n"
          ]
        }
      ]
    },
    {
      "cell_type": "markdown",
      "metadata": {
        "id": "4NusvdhBaxpZ"
      },
      "source": [
        "# List Comprehension\n",
        "List comprehension is a Pythonic way to create lists. Common applications are to make new lists where each element is the result of some operations applied to each member of another sequence. For example, if we want to create a list of squares using for loop:"
      ]
    },
    {
      "cell_type": "code",
      "metadata": {
        "colab": {
          "base_uri": "https://localhost:8080/"
        },
        "id": "bdxxeOABOv7h",
        "outputId": "32207599-22d5-4c56-b222-90c6958a229c"
      },
      "source": [
        "squares = []\n",
        "for i in [1,2,3,4,5]:\n",
        "    squares.append(i**2)\n",
        "print(squares)"
      ],
      "execution_count": 337,
      "outputs": [
        {
          "output_type": "stream",
          "name": "stdout",
          "text": [
            "[1, 4, 9, 16, 25]\n"
          ]
        }
      ]
    },
    {
      "cell_type": "code",
      "metadata": {
        "colab": {
          "base_uri": "https://localhost:8080/"
        },
        "id": "JlJcL0z6jDAJ",
        "outputId": "06967198-ee69-415a-b3a1-7b4fdfa9dd0c"
      },
      "source": [
        "squares = []\n",
        "for i in [4,2,4,2,4]:\n",
        "    squares.append(i**3)\n",
        "print(squares)"
      ],
      "execution_count": 338,
      "outputs": [
        {
          "output_type": "stream",
          "name": "stdout",
          "text": [
            "[64, 8, 64, 8, 64]\n"
          ]
        }
      ]
    },
    {
      "cell_type": "markdown",
      "metadata": {
        "id": "--KliJBOa1CC"
      },
      "source": [
        "Using list comprehension:"
      ]
    },
    {
      "cell_type": "code",
      "metadata": {
        "colab": {
          "base_uri": "https://localhost:8080/"
        },
        "id": "440-yjG8Ov7h",
        "outputId": "2cd76254-41f1-4f26-809d-92a67d6bf60a"
      },
      "source": [
        "list = [1,2,3,4,5]\n",
        "squares = [x**2 for x in list]\n",
        "print(squares)"
      ],
      "execution_count": 339,
      "outputs": [
        {
          "output_type": "stream",
          "name": "stdout",
          "text": [
            "[1, 4, 9, 16, 25]\n"
          ]
        }
      ]
    },
    {
      "cell_type": "code",
      "metadata": {
        "colab": {
          "base_uri": "https://localhost:8080/"
        },
        "id": "wkQeH-ADjcV9",
        "outputId": "e3f2aefa-5643-483f-ae21-31eb56c9a492"
      },
      "source": [
        "list = [4,2,4,2,4]\n",
        "squares = [x**2 for x in list]\n",
        "print(squares)\n"
      ],
      "execution_count": 340,
      "outputs": [
        {
          "output_type": "stream",
          "name": "stdout",
          "text": [
            "[16, 4, 16, 4, 16]\n"
          ]
        }
      ]
    },
    {
      "cell_type": "code",
      "metadata": {
        "id": "IP_hN_t2pZVb"
      },
      "source": [
        "list = [1,2,3,4,5]"
      ],
      "execution_count": 341,
      "outputs": []
    },
    {
      "cell_type": "markdown",
      "metadata": {
        "id": "uMuCfR3ya3zT"
      },
      "source": [
        "Recall the example above where we used a for loop to select stocks. Here we use list comprehension:"
      ]
    },
    {
      "cell_type": "code",
      "metadata": {
        "colab": {
          "base_uri": "https://localhost:8080/"
        },
        "id": "ZGtCtog2Ov7h",
        "outputId": "e15d6f70-4f02-4d9a-f2de-719e20c9d31e"
      },
      "source": [
        "stocks = ['AAPL','GOOG','IBM','FB','F','V', 'G', 'GE']\n",
        "selected = ['AAPL','IBM']\n",
        "new_list = [x for x in stocks if x in selected]\n",
        "print(new_list)"
      ],
      "execution_count": 342,
      "outputs": [
        {
          "output_type": "stream",
          "name": "stdout",
          "text": [
            "['AAPL', 'IBM']\n"
          ]
        }
      ]
    },
    {
      "cell_type": "code",
      "metadata": {
        "colab": {
          "base_uri": "https://localhost:8080/"
        },
        "id": "rzgGZ82fju4t",
        "outputId": "7b36bd78-9990-4f42-d77f-7bf931fb0b5a"
      },
      "source": [
        "stocks = ['CA','MI','O','NE','TA','R', 'X']\n",
        "selected = ['NE','TA','R']\n",
        "new_list = [x for x in stocks if x in selected]\n",
        "print(new_list)"
      ],
      "execution_count": 343,
      "outputs": [
        {
          "output_type": "stream",
          "name": "stdout",
          "text": [
            "['NE', 'TA', 'R']\n"
          ]
        }
      ]
    },
    {
      "cell_type": "markdown",
      "metadata": {
        "id": "EPeUv6Lia5oD"
      },
      "source": [
        "A list comprehension consists of square brackets containing an expression followed by a \"for\" clause, and possibly \"for\" or \"if\" clauses. For example:"
      ]
    },
    {
      "cell_type": "code",
      "metadata": {
        "colab": {
          "base_uri": "https://localhost:8080/"
        },
        "id": "O1AMB5d7Ov7i",
        "outputId": "26a655e0-d6ca-4c51-92bc-5c76d45ec609"
      },
      "source": [
        "print([(x, y) for x in [1,2,3] for y in [3,1,4] if x != y])\n",
        "print([str(x)+' vs '+str(y) for x in ['AAPL','GOOG','IBM','FB'] for y in ['F','V','G','GE'] if x!=y])"
      ],
      "execution_count": 344,
      "outputs": [
        {
          "output_type": "stream",
          "name": "stdout",
          "text": [
            "[(1, 3), (1, 4), (2, 3), (2, 1), (2, 4), (3, 1), (3, 4)]\n",
            "['AAPL vs F', 'AAPL vs V', 'AAPL vs G', 'AAPL vs GE', 'GOOG vs F', 'GOOG vs V', 'GOOG vs G', 'GOOG vs GE', 'IBM vs F', 'IBM vs V', 'IBM vs G', 'IBM vs GE', 'FB vs F', 'FB vs V', 'FB vs G', 'FB vs GE']\n"
          ]
        }
      ]
    },
    {
      "cell_type": "code",
      "metadata": {
        "colab": {
          "base_uri": "https://localhost:8080/"
        },
        "id": "YaJS9SM0kd6u",
        "outputId": "b81650a8-a3a3-4b6d-f16c-816700f117a4"
      },
      "source": [
        "print([(x, y) for x in [4,7,1,5] for y in [5,8,2,1] if x != y])\n",
        "print([str(x)+' vs '+str(y) for x in ['CA','MI','O','NE'] for y in ['TA','R', 'X'] if x!=y])"
      ],
      "execution_count": 345,
      "outputs": [
        {
          "output_type": "stream",
          "name": "stdout",
          "text": [
            "[(4, 5), (4, 8), (4, 2), (4, 1), (7, 5), (7, 8), (7, 2), (7, 1), (1, 5), (1, 8), (1, 2), (5, 8), (5, 2), (5, 1)]\n",
            "['CA vs TA', 'CA vs R', 'CA vs X', 'MI vs TA', 'MI vs R', 'MI vs X', 'O vs TA', 'O vs R', 'O vs X', 'NE vs TA', 'NE vs R', 'NE vs X']\n"
          ]
        }
      ]
    },
    {
      "cell_type": "markdown",
      "metadata": {
        "id": "jJpvq-o4a8P7"
      },
      "source": [
        "List comprehension is an elegant way to organize one or more for loops when creating a list.\n",
        "\n",
        "# Summary\n",
        "This chapter has introduced logical operations, loops, and list comprehension. In the next chapter, we will introduce functions and object-oriented programming, which will enable us to make our codes clean and versatile."
      ]
    },
    {
      "cell_type": "markdown",
      "metadata": {
        "id": "Tef_X2wJbdhn"
      },
      "source": [
        "<div align=\"center\">\n",
        "<img style=\"display: block; margin: auto;\" alt=\"photo\" src=\"https://cdn.quantconnect.com/web/i/icon.png\">\n",
        "\n",
        "Quantconnect\n",
        "\n",
        "Introduction to Financial Python\n",
        "</div>\n",
        "\n",
        "# 03 Functions and Objective-Oriented Programming\n",
        "\n",
        "# Introduction\n",
        "\n",
        "In the last tutorial we introduced logical operations, loops and list comprehension. We will introduce functions and object-oriented programming in this chapter, which will enable us to build complex algorithms in more flexible ways.\n",
        "\n",
        "# Functions\n",
        "A function is a reusable block of code. We can use a function to output a value, or do anything else we want. We can easily define our own function by using the keyword \"def\"."
      ]
    },
    {
      "cell_type": "code",
      "metadata": {
        "colab": {
          "base_uri": "https://localhost:8080/"
        },
        "id": "eE_NkTiSO2PO",
        "outputId": "76d7e9c5-6df5-4aee-8a0e-34b85e5a9608"
      },
      "source": [
        "def product(x,y):\n",
        "    return x*y\n",
        "print(product(2,3))\n",
        "print(product(5,10))"
      ],
      "execution_count": 346,
      "outputs": [
        {
          "output_type": "stream",
          "name": "stdout",
          "text": [
            "6\n",
            "50\n"
          ]
        }
      ]
    },
    {
      "cell_type": "code",
      "metadata": {
        "colab": {
          "base_uri": "https://localhost:8080/"
        },
        "id": "BDT76vWslYaw",
        "outputId": "4fdbef89-6d5d-4ba4-858c-47f68b25b53a"
      },
      "source": [
        "def product(i,j):\n",
        "    return i*j\n",
        "print(product(5,3))\n",
        "print(product(7,2))"
      ],
      "execution_count": 347,
      "outputs": [
        {
          "output_type": "stream",
          "name": "stdout",
          "text": [
            "15\n",
            "14\n"
          ]
        }
      ]
    },
    {
      "cell_type": "markdown",
      "metadata": {
        "id": "4oRU_dVJbsdD"
      },
      "source": [
        "The keyword \"def\" is followed by the function name and the parenthesized list of formal parameters. The statements that form the body of the function start at the next line, and must be indented. The product() function above has \"x\" and \"y\" as its parameters. A function doesn't necessarily have parameters:"
      ]
    },
    {
      "cell_type": "code",
      "metadata": {
        "colab": {
          "base_uri": "https://localhost:8080/"
        },
        "id": "JhdWVLbUO2PQ",
        "outputId": "735cac7a-08e4-42c6-efc8-28a1bbae9443"
      },
      "source": [
        "def say_hi():\n",
        "    print('Welcome to QuantConnect')\n",
        "say_hi()"
      ],
      "execution_count": 348,
      "outputs": [
        {
          "output_type": "stream",
          "name": "stdout",
          "text": [
            "Welcome to QuantConnect\n"
          ]
        }
      ]
    },
    {
      "cell_type": "code",
      "metadata": {
        "colab": {
          "base_uri": "https://localhost:8080/"
        },
        "id": "gQcW5aGbl3TT",
        "outputId": "244054ad-195e-41a0-e8c0-6f2b4edcc1b9"
      },
      "source": [
        "def entrega():\n",
        "  print('Se realizo la entrega del trabajo con exito')\n",
        "entrega()"
      ],
      "execution_count": 349,
      "outputs": [
        {
          "output_type": "stream",
          "name": "stdout",
          "text": [
            "Se realizo la entrega del trabajo con exito\n"
          ]
        }
      ]
    },
    {
      "cell_type": "markdown",
      "metadata": {
        "id": "lHwqVpWVb1Jr"
      },
      "source": [
        "# Built-in Function\n",
        "**range()** is a function that creates a list containing an arithmetic sequence. It's often used in for loops. The arguments must be integers. If the \"step\" argument is omitted, it defaults to 1."
      ]
    },
    {
      "cell_type": "code",
      "metadata": {
        "colab": {
          "base_uri": "https://localhost:8080/"
        },
        "id": "VVOTELcIO2PQ",
        "outputId": "d21d392a-bae5-4d6a-8a2e-31f0ebc9a3e9"
      },
      "source": [
        "print(range(10))\n",
        "print(range(1,11))\n",
        "print(range(1,11,2))"
      ],
      "execution_count": 350,
      "outputs": [
        {
          "output_type": "stream",
          "name": "stdout",
          "text": [
            "range(0, 10)\n",
            "range(1, 11)\n",
            "range(1, 11, 2)\n"
          ]
        }
      ]
    },
    {
      "cell_type": "code",
      "metadata": {
        "colab": {
          "base_uri": "https://localhost:8080/"
        },
        "id": "2D3u1DJXm3OI",
        "outputId": "250cbefe-af0e-4da3-9464-236c119353c6"
      },
      "source": [
        "print(range(5))\n",
        "print(range(1,12))\n",
        "print(range(1,12,3))"
      ],
      "execution_count": 351,
      "outputs": [
        {
          "output_type": "stream",
          "name": "stdout",
          "text": [
            "range(0, 5)\n",
            "range(1, 12)\n",
            "range(1, 12, 3)\n"
          ]
        }
      ]
    },
    {
      "cell_type": "markdown",
      "metadata": {
        "id": "PD0cSgiwcQ4L"
      },
      "source": [
        "**len()** is another function used together with range() to create a for loop. This function returns the length of an object. The argument must be a sequence or a collection."
      ]
    },
    {
      "cell_type": "code",
      "metadata": {
        "colab": {
          "base_uri": "https://localhost:8080/"
        },
        "id": "Hg18c7v-O2PR",
        "outputId": "d5b40430-3b72-4b8d-96cb-4cbc86ce2c48"
      },
      "source": [
        "tickers = ['AAPL','GOOG','IBM','FB','F','V', 'G', 'GE']\n",
        "print('The length of tickers is {}'.format(len(tickers)))# Range() is used to create a for loop\n",
        "for i in range(len(tickers)):\n",
        "    print(tickers[i])"
      ],
      "execution_count": 352,
      "outputs": [
        {
          "output_type": "stream",
          "name": "stdout",
          "text": [
            "The length of tickers is 8\n",
            "AAPL\n",
            "GOOG\n",
            "IBM\n",
            "FB\n",
            "F\n",
            "V\n",
            "G\n",
            "GE\n"
          ]
        }
      ]
    },
    {
      "cell_type": "code",
      "metadata": {
        "colab": {
          "base_uri": "https://localhost:8080/"
        },
        "id": "wiTRxjEGnMNe",
        "outputId": "cb734ec5-823d-4809-86fa-d57c5baa9997"
      },
      "source": [
        "tickers = ['CA','MI','O','NE','TA','R', 'X']\n",
        "print('The length of tickers is {}'.format(len(tickers)))\n",
        "for i in range(len(tickers)):\n",
        "    print(tickers[i])"
      ],
      "execution_count": 353,
      "outputs": [
        {
          "output_type": "stream",
          "name": "stdout",
          "text": [
            "The length of tickers is 7\n",
            "CA\n",
            "MI\n",
            "O\n",
            "NE\n",
            "TA\n",
            "R\n",
            "X\n"
          ]
        }
      ]
    },
    {
      "cell_type": "markdown",
      "metadata": {
        "id": "OIQSuub1cWgi"
      },
      "source": [
        "Note: If you want to print only the tickers without those numbers, then simply write \"for ticker in tickers: print ticker\"\n",
        "\n",
        "**map(**) is a function that applies a specific function to every item of a sequence or collection, and returns a list of the results."
      ]
    },
    {
      "cell_type": "markdown",
      "metadata": {
        "id": "pqPuspeG5HAi"
      },
      "source": [
        "Because list at the moment is [1,2,3,4,5] and overwriting list() from builtins we del list"
      ]
    },
    {
      "cell_type": "code",
      "metadata": {
        "colab": {
          "base_uri": "https://localhost:8080/"
        },
        "id": "caV9c-qk4_eZ",
        "outputId": "732f90ef-f84c-40bf-d92b-0841c618ed7a"
      },
      "source": [
        "print(list)\n",
        "del list\n",
        "list"
      ],
      "execution_count": 354,
      "outputs": [
        {
          "output_type": "stream",
          "name": "stdout",
          "text": [
            "[1, 2, 3, 4, 5]\n"
          ]
        },
        {
          "output_type": "execute_result",
          "data": {
            "text/plain": [
              "list"
            ]
          },
          "metadata": {},
          "execution_count": 354
        }
      ]
    },
    {
      "cell_type": "code",
      "metadata": {
        "colab": {
          "base_uri": "https://localhost:8080/"
        },
        "id": "lJBs5ECT4mSq",
        "outputId": "f84a9215-41df-4ce3-f339-08b82c953649"
      },
      "source": [
        "tickers = ['AAPL','GOOG','IBM','FB','F','V', 'G', 'GE']\n",
        "list(map(len,tickers)) #map() is a function that applies a specific function to every item of a sequence or collection, and returns a list of the results."
      ],
      "execution_count": 355,
      "outputs": [
        {
          "output_type": "execute_result",
          "data": {
            "text/plain": [
              "[4, 4, 3, 2, 1, 1, 1, 2]"
            ]
          },
          "metadata": {},
          "execution_count": 355
        }
      ]
    },
    {
      "cell_type": "code",
      "metadata": {
        "colab": {
          "base_uri": "https://localhost:8080/"
        },
        "id": "FR7qfzAkpmAd",
        "outputId": "1904cffe-8984-44a0-ff06-b09b8eadda6c"
      },
      "source": [
        "tickers = ['CA','MIO','NE','TASS','RAPIDAS', 'X']\n",
        "list(map(len,tickers))"
      ],
      "execution_count": 356,
      "outputs": [
        {
          "output_type": "execute_result",
          "data": {
            "text/plain": [
              "[2, 3, 2, 4, 7, 1]"
            ]
          },
          "metadata": {},
          "execution_count": 356
        }
      ]
    },
    {
      "cell_type": "code",
      "metadata": {
        "colab": {
          "base_uri": "https://localhost:8080/"
        },
        "id": "78DyKVOyO2PR",
        "outputId": "52f99648-6bdf-4cc4-e737-6683610efd2c"
      },
      "source": [
        "tickers = ['AAPL','GOOG','IBM','FB','F','V', 'G', 'GE']\n",
        "print(list(map(len,tickers)))"
      ],
      "execution_count": 357,
      "outputs": [
        {
          "output_type": "stream",
          "name": "stdout",
          "text": [
            "[4, 4, 3, 2, 1, 1, 1, 2]\n"
          ]
        }
      ]
    },
    {
      "cell_type": "code",
      "metadata": {
        "colab": {
          "base_uri": "https://localhost:8080/"
        },
        "id": "AWAonEGap21D",
        "outputId": "91a34c75-2e61-4cc6-9bcf-d2a47dc48a2a"
      },
      "source": [
        "tickers = ['CA','MIO','NE','TASS','RAPIDAS', 'X']\n",
        "print(list(map(len,tickers)))"
      ],
      "execution_count": 358,
      "outputs": [
        {
          "output_type": "stream",
          "name": "stdout",
          "text": [
            "[2, 3, 2, 4, 7, 1]\n"
          ]
        }
      ]
    },
    {
      "cell_type": "markdown",
      "metadata": {
        "id": "mvr06UM7ca7b"
      },
      "source": [
        "The **lambda operator** is a way to create small anonymous functions. These functions are just needed where they have been created. For example:"
      ]
    },
    {
      "cell_type": "code",
      "metadata": {
        "colab": {
          "base_uri": "https://localhost:8080/"
        },
        "id": "pAEHADYXO2PR",
        "outputId": "dedb11a8-6035-4b0d-984e-9df2cfa6b4b9"
      },
      "source": [
        "list(map(lambda x: x**2, range(10)))#Lambda: Create functions"
      ],
      "execution_count": 359,
      "outputs": [
        {
          "output_type": "execute_result",
          "data": {
            "text/plain": [
              "[0, 1, 4, 9, 16, 25, 36, 49, 64, 81]"
            ]
          },
          "metadata": {},
          "execution_count": 359
        }
      ]
    },
    {
      "cell_type": "code",
      "metadata": {
        "colab": {
          "base_uri": "https://localhost:8080/"
        },
        "id": "oydsYUvLqytB",
        "outputId": "5ab2c9e4-cf79-489d-a8d1-df89a2e3d762"
      },
      "source": [
        "list(map(lambda x: x**3, range(5)))"
      ],
      "execution_count": 360,
      "outputs": [
        {
          "output_type": "execute_result",
          "data": {
            "text/plain": [
              "[0, 1, 8, 27, 64]"
            ]
          },
          "metadata": {},
          "execution_count": 360
        }
      ]
    },
    {
      "cell_type": "markdown",
      "metadata": {
        "id": "Mgixpxomcj3T"
      },
      "source": [
        "map() can be applied to more than one list. The lists have to have the same length."
      ]
    },
    {
      "cell_type": "code",
      "metadata": {
        "colab": {
          "base_uri": "https://localhost:8080/"
        },
        "id": "HtckhAaJO2PS",
        "outputId": "4c2cbcaa-432e-4f37-cce7-027fc40bd21d"
      },
      "source": [
        "list(map(lambda x, y: x+y, [1,2,3,4,5],[5,4,3,2,1]))"
      ],
      "execution_count": 361,
      "outputs": [
        {
          "output_type": "execute_result",
          "data": {
            "text/plain": [
              "[6, 6, 6, 6, 6]"
            ]
          },
          "metadata": {},
          "execution_count": 361
        }
      ]
    },
    {
      "cell_type": "code",
      "metadata": {
        "colab": {
          "base_uri": "https://localhost:8080/"
        },
        "id": "CRxU_kRerIym",
        "outputId": "354aa310-15eb-45fe-f1c4-f1b047713e7a"
      },
      "source": [
        "list(map(lambda x, y: x+y, [4,2,4,2,4],[1,3,1,3,2]))"
      ],
      "execution_count": 362,
      "outputs": [
        {
          "output_type": "execute_result",
          "data": {
            "text/plain": [
              "[5, 5, 5, 5, 6]"
            ]
          },
          "metadata": {},
          "execution_count": 362
        }
      ]
    },
    {
      "cell_type": "markdown",
      "metadata": {
        "id": "ZDnMTH-KcklT"
      },
      "source": [
        "**sorted()** takes a list or set and returns a new sorted list"
      ]
    },
    {
      "cell_type": "code",
      "metadata": {
        "colab": {
          "base_uri": "https://localhost:8080/"
        },
        "id": "P0sHUMFWO2PS",
        "outputId": "3e9bb1bd-5cb8-4044-baea-11e5d9d437d2"
      },
      "source": [
        "sorted([5,2,3,4,1]) #sorted() takes a list or set and returns a new sorted list"
      ],
      "execution_count": 363,
      "outputs": [
        {
          "output_type": "execute_result",
          "data": {
            "text/plain": [
              "[1, 2, 3, 4, 5]"
            ]
          },
          "metadata": {},
          "execution_count": 363
        }
      ]
    },
    {
      "cell_type": "code",
      "metadata": {
        "colab": {
          "base_uri": "https://localhost:8080/"
        },
        "id": "aQ6gNaDdra2m",
        "outputId": "9da4e25a-f93f-4194-ba0b-5d30e321cb2f"
      },
      "source": [
        "sorted([20,17,18,12,2])"
      ],
      "execution_count": 364,
      "outputs": [
        {
          "output_type": "execute_result",
          "data": {
            "text/plain": [
              "[2, 12, 17, 18, 20]"
            ]
          },
          "metadata": {},
          "execution_count": 364
        }
      ]
    },
    {
      "cell_type": "markdown",
      "metadata": {
        "id": "-N5_EDOFcnsc"
      },
      "source": [
        "We can add a \"key\" parameter to specify a function to be called on each list element prior to making comparisons. For example:"
      ]
    },
    {
      "cell_type": "code",
      "metadata": {
        "colab": {
          "base_uri": "https://localhost:8080/"
        },
        "id": "0i3peZ0bO2PS",
        "outputId": "cbd0132b-4289-4864-d1b7-fe6fbf4ea640"
      },
      "source": [
        "price_list = [('AAPL',144.09),('GOOG',911.71),('MSFT',69),('FB',150),('WMT',75.32)]\n",
        "sorted(price_list, key = lambda x: x[1])"
      ],
      "execution_count": 365,
      "outputs": [
        {
          "output_type": "execute_result",
          "data": {
            "text/plain": [
              "[('MSFT', 69), ('WMT', 75.32), ('AAPL', 144.09), ('FB', 150), ('GOOG', 911.71)]"
            ]
          },
          "metadata": {},
          "execution_count": 365
        }
      ]
    },
    {
      "cell_type": "code",
      "metadata": {
        "colab": {
          "base_uri": "https://localhost:8080/"
        },
        "id": "GCY3k-cQsX6K",
        "outputId": "1472fea1-221f-4e78-d6ad-8920e2837e61"
      },
      "source": [
        "price_list = [('O',100.09),('MI',85.71),('CA',25),('TA',150),('NE',135.32)]\n",
        "sorted(price_list, key = lambda x: x[1])"
      ],
      "execution_count": 366,
      "outputs": [
        {
          "output_type": "execute_result",
          "data": {
            "text/plain": [
              "[('CA', 25), ('MI', 85.71), ('O', 100.09), ('NE', 135.32), ('TA', 150)]"
            ]
          },
          "metadata": {},
          "execution_count": 366
        }
      ]
    },
    {
      "cell_type": "markdown",
      "metadata": {
        "id": "yun2zptKcxe_"
      },
      "source": [
        "By default the values are sorted by ascending order. We can change it to descending by adding an optional parameter \"reverse'."
      ]
    },
    {
      "cell_type": "code",
      "metadata": {
        "colab": {
          "base_uri": "https://localhost:8080/"
        },
        "id": "dEZqdl94O2PT",
        "outputId": "53903f35-6357-40ac-a0ab-cf06533f9c96"
      },
      "source": [
        "price_list = [('AAPL',144.09),('GOOG',911.71),('MSFT',69),('FB',150),('WMT',75.32)]\n",
        "sorted(price_list, key = lambda x: x[1],reverse = True)"
      ],
      "execution_count": 367,
      "outputs": [
        {
          "output_type": "execute_result",
          "data": {
            "text/plain": [
              "[('GOOG', 911.71), ('FB', 150), ('AAPL', 144.09), ('WMT', 75.32), ('MSFT', 69)]"
            ]
          },
          "metadata": {},
          "execution_count": 367
        }
      ]
    },
    {
      "cell_type": "code",
      "metadata": {
        "colab": {
          "base_uri": "https://localhost:8080/"
        },
        "id": "DcZiFqc7twpU",
        "outputId": "b5b84dbc-d5d0-4f97-b11c-431e099bbe4c"
      },
      "source": [
        "price_list = [('O',100.09),('MI',85.71),('CA',25),('TA',150),('NE',135.32)]\n",
        "sorted(price_list, key = lambda x: x[1],reverse = True )"
      ],
      "execution_count": 368,
      "outputs": [
        {
          "output_type": "execute_result",
          "data": {
            "text/plain": [
              "[('TA', 150), ('NE', 135.32), ('O', 100.09), ('MI', 85.71), ('CA', 25)]"
            ]
          },
          "metadata": {},
          "execution_count": 368
        }
      ]
    },
    {
      "cell_type": "markdown",
      "metadata": {
        "id": "OA2wYAa0c6Dn"
      },
      "source": [
        "Lists also have a function list.sort(). This function takes the same \"key\" and \"reverse\" arguments as sorted(), but it doesn't return a new list."
      ]
    },
    {
      "cell_type": "code",
      "metadata": {
        "colab": {
          "base_uri": "https://localhost:8080/"
        },
        "id": "pG9VQCLnO2PT",
        "outputId": "30adcec2-d721-4d57-d171-c7c0693af994"
      },
      "source": [
        "price_list = [('AAPL',144.09),('GOOG',911.71),('MSFT',69),('FB',150),('WMT',75.32)]\n",
        "price_list.sort(key = lambda x: x[1])#list.sort() This function takes the same \"key\" and \"reverse\" arguments as sorted()\n",
        "print(price_list)"
      ],
      "execution_count": 369,
      "outputs": [
        {
          "output_type": "stream",
          "name": "stdout",
          "text": [
            "[('MSFT', 69), ('WMT', 75.32), ('AAPL', 144.09), ('FB', 150), ('GOOG', 911.71)]\n"
          ]
        }
      ]
    },
    {
      "cell_type": "code",
      "metadata": {
        "colab": {
          "base_uri": "https://localhost:8080/"
        },
        "id": "NC8CBlMcuJZt",
        "outputId": "72e0d967-5a42-44ee-a29f-8af3fb29a103"
      },
      "source": [
        "price_list = [('O',100.09),('MI',85.71),('CA',25),('TA',150),('NE',135.32)]\n",
        "sorted(price_list, key = lambda x: x[1])"
      ],
      "execution_count": 370,
      "outputs": [
        {
          "output_type": "execute_result",
          "data": {
            "text/plain": [
              "[('CA', 25), ('MI', 85.71), ('O', 100.09), ('NE', 135.32), ('TA', 150)]"
            ]
          },
          "metadata": {},
          "execution_count": 370
        }
      ]
    },
    {
      "cell_type": "markdown",
      "metadata": {
        "id": "mxljL1W1c_c5"
      },
      "source": [
        "# Object-Oriented Programming\n",
        "Python is an object-oriented programming language. It's important to understand the concept of \"objects\" because almost every kind of data from QuantConnect API is an object.\n",
        "\n",
        "## Class\n",
        "A class is a type of data, just like a string, float, or list. When we create an object of that data type, we call it an instance of a class.\n",
        "\n",
        "In Python, everything is an object - everything is an instance of some class. The data stored inside an object are called attributes, and the functions which are associated with the object are called methods.\n",
        "\n",
        "For example, as mentioned above, a list is an object of the \"list\" class, and it has a method list.sort().\n",
        "\n",
        "We can create our own objects by defining a class. We would do this when it's helpful to group certain functions together. For example, we define a class named \"Stock\" here:"
      ]
    },
    {
      "cell_type": "code",
      "metadata": {
        "id": "zC4Y4PgDO2PT"
      },
      "source": [
        "class stock:\n",
        "    def __init__(self, ticker, open, close, volume):\n",
        "        self.ticker = ticker\n",
        "        self.open = open\n",
        "        self.close = close\n",
        "        self.volume = volume\n",
        "        self.rate_return = float(close)/open - 1\n",
        " \n",
        "    def update(self, open, close): #update(): we updated the open and close prices of a stock\n",
        "        self.open = open\n",
        "        self.close = close\n",
        "        self.rate_return = float(self.close)/self.open - 1\n",
        " \n",
        "    def print_return(self): # Is to specify them as self\n",
        "        print(self.rate_return)"
      ],
      "execution_count": 371,
      "outputs": []
    },
    {
      "cell_type": "markdown",
      "metadata": {
        "id": "rV06INT5dETi"
      },
      "source": [
        "The \"Stock\" class has attributes \"ticker\", \"open\", \"close\", \"volume\" and \"rate_return\". Inside the class body, the first method is called __init__, which is a special method. When we create a new instance of the class, the __init__ method is immediately executed with all the parameters that we pass to the \"Stock\" object. The purpose of this method is to set up a new \"Stock\" object using data we have provided.\n",
        "\n",
        "Here we create two Stock objects named \"apple\" and \"google\"."
      ]
    },
    {
      "cell_type": "code",
      "metadata": {
        "id": "8tIpNk93O2PU"
      },
      "source": [
        "apple = stock('AAPL', 143.69, 144.09, 20109375)\n",
        "google = stock('GOOG', 898.7, 911.7, 1561616)"
      ],
      "execution_count": 372,
      "outputs": []
    },
    {
      "cell_type": "code",
      "metadata": {
        "id": "y4EPhCnUwslH"
      },
      "source": [
        "apple = stock('AAPL', 85.3, 185.96, 8552)\n",
        "google = stock('GOOG', 452, 123.52, 2840)"
      ],
      "execution_count": 373,
      "outputs": []
    },
    {
      "cell_type": "markdown",
      "metadata": {
        "id": "VxmELNiHdPKS"
      },
      "source": [
        "Stock objects also have two other methods: update() and print_return(). We can access the attribues of a Stock object and call its methods:"
      ]
    },
    {
      "cell_type": "markdown",
      "metadata": {
        "id": "BJSTAw0gGXzc"
      },
      "source": [
        "**Se aplico la la siguiente instruccion con los datos que se dieron de ejemplo.**"
      ]
    },
    {
      "cell_type": "code",
      "metadata": {
        "colab": {
          "base_uri": "https://localhost:8080/"
        },
        "id": "SsiIkmekO2PU",
        "outputId": "fcbcec4c-1f4e-460c-9319-b06e044829a8"
      },
      "source": [
        "apple.ticker\n",
        "google.print_return()\n",
        "google.update(912.8,913.4)\n",
        "google.print_return()"
      ],
      "execution_count": 374,
      "outputs": [
        {
          "output_type": "stream",
          "name": "stdout",
          "text": [
            "-0.7267256637168142\n",
            "0.0006573181419806673\n"
          ]
        }
      ]
    },
    {
      "cell_type": "markdown",
      "metadata": {
        "id": "Q8fl7keNdVKF"
      },
      "source": [
        "By calling the update() function, we updated the open and close prices of a stock. Please note that when we use the attributes or call the methods **inside a class**, we need to specify them as self.attribute or self.method(), otherwise Python will deem them as global variables and thus raise an error.\n",
        "\n",
        "We can add an attribute to an object anywhere:"
      ]
    },
    {
      "cell_type": "code",
      "metadata": {
        "colab": {
          "base_uri": "https://localhost:8080/",
          "height": 35
        },
        "id": "rO4OLnqOO2PU",
        "outputId": "7b0a6888-5dd8-408d-cce0-7cb53248c5bb"
      },
      "source": [
        "apple.ceo = 'Tim Cook'\n",
        "apple.ceo"
      ],
      "execution_count": 375,
      "outputs": [
        {
          "output_type": "execute_result",
          "data": {
            "application/vnd.google.colaboratory.intrinsic+json": {
              "type": "string"
            },
            "text/plain": [
              "'Tim Cook'"
            ]
          },
          "metadata": {},
          "execution_count": 375
        }
      ]
    },
    {
      "cell_type": "code",
      "metadata": {
        "colab": {
          "base_uri": "https://localhost:8080/",
          "height": 35
        },
        "id": "fQc9sfGzxgQa",
        "outputId": "9e41a5a7-37f0-420e-eaae-2214c3b36e8d"
      },
      "source": [
        "apple.ceo = 'Alejandro Trabaja'\n",
        "apple.ceo"
      ],
      "execution_count": 376,
      "outputs": [
        {
          "output_type": "execute_result",
          "data": {
            "application/vnd.google.colaboratory.intrinsic+json": {
              "type": "string"
            },
            "text/plain": [
              "'Alejandro Trabaja'"
            ]
          },
          "metadata": {},
          "execution_count": 376
        }
      ]
    },
    {
      "cell_type": "markdown",
      "metadata": {
        "id": "WyfnFgVidh4J"
      },
      "source": [
        "We can check what names (i.e. attributes and methods) are defined on an object using the dir() function:"
      ]
    },
    {
      "cell_type": "code",
      "metadata": {
        "colab": {
          "base_uri": "https://localhost:8080/"
        },
        "id": "pPoz0LA8O2PU",
        "outputId": "36a0a8fa-f9db-4329-a006-2e77e7ac6c96"
      },
      "source": [
        "dir(apple)"
      ],
      "execution_count": 377,
      "outputs": [
        {
          "output_type": "execute_result",
          "data": {
            "text/plain": [
              "['__class__',\n",
              " '__delattr__',\n",
              " '__dict__',\n",
              " '__dir__',\n",
              " '__doc__',\n",
              " '__eq__',\n",
              " '__format__',\n",
              " '__ge__',\n",
              " '__getattribute__',\n",
              " '__gt__',\n",
              " '__hash__',\n",
              " '__init__',\n",
              " '__init_subclass__',\n",
              " '__le__',\n",
              " '__lt__',\n",
              " '__module__',\n",
              " '__ne__',\n",
              " '__new__',\n",
              " '__reduce__',\n",
              " '__reduce_ex__',\n",
              " '__repr__',\n",
              " '__setattr__',\n",
              " '__sizeof__',\n",
              " '__str__',\n",
              " '__subclasshook__',\n",
              " '__weakref__',\n",
              " 'ceo',\n",
              " 'close',\n",
              " 'open',\n",
              " 'print_return',\n",
              " 'rate_return',\n",
              " 'ticker',\n",
              " 'update',\n",
              " 'volume']"
            ]
          },
          "metadata": {},
          "execution_count": 377
        }
      ]
    },
    {
      "cell_type": "code",
      "metadata": {
        "colab": {
          "base_uri": "https://localhost:8080/"
        },
        "id": "7oNzDgwwxmAI",
        "outputId": "9b4fa4e4-73cf-4aea-c6c3-01db1a34abff"
      },
      "source": [
        "dir(google)"
      ],
      "execution_count": 378,
      "outputs": [
        {
          "output_type": "execute_result",
          "data": {
            "text/plain": [
              "['__class__',\n",
              " '__delattr__',\n",
              " '__dict__',\n",
              " '__dir__',\n",
              " '__doc__',\n",
              " '__eq__',\n",
              " '__format__',\n",
              " '__ge__',\n",
              " '__getattribute__',\n",
              " '__gt__',\n",
              " '__hash__',\n",
              " '__init__',\n",
              " '__init_subclass__',\n",
              " '__le__',\n",
              " '__lt__',\n",
              " '__module__',\n",
              " '__ne__',\n",
              " '__new__',\n",
              " '__reduce__',\n",
              " '__reduce_ex__',\n",
              " '__repr__',\n",
              " '__setattr__',\n",
              " '__sizeof__',\n",
              " '__str__',\n",
              " '__subclasshook__',\n",
              " '__weakref__',\n",
              " 'close',\n",
              " 'open',\n",
              " 'print_return',\n",
              " 'rate_return',\n",
              " 'ticker',\n",
              " 'update',\n",
              " 'volume']"
            ]
          },
          "metadata": {},
          "execution_count": 378
        }
      ]
    },
    {
      "cell_type": "markdown",
      "metadata": {
        "id": "Qpemj1UZd2aa"
      },
      "source": [
        "## Inheritance\n",
        "Inheritance is a way of arranging classes in a hierarchy from the most general to the most specific. A \"child\" class is a more specific type of a \"parent\" class because a child class will inherit all the attribues and methods of its parent. For example, we define a class named \"Child\" which inherits \"Stock\":"
      ]
    },
    {
      "cell_type": "code",
      "metadata": {
        "id": "UELXnxomO2PV"
      },
      "source": [
        "class child(stock): #A \"child\" class is a more specific type of a \"parent\" class\n",
        "    def __init__(self,name):\n",
        "        self.name = name"
      ],
      "execution_count": 379,
      "outputs": []
    },
    {
      "cell_type": "markdown",
      "metadata": {
        "id": "S2EocKWQG3xH"
      },
      "source": [
        "**Se aplico la la siguiente instruccion con los datos que se dieron de ejemplo.**"
      ]
    },
    {
      "cell_type": "code",
      "metadata": {
        "colab": {
          "base_uri": "https://localhost:8080/"
        },
        "id": "xtl1zGw3JAwe",
        "outputId": "18dd9307-b8a7-4bf7-8184-49c4c35d72e9"
      },
      "source": [
        "aa = child('aa')\n",
        "print(aa.name)\n",
        "aa.update(1,35) \n",
        "print(aa.open)\n",
        "print(aa.close)\n",
        "print(aa.print_return())"
      ],
      "execution_count": 380,
      "outputs": [
        {
          "output_type": "stream",
          "name": "stdout",
          "text": [
            "aa\n",
            "1\n",
            "35\n",
            "34.0\n",
            "None\n"
          ]
        }
      ]
    },
    {
      "cell_type": "markdown",
      "metadata": {
        "id": "dQbENH6mexTd"
      },
      "source": [
        "<div align=\"center\">\n",
        "<img style=\"display: block; margin: auto;\" alt=\"photo\" src=\"https://cdn.quantconnect.com/web/i/icon.png\">\n",
        "\n",
        "Quantconnect\n",
        "\n",
        "Introduction to Financial Python\n",
        "</div>\n",
        "\n",
        "# 04 NumPy and Basic Pandas\n",
        "\n",
        "# Introduction\n",
        "\n",
        "Now that we have introduced the fundamentals of Python, it's time to learn about NumPy and Pandas.\n",
        "\n",
        "# NumPy\n",
        "NumPy is the core library for scientific computing in Python. It provides a high-performance multidimensional array object, and tools for working with these arrays. It also has strong integration with Pandas, which is another powerful tool for manipulating financial data.\n",
        "\n",
        "Python packages like NumPy and Pandas contain classes and methods which we can use by importing the package:"
      ]
    },
    {
      "cell_type": "code",
      "metadata": {
        "id": "aIESp-rdO58h"
      },
      "source": [
        "import numpy as np"
      ],
      "execution_count": 381,
      "outputs": []
    },
    {
      "cell_type": "markdown",
      "metadata": {
        "id": "GScHHJ5ke7ea"
      },
      "source": [
        "## Basic NumPy Arrays\n",
        "A NumPy array is a grid of values, all of the same type, and is indexed by a tuple of nonnegative integers. Here we make an array by passing a list of Apple stock prices:"
      ]
    },
    {
      "cell_type": "code",
      "metadata": {
        "colab": {
          "base_uri": "https://localhost:8080/"
        },
        "id": "lZI1wkwDO58i",
        "outputId": "fa2ad577-72d6-4762-8faa-ea4731c71ccf"
      },
      "source": [
        "price_list = [143.73, 145.83, 143.68, 144.02, 143.5, 142.62]\n",
        "price_array = np.array(price_list)\n",
        "print(price_array, type(price_array))"
      ],
      "execution_count": 382,
      "outputs": [
        {
          "output_type": "stream",
          "name": "stdout",
          "text": [
            "[143.73 145.83 143.68 144.02 143.5  142.62] <class 'numpy.ndarray'>\n"
          ]
        }
      ]
    },
    {
      "cell_type": "code",
      "metadata": {
        "colab": {
          "base_uri": "https://localhost:8080/"
        },
        "id": "qEl3abJjIQ9B",
        "outputId": "5842e2ca-b164-4be1-a34c-e27d98d779e4"
      },
      "source": [
        "precio_lista = [260.52, 263.12, 264.69, 265.22, 266.35, 267.12]\n",
        "precio_array = np.array(precio_lista)\n",
        "print(precio_array, type(precio_array))"
      ],
      "execution_count": 383,
      "outputs": [
        {
          "output_type": "stream",
          "name": "stdout",
          "text": [
            "[260.52 263.12 264.69 265.22 266.35 267.12] <class 'numpy.ndarray'>\n"
          ]
        }
      ]
    },
    {
      "cell_type": "markdown",
      "metadata": {
        "id": "-5Yj6u9ifB-t"
      },
      "source": [
        "Notice that the type of array is \"ndarray\" which is a multi-dimensional array. If we pass np.array() a list of lists, it will create a 2-dimensional array."
      ]
    },
    {
      "cell_type": "code",
      "metadata": {
        "colab": {
          "base_uri": "https://localhost:8080/"
        },
        "id": "obvIZrK-O58j",
        "outputId": "f0654378-3e95-4747-964c-aa12a1bed514"
      },
      "source": [
        "Ar = np.array([[1,3],[2,4]])#np.array() is used to create a 2-dimensional array.\n",
        "print(Ar, type(Ar))"
      ],
      "execution_count": 384,
      "outputs": [
        {
          "output_type": "stream",
          "name": "stdout",
          "text": [
            "[[1 3]\n",
            " [2 4]] <class 'numpy.ndarray'>\n"
          ]
        }
      ]
    },
    {
      "cell_type": "code",
      "metadata": {
        "colab": {
          "base_uri": "https://localhost:8080/"
        },
        "id": "AEcwXxExJMs4",
        "outputId": "d1a9f5c6-e72f-48e6-f75e-93dc0d63df84"
      },
      "source": [
        "Arr = np.array([[8,5],[5,1]])\n",
        "print(Arr, type(Arr))"
      ],
      "execution_count": 385,
      "outputs": [
        {
          "output_type": "stream",
          "name": "stdout",
          "text": [
            "[[8 5]\n",
            " [5 1]] <class 'numpy.ndarray'>\n"
          ]
        }
      ]
    },
    {
      "cell_type": "markdown",
      "metadata": {
        "id": "uDdfLD9HfHkl"
      },
      "source": [
        "We get the dimensions of an ndarray using the .shape attribute:"
      ]
    },
    {
      "cell_type": "code",
      "metadata": {
        "colab": {
          "base_uri": "https://localhost:8080/"
        },
        "id": "G2txdn73O58j",
        "outputId": "53462a8c-4101-4844-fa50-68bed2564ef9"
      },
      "source": [
        "print(Ar.shape)"
      ],
      "execution_count": 386,
      "outputs": [
        {
          "output_type": "stream",
          "name": "stdout",
          "text": [
            "(2, 2)\n"
          ]
        }
      ]
    },
    {
      "cell_type": "code",
      "metadata": {
        "colab": {
          "base_uri": "https://localhost:8080/"
        },
        "id": "8R2A8EaVJWRf",
        "outputId": "98cf5af2-e2c3-4288-9730-5d85c28b0b59"
      },
      "source": [
        "print(Arr.shape)"
      ],
      "execution_count": 387,
      "outputs": [
        {
          "output_type": "stream",
          "name": "stdout",
          "text": [
            "(2, 2)\n"
          ]
        }
      ]
    },
    {
      "cell_type": "markdown",
      "metadata": {
        "id": "87W5ueORfPEy"
      },
      "source": [
        "If we create an 2-dimensional array (i.e. matrix), each row can be accessed by index:"
      ]
    },
    {
      "cell_type": "code",
      "metadata": {
        "colab": {
          "base_uri": "https://localhost:8080/"
        },
        "id": "x_QV9aPbO58j",
        "outputId": "5045606d-52af-41aa-819f-2b5e4288e223"
      },
      "source": [
        "print(Ar[0])\n",
        "print(Ar[1])"
      ],
      "execution_count": 388,
      "outputs": [
        {
          "output_type": "stream",
          "name": "stdout",
          "text": [
            "[1 3]\n",
            "[2 4]\n"
          ]
        }
      ]
    },
    {
      "cell_type": "code",
      "metadata": {
        "colab": {
          "base_uri": "https://localhost:8080/"
        },
        "id": "Ijkt4rajJfN6",
        "outputId": "a17a750b-aba7-4bab-8395-6906a15f336a"
      },
      "source": [
        "print(Arr[0])\n",
        "print(Arr[1])"
      ],
      "execution_count": 389,
      "outputs": [
        {
          "output_type": "stream",
          "name": "stdout",
          "text": [
            "[8 5]\n",
            "[5 1]\n"
          ]
        }
      ]
    },
    {
      "cell_type": "markdown",
      "metadata": {
        "id": "5Hke7Vt-fSGB"
      },
      "source": [
        "If we want to access the matrix by column instead:"
      ]
    },
    {
      "cell_type": "code",
      "metadata": {
        "colab": {
          "base_uri": "https://localhost:8080/"
        },
        "id": "gHVwbPfOO58j",
        "outputId": "6004ef1e-c14d-457b-f4e5-1cd4b48bfd3e"
      },
      "source": [
        "print('the first column: ', Ar[:,0])\n",
        "print('the second column: ', Ar[:,1])"
      ],
      "execution_count": 390,
      "outputs": [
        {
          "output_type": "stream",
          "name": "stdout",
          "text": [
            "the first column:  [1 2]\n",
            "the second column:  [3 4]\n"
          ]
        }
      ]
    },
    {
      "cell_type": "code",
      "metadata": {
        "colab": {
          "base_uri": "https://localhost:8080/"
        },
        "id": "hP6J1zXmJlLm",
        "outputId": "f3a57080-9659-409e-815e-7053934e5849"
      },
      "source": [
        "print('the first column: ', Arr[:,0])\n",
        "print('the second column: ', Arr[:,1])"
      ],
      "execution_count": 391,
      "outputs": [
        {
          "output_type": "stream",
          "name": "stdout",
          "text": [
            "the first column:  [8 5]\n",
            "the second column:  [5 1]\n"
          ]
        }
      ]
    },
    {
      "cell_type": "markdown",
      "metadata": {
        "id": "T61cD0HMfStB"
      },
      "source": [
        "## Array Functions\n",
        "Some functions built in NumPy that allow us to perform calculations on arrays. For example, we can apply the natural logarithm to each element of an array:"
      ]
    },
    {
      "cell_type": "code",
      "metadata": {
        "colab": {
          "base_uri": "https://localhost:8080/"
        },
        "id": "PKhwtJ7XO58k",
        "outputId": "e94a0996-b13b-4e5b-e4d1-fbb54dda9944"
      },
      "source": [
        "print(np.log(price_array))"
      ],
      "execution_count": 392,
      "outputs": [
        {
          "output_type": "stream",
          "name": "stdout",
          "text": [
            "[4.96793654 4.98244156 4.9675886  4.96995218 4.96633504 4.96018375]\n"
          ]
        }
      ]
    },
    {
      "cell_type": "code",
      "metadata": {
        "colab": {
          "base_uri": "https://localhost:8080/"
        },
        "id": "EbJAOiGIJsDE",
        "outputId": "557204b8-87f5-4ead-d3e3-8a863bcdc68a"
      },
      "source": [
        "print(np.log(precio_array))"
      ],
      "execution_count": 393,
      "outputs": [
        {
          "output_type": "stream",
          "name": "stdout",
          "text": [
            "[5.56267963 5.5726102  5.57855933 5.58055967 5.58481123 5.587698  ]\n"
          ]
        }
      ]
    },
    {
      "cell_type": "markdown",
      "metadata": {
        "id": "uzjBRFBLfZ-D"
      },
      "source": [
        "Other functions return a single value:"
      ]
    },
    {
      "cell_type": "code",
      "metadata": {
        "colab": {
          "base_uri": "https://localhost:8080/"
        },
        "id": "nQuABZqUO58k",
        "outputId": "66b9b766-fd20-4cbc-80a9-a10a46b1e0d9"
      },
      "source": [
        "print(np.mean(price_array))\n",
        "print(np.std(price_array))\n",
        "print(np.sum(price_array))\n",
        "print(np.max(price_array))"
      ],
      "execution_count": 394,
      "outputs": [
        {
          "output_type": "stream",
          "name": "stdout",
          "text": [
            "143.89666666666668\n",
            "0.9673790478515796\n",
            "863.38\n",
            "145.83\n"
          ]
        }
      ]
    },
    {
      "cell_type": "code",
      "metadata": {
        "colab": {
          "base_uri": "https://localhost:8080/"
        },
        "id": "3F5AQHnkJxZv",
        "outputId": "fac30bef-4a87-4688-86f1-06f81fc91db6"
      },
      "source": [
        "print(np.mean(precio_array))\n",
        "print(np.std(precio_array))\n",
        "print(np.sum(precio_array))\n",
        "print(np.max(precio_array))"
      ],
      "execution_count": 395,
      "outputs": [
        {
          "output_type": "stream",
          "name": "stdout",
          "text": [
            "264.50333333333333\n",
            "2.182740377496967\n",
            "1587.02\n",
            "267.12\n"
          ]
        }
      ]
    },
    {
      "cell_type": "markdown",
      "metadata": {
        "id": "IRW95BsifgDB"
      },
      "source": [
        "The functions above return the mean, standard deviation, total and maximum value of an array.\n",
        "\n",
        "# Pandas\n",
        "Pandas is one of the most powerful tools for dealing with financial data. \n",
        "\n",
        "First we need to import Pandas:"
      ]
    },
    {
      "cell_type": "code",
      "metadata": {
        "id": "xIYH4oUfO58k"
      },
      "source": [
        "import pandas as pd"
      ],
      "execution_count": 396,
      "outputs": []
    },
    {
      "cell_type": "markdown",
      "metadata": {
        "id": "zOig5gORfnJU"
      },
      "source": [
        "## Series\n",
        "Series is a one-dimensional labeled array capable of holding any data type (integers, strings, float, Python object, etc.)\n",
        "\n",
        "We create a Series by calling pd.Series(data), where data can be a dictionary, an array or just a scalar value."
      ]
    },
    {
      "cell_type": "code",
      "metadata": {
        "colab": {
          "base_uri": "https://localhost:8080/"
        },
        "id": "JmzoNzrPO58k",
        "outputId": "ab9f9154-cbbf-4f05-8558-9d373150e98c"
      },
      "source": [
        "price = [143.73, 145.83, 143.68, 144.02, 143.5, 142.62]\n",
        "s = pd.Series(price) #pd.Series(data) is to create Series\n",
        "s"
      ],
      "execution_count": 397,
      "outputs": [
        {
          "output_type": "execute_result",
          "data": {
            "text/plain": [
              "0    143.73\n",
              "1    145.83\n",
              "2    143.68\n",
              "3    144.02\n",
              "4    143.50\n",
              "5    142.62\n",
              "dtype: float64"
            ]
          },
          "metadata": {},
          "execution_count": 397
        }
      ]
    },
    {
      "cell_type": "code",
      "metadata": {
        "colab": {
          "base_uri": "https://localhost:8080/"
        },
        "id": "v9goIKCPKgKV",
        "outputId": "484553a0-31d3-4211-f66b-0abd892cd51b"
      },
      "source": [
        "precio = [260.52, 263.12, 264.69, 265.22, 266.35, 267.12]\n",
        "ss = pd.Series(precio)\n",
        "ss"
      ],
      "execution_count": 398,
      "outputs": [
        {
          "output_type": "execute_result",
          "data": {
            "text/plain": [
              "0    260.52\n",
              "1    263.12\n",
              "2    264.69\n",
              "3    265.22\n",
              "4    266.35\n",
              "5    267.12\n",
              "dtype: float64"
            ]
          },
          "metadata": {},
          "execution_count": 398
        }
      ]
    },
    {
      "cell_type": "markdown",
      "metadata": {
        "id": "tP5iDnunfq46"
      },
      "source": [
        "We can customize the indices of a new Series:"
      ]
    },
    {
      "cell_type": "code",
      "metadata": {
        "colab": {
          "base_uri": "https://localhost:8080/"
        },
        "id": "eswQC3ZPO58l",
        "outputId": "f10870b3-6f77-460f-8e93-a9debf2d2f95"
      },
      "source": [
        "s = pd.Series(price,index = ['a','b','c','d','e','f'])\n",
        "s"
      ],
      "execution_count": 399,
      "outputs": [
        {
          "output_type": "execute_result",
          "data": {
            "text/plain": [
              "a    143.73\n",
              "b    145.83\n",
              "c    143.68\n",
              "d    144.02\n",
              "e    143.50\n",
              "f    142.62\n",
              "dtype: float64"
            ]
          },
          "metadata": {},
          "execution_count": 399
        }
      ]
    },
    {
      "cell_type": "code",
      "metadata": {
        "colab": {
          "base_uri": "https://localhost:8080/"
        },
        "id": "QIqVBj3-Lif3",
        "outputId": "e76f7b0c-1db4-4bd4-f882-27e4a454ea43"
      },
      "source": [
        "ss = pd.Series(precio,index = ['a','b','c','d','e','f'])\n",
        "ss"
      ],
      "execution_count": 400,
      "outputs": [
        {
          "output_type": "execute_result",
          "data": {
            "text/plain": [
              "a    260.52\n",
              "b    263.12\n",
              "c    264.69\n",
              "d    265.22\n",
              "e    266.35\n",
              "f    267.12\n",
              "dtype: float64"
            ]
          },
          "metadata": {},
          "execution_count": 400
        }
      ]
    },
    {
      "cell_type": "markdown",
      "metadata": {
        "id": "wdZrb8pEfuua"
      },
      "source": [
        "Or we can change the indices of an existing Series:"
      ]
    },
    {
      "cell_type": "code",
      "metadata": {
        "colab": {
          "base_uri": "https://localhost:8080/"
        },
        "id": "MwlRnPF6O58l",
        "outputId": "51ca58b7-dfd4-4ef8-931a-5e8239754a7a"
      },
      "source": [
        "s.index = [6,5,4,3,2,1]\n",
        "s"
      ],
      "execution_count": 401,
      "outputs": [
        {
          "output_type": "execute_result",
          "data": {
            "text/plain": [
              "6    143.73\n",
              "5    145.83\n",
              "4    143.68\n",
              "3    144.02\n",
              "2    143.50\n",
              "1    142.62\n",
              "dtype: float64"
            ]
          },
          "metadata": {},
          "execution_count": 401
        }
      ]
    },
    {
      "cell_type": "code",
      "metadata": {
        "colab": {
          "base_uri": "https://localhost:8080/"
        },
        "id": "gmrEWZ-tNLLG",
        "outputId": "c230eda1-7aec-470d-8c87-bf66e0c97beb"
      },
      "source": [
        "ss.index = [6,5,4,3,2,1]\n",
        "ss"
      ],
      "execution_count": 402,
      "outputs": [
        {
          "output_type": "execute_result",
          "data": {
            "text/plain": [
              "6    260.52\n",
              "5    263.12\n",
              "4    264.69\n",
              "3    265.22\n",
              "2    266.35\n",
              "1    267.12\n",
              "dtype: float64"
            ]
          },
          "metadata": {},
          "execution_count": 402
        }
      ]
    },
    {
      "cell_type": "markdown",
      "metadata": {
        "id": "6cGNQZwLfxIz"
      },
      "source": [
        "Series is like a list since it can be sliced by index:"
      ]
    },
    {
      "cell_type": "code",
      "metadata": {
        "colab": {
          "base_uri": "https://localhost:8080/"
        },
        "id": "N9bBSg6cO58l",
        "outputId": "e2e60f7f-339f-4eab-e262-222020d02b98"
      },
      "source": [
        "print(s[1:])\n",
        "print(s[:-2])"
      ],
      "execution_count": 403,
      "outputs": [
        {
          "output_type": "stream",
          "name": "stdout",
          "text": [
            "5    145.83\n",
            "4    143.68\n",
            "3    144.02\n",
            "2    143.50\n",
            "1    142.62\n",
            "dtype: float64\n",
            "6    143.73\n",
            "5    145.83\n",
            "4    143.68\n",
            "3    144.02\n",
            "dtype: float64\n"
          ]
        }
      ]
    },
    {
      "cell_type": "code",
      "metadata": {
        "colab": {
          "base_uri": "https://localhost:8080/"
        },
        "id": "5Nk5UE6SNl45",
        "outputId": "7ed07510-6b22-4883-db8d-0b10cbfa632f"
      },
      "source": [
        "print(ss[1:])\n",
        "print(ss[:-2])"
      ],
      "execution_count": 404,
      "outputs": [
        {
          "output_type": "stream",
          "name": "stdout",
          "text": [
            "5    263.12\n",
            "4    264.69\n",
            "3    265.22\n",
            "2    266.35\n",
            "1    267.12\n",
            "dtype: float64\n",
            "6    260.52\n",
            "5    263.12\n",
            "4    264.69\n",
            "3    265.22\n",
            "dtype: float64\n"
          ]
        }
      ]
    },
    {
      "cell_type": "markdown",
      "metadata": {
        "id": "5V25nViZfz3Z"
      },
      "source": [
        "Series is also like a dictionary whose values can be set or fetched by index label:"
      ]
    },
    {
      "cell_type": "code",
      "metadata": {
        "colab": {
          "base_uri": "https://localhost:8080/"
        },
        "id": "b3Y0kKGYO58l",
        "outputId": "0ed3fa4f-4f88-4d48-9c25-d37c47613357"
      },
      "source": [
        "print(s[4])\n",
        "s[4] = 0\n",
        "print(s)"
      ],
      "execution_count": 405,
      "outputs": [
        {
          "output_type": "stream",
          "name": "stdout",
          "text": [
            "143.68\n",
            "6    143.73\n",
            "5    145.83\n",
            "4      0.00\n",
            "3    144.02\n",
            "2    143.50\n",
            "1    142.62\n",
            "dtype: float64\n"
          ]
        }
      ]
    },
    {
      "cell_type": "code",
      "metadata": {
        "colab": {
          "base_uri": "https://localhost:8080/"
        },
        "id": "dZO0cClZNzTx",
        "outputId": "097cf0c5-caf0-4385-c199-941e6b16f937"
      },
      "source": [
        "print(ss[4])\n",
        "ss[4] = 0\n",
        "print(ss)"
      ],
      "execution_count": 406,
      "outputs": [
        {
          "output_type": "stream",
          "name": "stdout",
          "text": [
            "264.69\n",
            "6    260.52\n",
            "5    263.12\n",
            "4      0.00\n",
            "3    265.22\n",
            "2    266.35\n",
            "1    267.12\n",
            "dtype: float64\n"
          ]
        }
      ]
    },
    {
      "cell_type": "markdown",
      "metadata": {
        "id": "RQ1P7Gkyf060"
      },
      "source": [
        "Series can also have a name attribute, which will be used when we make up a Pandas DataFrame using several series."
      ]
    },
    {
      "cell_type": "code",
      "metadata": {
        "colab": {
          "base_uri": "https://localhost:8080/"
        },
        "id": "ZeD4-p7KO58m",
        "outputId": "cc2bf2b4-0bed-44d2-da79-c166de499a87"
      },
      "source": [
        "s = pd.Series(price, name = 'Precio Manzana List')\n",
        "print(s)\n",
        "print(s.name) #name(Attribute)"
      ],
      "execution_count": 407,
      "outputs": [
        {
          "output_type": "stream",
          "name": "stdout",
          "text": [
            "0    143.73\n",
            "1    145.83\n",
            "2    143.68\n",
            "3    144.02\n",
            "4    143.50\n",
            "5    142.62\n",
            "Name: Precio Manzana List, dtype: float64\n",
            "Precio Manzana List\n"
          ]
        }
      ]
    },
    {
      "cell_type": "code",
      "metadata": {
        "colab": {
          "base_uri": "https://localhost:8080/"
        },
        "id": "ZxrEutAsOMib",
        "outputId": "f2ab8cbf-a76b-42cf-9101-05affbe85fb1"
      },
      "source": [
        "ss = pd.Series(precio, name = 'Precio Manzana List')\n",
        "print(ss)\n",
        "print(ss.name)"
      ],
      "execution_count": 408,
      "outputs": [
        {
          "output_type": "stream",
          "name": "stdout",
          "text": [
            "0    260.52\n",
            "1    263.12\n",
            "2    264.69\n",
            "3    265.22\n",
            "4    266.35\n",
            "5    267.12\n",
            "Name: Precio Manzana List, dtype: float64\n",
            "Precio Manzana List\n"
          ]
        }
      ]
    },
    {
      "cell_type": "markdown",
      "metadata": {
        "id": "geJb1pGHf5Et"
      },
      "source": [
        "We can get the statistical summaries of a Series:"
      ]
    },
    {
      "cell_type": "code",
      "metadata": {
        "colab": {
          "base_uri": "https://localhost:8080/"
        },
        "id": "mGPtFcjegm4i",
        "outputId": "ffd42e99-77ae-412f-e22b-5505e573f484"
      },
      "source": [
        "print(s.describe())"
      ],
      "execution_count": 409,
      "outputs": [
        {
          "output_type": "stream",
          "name": "stdout",
          "text": [
            "count      6.000000\n",
            "mean     143.896667\n",
            "std        1.059711\n",
            "min      142.620000\n",
            "25%      143.545000\n",
            "50%      143.705000\n",
            "75%      143.947500\n",
            "max      145.830000\n",
            "Name: Precio Manzana List, dtype: float64\n"
          ]
        }
      ]
    },
    {
      "cell_type": "code",
      "metadata": {
        "colab": {
          "base_uri": "https://localhost:8080/"
        },
        "id": "Lx6lzPvPTN4B",
        "outputId": "ca83eb41-8316-442a-95c3-a3f872456293"
      },
      "source": [
        "print(ss.describe())"
      ],
      "execution_count": 410,
      "outputs": [
        {
          "output_type": "stream",
          "name": "stdout",
          "text": [
            "count      6.000000\n",
            "mean     264.503333\n",
            "std        2.391072\n",
            "min      260.520000\n",
            "25%      263.512500\n",
            "50%      264.955000\n",
            "75%      266.067500\n",
            "max      267.120000\n",
            "Name: Precio Manzana List, dtype: float64\n"
          ]
        }
      ]
    },
    {
      "cell_type": "markdown",
      "metadata": {
        "id": "LkdZu-CDgvlR"
      },
      "source": [
        "## Time Index\n",
        "Pandas has a built-in function specifically for creating date indices: pd.date_range(). We use it to create a new index for our Series:"
      ]
    },
    {
      "cell_type": "code",
      "metadata": {
        "colab": {
          "base_uri": "https://localhost:8080/"
        },
        "id": "HJe5hU4zO58m",
        "outputId": "9f1175a3-6459-400f-ed2b-45cd8838f1ab"
      },
      "source": [
        "time_index = pd.date_range('2017-01-01',periods = len(s),freq = 'D')#pd.date_range() is used to create a new index for our Series\n",
        "print(time_index)\n",
        "s.index = time_index\n",
        "print(s)"
      ],
      "execution_count": 411,
      "outputs": [
        {
          "output_type": "stream",
          "name": "stdout",
          "text": [
            "DatetimeIndex(['2017-01-01', '2017-01-02', '2017-01-03', '2017-01-04',\n",
            "               '2017-01-05', '2017-01-06'],\n",
            "              dtype='datetime64[ns]', freq='D')\n",
            "2017-01-01    143.73\n",
            "2017-01-02    145.83\n",
            "2017-01-03    143.68\n",
            "2017-01-04    144.02\n",
            "2017-01-05    143.50\n",
            "2017-01-06    142.62\n",
            "Freq: D, Name: Precio Manzana List, dtype: float64\n"
          ]
        }
      ]
    },
    {
      "cell_type": "code",
      "metadata": {
        "colab": {
          "base_uri": "https://localhost:8080/"
        },
        "id": "HtL-PZHgTZYi",
        "outputId": "7a379d39-370d-4e62-fc94-638485435bf3"
      },
      "source": [
        "time_index = pd.date_range('2017-01-01',periods = len(ss),freq = 'D')\n",
        "print(time_index)\n",
        "ss.index = time_index\n",
        "print(ss)"
      ],
      "execution_count": 412,
      "outputs": [
        {
          "output_type": "stream",
          "name": "stdout",
          "text": [
            "DatetimeIndex(['2017-01-01', '2017-01-02', '2017-01-03', '2017-01-04',\n",
            "               '2017-01-05', '2017-01-06'],\n",
            "              dtype='datetime64[ns]', freq='D')\n",
            "2017-01-01    260.52\n",
            "2017-01-02    263.12\n",
            "2017-01-03    264.69\n",
            "2017-01-04    265.22\n",
            "2017-01-05    266.35\n",
            "2017-01-06    267.12\n",
            "Freq: D, Name: Precio Manzana List, dtype: float64\n"
          ]
        }
      ]
    },
    {
      "cell_type": "markdown",
      "metadata": {
        "id": "7WedejFZg19J"
      },
      "source": [
        "Series are usually accessed using the iloc[] and loc[] methods. iloc[] is used to access elements by integer index, and loc[] is used to access the index of the series.\n",
        "\n",
        "iloc[] is necessary when the index of a series are integers, take our previous defined series as example:"
      ]
    },
    {
      "cell_type": "code",
      "metadata": {
        "colab": {
          "base_uri": "https://localhost:8080/"
        },
        "id": "KrVSOyMvO58m",
        "outputId": "47a29545-1568-45c6-db4e-348077ca03a1"
      },
      "source": [
        "s.index = [6,5,4,3,2,1]\n",
        "print(s)\n",
        "print(s[1])"
      ],
      "execution_count": 413,
      "outputs": [
        {
          "output_type": "stream",
          "name": "stdout",
          "text": [
            "6    143.73\n",
            "5    145.83\n",
            "4    143.68\n",
            "3    144.02\n",
            "2    143.50\n",
            "1    142.62\n",
            "Name: Precio Manzana List, dtype: float64\n",
            "142.62\n"
          ]
        }
      ]
    },
    {
      "cell_type": "code",
      "metadata": {
        "colab": {
          "base_uri": "https://localhost:8080/"
        },
        "id": "hnHvbxvvTpdt",
        "outputId": "6a5cdc00-af6a-4188-ef95-5c574d984450"
      },
      "source": [
        "s.index = [6,5,4,3,2,1]\n",
        "print(ss)\n",
        "print(ss[1])"
      ],
      "execution_count": 414,
      "outputs": [
        {
          "output_type": "stream",
          "name": "stdout",
          "text": [
            "2017-01-01    260.52\n",
            "2017-01-02    263.12\n",
            "2017-01-03    264.69\n",
            "2017-01-04    265.22\n",
            "2017-01-05    266.35\n",
            "2017-01-06    267.12\n",
            "Freq: D, Name: Precio Manzana List, dtype: float64\n",
            "263.12\n"
          ]
        }
      ]
    },
    {
      "cell_type": "markdown",
      "metadata": {
        "id": "r30VKPtpg61p"
      },
      "source": [
        "If we intended to take the second element of the series, we would make a mistake here, because the index are integers. In order to access to the element we want, we use iloc[] here:"
      ]
    },
    {
      "cell_type": "code",
      "metadata": {
        "colab": {
          "base_uri": "https://localhost:8080/"
        },
        "id": "bHukfaAmO58m",
        "outputId": "cad79b61-08ad-4d99-8de7-0bd37b0f8a18"
      },
      "source": [
        "print(s.iloc[1]) #iloc[] is used to access elements by integer index"
      ],
      "execution_count": 415,
      "outputs": [
        {
          "output_type": "stream",
          "name": "stdout",
          "text": [
            "145.83\n"
          ]
        }
      ]
    },
    {
      "cell_type": "code",
      "metadata": {
        "colab": {
          "base_uri": "https://localhost:8080/"
        },
        "id": "uEWsuqx7TxWH",
        "outputId": "abde892f-c937-42e1-b23c-b837e55559a7"
      },
      "source": [
        "print(ss.iloc[1])"
      ],
      "execution_count": 416,
      "outputs": [
        {
          "output_type": "stream",
          "name": "stdout",
          "text": [
            "263.12\n"
          ]
        }
      ]
    },
    {
      "cell_type": "markdown",
      "metadata": {
        "id": "kHVBRL_Rg84j"
      },
      "source": [
        "While working with time series data, we often use time as the index. Pandas provides us with various methods to access the data by time index"
      ]
    },
    {
      "cell_type": "code",
      "metadata": {
        "colab": {
          "base_uri": "https://localhost:8080/"
        },
        "id": "FCf8Hg7jO58n",
        "outputId": "8f06b7bd-ddde-4ae9-b219-cd420745eb0b"
      },
      "source": [
        "s.index = time_index\n",
        "print(s['2017-01-03'])"
      ],
      "execution_count": 417,
      "outputs": [
        {
          "output_type": "stream",
          "name": "stdout",
          "text": [
            "143.68\n"
          ]
        }
      ]
    },
    {
      "cell_type": "code",
      "metadata": {
        "colab": {
          "base_uri": "https://localhost:8080/"
        },
        "id": "Mc9yHmhQUHHZ",
        "outputId": "a2dfb432-a24c-4fc5-fc78-e1fe5266191f"
      },
      "source": [
        "ss.index = time_index\n",
        "print(ss['2017-01-03'])"
      ],
      "execution_count": 418,
      "outputs": [
        {
          "output_type": "stream",
          "name": "stdout",
          "text": [
            "264.69\n"
          ]
        }
      ]
    },
    {
      "cell_type": "markdown",
      "metadata": {
        "id": "XJXcrSFpg-To"
      },
      "source": [
        "We can even access to a range of dates:"
      ]
    },
    {
      "cell_type": "code",
      "metadata": {
        "colab": {
          "base_uri": "https://localhost:8080/"
        },
        "id": "NsE-Lr_9O58n",
        "outputId": "76a3f1c9-9ebf-47ad-8626-162959bff538"
      },
      "source": [
        "print(s['2017-01-02':'2017-01-05'])"
      ],
      "execution_count": 419,
      "outputs": [
        {
          "output_type": "stream",
          "name": "stdout",
          "text": [
            "2017-01-02    145.83\n",
            "2017-01-03    143.68\n",
            "2017-01-04    144.02\n",
            "2017-01-05    143.50\n",
            "Freq: D, Name: Precio Manzana List, dtype: float64\n"
          ]
        }
      ]
    },
    {
      "cell_type": "code",
      "metadata": {
        "colab": {
          "base_uri": "https://localhost:8080/"
        },
        "id": "Kz6L7f_5UTff",
        "outputId": "0dfc0642-aa87-4d9d-dc9a-3f28db7143cb"
      },
      "source": [
        "print(ss['2017-01-02':'2017-01-05'])"
      ],
      "execution_count": 420,
      "outputs": [
        {
          "output_type": "stream",
          "name": "stdout",
          "text": [
            "2017-01-02    263.12\n",
            "2017-01-03    264.69\n",
            "2017-01-04    265.22\n",
            "2017-01-05    266.35\n",
            "Freq: D, Name: Precio Manzana List, dtype: float64\n"
          ]
        }
      ]
    },
    {
      "cell_type": "markdown",
      "metadata": {
        "id": "cWA3NCXEhCLB"
      },
      "source": [
        "Series[] provides us a very flexible way to index data. We can add any condition in the square brackets:"
      ]
    },
    {
      "cell_type": "code",
      "metadata": {
        "colab": {
          "base_uri": "https://localhost:8080/"
        },
        "id": "aawbrg2EO58n",
        "outputId": "a1f7d558-0e8e-47a0-c172-90871fc252e8"
      },
      "source": [
        "print(s[s < np.mean(s)] )\n",
        "print([(s > np.mean(s)) & (s < np.mean(s) + 1.64*np.std(s))])"
      ],
      "execution_count": 421,
      "outputs": [
        {
          "output_type": "stream",
          "name": "stdout",
          "text": [
            "2017-01-01    143.73\n",
            "2017-01-03    143.68\n",
            "2017-01-05    143.50\n",
            "2017-01-06    142.62\n",
            "Name: Precio Manzana List, dtype: float64\n",
            "[2017-01-01    False\n",
            "2017-01-02    False\n",
            "2017-01-03    False\n",
            "2017-01-04     True\n",
            "2017-01-05    False\n",
            "2017-01-06    False\n",
            "Freq: D, Name: Precio Manzana List, dtype: bool]\n"
          ]
        }
      ]
    },
    {
      "cell_type": "code",
      "metadata": {
        "colab": {
          "base_uri": "https://localhost:8080/"
        },
        "id": "jTn475g3UfKx",
        "outputId": "055aebde-ae8d-46e1-aa2b-23c68228faea"
      },
      "source": [
        "print(ss[ss < np.mean(ss)] )\n",
        "print([(ss > np.mean(ss)) & (ss < np.mean(ss) + 1.64*np.std(ss))])"
      ],
      "execution_count": 422,
      "outputs": [
        {
          "output_type": "stream",
          "name": "stdout",
          "text": [
            "2017-01-01    260.52\n",
            "2017-01-02    263.12\n",
            "Freq: D, Name: Precio Manzana List, dtype: float64\n",
            "[2017-01-01    False\n",
            "2017-01-02    False\n",
            "2017-01-03     True\n",
            "2017-01-04     True\n",
            "2017-01-05     True\n",
            "2017-01-06     True\n",
            "Freq: D, Name: Precio Manzana List, dtype: bool]\n"
          ]
        }
      ]
    },
    {
      "cell_type": "markdown",
      "metadata": {
        "id": "jAByChIwhEuI"
      },
      "source": [
        "As demonstrated, we can use logical operators like & (and), | (or) and ~ (not) to group multiple conditions.\n",
        "\n",
        "# Summary\n",
        "Here we have introduced NumPy and Pandas for scientific computing in Python. In the next chapter, we will dive into Pandas to learn resampling and manipulating Pandas DataFrame, which are commonly used in financial data analysis."
      ]
    },
    {
      "cell_type": "markdown",
      "metadata": {
        "id": "OtjOpw6oJp6z"
      },
      "source": [
        "<div align=\"center\">\n",
        "<img style=\"display: block; margin: auto;\" alt=\"photo\" src=\"https://cdn.quantconnect.com/web/i/icon.png\"> <img style=\"display: block; margin: auto;\" alt=\"photo\" src=\"https://www.marketing-branding.com/wp-content/uploads/2020/07/google-colaboratory-colab-guia-completa.jpg \" width=\"50\" height=\"50\">\n",
        "<img style=\"display: block; margin: auto;\" alt=\"photo\" src=\"https://upload.wikimedia.org/wikipedia/commons/d/da/Yahoo_Finance_Logo_2019.svg\" width=\"50\" height=\"50\">  \n",
        "\n",
        "Quantconnect -> Google Colab with Yahoo Finance data\n",
        "\n",
        "Introduction to Financial Python\n",
        "</div>\n",
        "\n",
        "# 05 Pandas-Resampling and DataFrame\n",
        "\n",
        "# Introduction\n",
        "In the last chapter we had a glimpse of Pandas. In this chapter we will learn about resampling methods and the DataFrame object, which is a powerful tool for financial data analysis.\n",
        "\n",
        "# Fetching Data\n",
        "Here we use the Yahoo Finance to retrieve data.\n"
      ]
    },
    {
      "cell_type": "code",
      "metadata": {
        "id": "luU8mZTsHW9x",
        "colab": {
          "base_uri": "https://localhost:8080/"
        },
        "outputId": "bb7bab60-a5ba-42ca-9aae-5240008267aa"
      },
      "source": [
        "!pip install yfinance"
      ],
      "execution_count": 423,
      "outputs": [
        {
          "output_type": "stream",
          "name": "stdout",
          "text": [
            "Collecting yfinance\n",
            "  Downloading yfinance-0.1.64.tar.gz (26 kB)\n",
            "Requirement already satisfied: pandas>=0.24 in /usr/local/lib/python3.7/dist-packages (from yfinance) (1.1.5)\n",
            "Requirement already satisfied: numpy>=1.15 in /usr/local/lib/python3.7/dist-packages (from yfinance) (1.19.5)\n",
            "Requirement already satisfied: requests>=2.20 in /usr/local/lib/python3.7/dist-packages (from yfinance) (2.23.0)\n",
            "Requirement already satisfied: multitasking>=0.0.7 in /usr/local/lib/python3.7/dist-packages (from yfinance) (0.0.9)\n",
            "Collecting lxml>=4.5.1\n",
            "  Downloading lxml-4.6.3-cp37-cp37m-manylinux2014_x86_64.whl (6.3 MB)\n",
            "\u001b[K     |████████████████████████████████| 6.3 MB 7.9 MB/s \n",
            "\u001b[?25hRequirement already satisfied: python-dateutil>=2.7.3 in /usr/local/lib/python3.7/dist-packages (from pandas>=0.24->yfinance) (2.8.2)\n",
            "Requirement already satisfied: pytz>=2017.2 in /usr/local/lib/python3.7/dist-packages (from pandas>=0.24->yfinance) (2018.9)\n",
            "Requirement already satisfied: six>=1.5 in /usr/local/lib/python3.7/dist-packages (from python-dateutil>=2.7.3->pandas>=0.24->yfinance) (1.15.0)\n",
            "Requirement already satisfied: certifi>=2017.4.17 in /usr/local/lib/python3.7/dist-packages (from requests>=2.20->yfinance) (2021.5.30)\n",
            "Requirement already satisfied: urllib3!=1.25.0,!=1.25.1,<1.26,>=1.21.1 in /usr/local/lib/python3.7/dist-packages (from requests>=2.20->yfinance) (1.24.3)\n",
            "Requirement already satisfied: chardet<4,>=3.0.2 in /usr/local/lib/python3.7/dist-packages (from requests>=2.20->yfinance) (3.0.4)\n",
            "Requirement already satisfied: idna<3,>=2.5 in /usr/local/lib/python3.7/dist-packages (from requests>=2.20->yfinance) (2.10)\n",
            "Building wheels for collected packages: yfinance\n",
            "  Building wheel for yfinance (setup.py) ... \u001b[?25l\u001b[?25hdone\n",
            "  Created wheel for yfinance: filename=yfinance-0.1.64-py2.py3-none-any.whl size=24109 sha256=15d01019d9053a04ebb19cbf52b55a924554d91c6ed11845ece8af74239b68f8\n",
            "  Stored in directory: /root/.cache/pip/wheels/86/fe/9b/a4d3d78796b699e37065e5b6c27b75cff448ddb8b24943c288\n",
            "Successfully built yfinance\n",
            "Installing collected packages: lxml, yfinance\n",
            "  Attempting uninstall: lxml\n",
            "    Found existing installation: lxml 4.2.6\n",
            "    Uninstalling lxml-4.2.6:\n",
            "      Successfully uninstalled lxml-4.2.6\n",
            "Successfully installed lxml-4.6.3 yfinance-0.1.64\n"
          ]
        }
      ]
    },
    {
      "cell_type": "code",
      "metadata": {
        "colab": {
          "base_uri": "https://localhost:8080/",
          "height": 487
        },
        "id": "mWZ-nirTZHrE",
        "outputId": "a493c147-0815-413e-b07f-7b84aff46ad7"
      },
      "source": [
        "import yfinance as yf\n",
        "\n",
        "aapl = yf.Ticker(\"AAPL\")\n",
        "\n",
        "# get stock info\n",
        "print(aapl.info)\n",
        "\n",
        "# get historical market data\n",
        "aapl_table = aapl.history(start=\"2016-01-01\",  end=\"2017-12-31\")\n",
        "aapl_table"
      ],
      "execution_count": 424,
      "outputs": [
        {
          "output_type": "stream",
          "name": "stdout",
          "text": [
            "{'zip': '95014', 'sector': 'Technology', 'fullTimeEmployees': 154000, 'longBusinessSummary': 'Apple Inc. designs, manufactures, and markets smartphones, personal computers, tablets, wearables, and accessories worldwide. It also sells various related services. In addition, the company offers iPhone, a line of smartphones; Mac, a line of personal computers; iPad, a line of multi-purpose tablets; AirPods Max, an over-ear wireless headphone; and wearables, home, and accessories comprising AirPods, Apple TV, Apple Watch, Beats products, HomePod, and iPod touch. Further, it provides AppleCare support services; cloud services store services; and operates various platforms, including the App Store that allow customers to discover and download applications and digital content, such as books, music, video, games, and podcasts. Additionally, the company offers various services, such as Apple Arcade, a game subscription service; Apple Music, which offers users a curated listening experience with on-demand radio stations; Apple News+, a subscription news and magazine service; Apple TV+, which offers exclusive original content; Apple Card, a co-branded credit card; and Apple Pay, a cashless payment service, as well as licenses its intellectual property. The company serves consumers, and small and mid-sized businesses; and the education, enterprise, and government markets. It distributes third-party applications for its products through the App Store. The company also sells its products through its retail and online stores, and direct sales force; and third-party cellular network carriers, wholesalers, retailers, and resellers. Apple Inc. was incorporated in 1977 and is headquartered in Cupertino, California.', 'city': 'Cupertino', 'phone': '408 996 1010', 'state': 'CA', 'country': 'United States', 'companyOfficers': [], 'website': 'http://www.apple.com', 'maxAge': 1, 'address1': 'One Apple Park Way', 'industry': 'Consumer Electronics', 'ebitdaMargins': 0.32867, 'profitMargins': 0.25882, 'grossMargins': 0.41779, 'operatingCashflow': 104037998592, 'revenueGrowth': 0.288, 'operatingMargins': 0.29782, 'ebitda': 120233000960, 'targetLowPrice': 132, 'recommendationKey': 'buy', 'grossProfits': 152836000000, 'freeCashflow': 73295003648, 'targetMedianPrice': 170, 'currentPrice': 149.8, 'earningsGrowth': 0.662, 'currentRatio': 1.075, 'returnOnAssets': 0.20179, 'numberOfAnalystOpinions': 40, 'targetMeanPrice': 168.84, 'debtToEquity': 216.392, 'returnOnEquity': 1.47443, 'targetHighPrice': 190, 'totalCash': 62639001600, 'totalDebt': 136521998336, 'totalRevenue': 365817004032, 'totalCashPerShare': 3.818, 'financialCurrency': 'USD', 'revenuePerShare': 21.904, 'quickRatio': 0.91, 'recommendationMean': 1.9, 'exchange': 'NMS', 'shortName': 'Apple Inc.', 'longName': 'Apple Inc.', 'exchangeTimezoneName': 'America/New_York', 'exchangeTimezoneShortName': 'EDT', 'isEsgPopulated': False, 'gmtOffSetMilliseconds': '-14400000', 'quoteType': 'EQUITY', 'symbol': 'AAPL', 'messageBoardId': 'finmb_24937', 'market': 'us_market', 'annualHoldingsTurnover': None, 'enterpriseToRevenue': 6.92, 'beta3Year': None, 'enterpriseToEbitda': 21.055, '52WeekChange': 0.377218, 'morningStarRiskRating': None, 'forwardEps': 5.98, 'revenueQuarterlyGrowth': None, 'sharesOutstanding': 16530199552, 'fundInceptionDate': None, 'annualReportExpenseRatio': None, 'totalAssets': None, 'bookValue': 3.841, 'sharesShort': 100881318, 'sharesPercentSharesOut': 0.0061000003, 'fundFamily': None, 'lastFiscalYearEnd': 1632528000, 'heldPercentInstitutions': 0.58625, 'netIncomeToCommon': 94679998464, 'trailingEps': 5.61, 'lastDividendValue': 0.22, 'SandP52WeekChange': 0.39125264, 'priceToBook': 39.00026, 'heldPercentInsiders': 0.00071999995, 'nextFiscalYearEnd': 1695600000, 'yield': None, 'mostRecentQuarter': 1632528000, 'shortRatio': 1.25, 'sharesShortPreviousMonthDate': 1631664000, 'floatShares': 16389498411, 'beta': 1.222222, 'enterpriseValue': 2531561308160, 'priceHint': 2, 'threeYearAverageReturn': None, 'lastSplitDate': 1598832000, 'lastSplitFactor': '4:1', 'legalType': None, 'lastDividendDate': 1628208000, 'morningStarOverallRating': None, 'earningsQuarterlyGrowth': 0.622, 'priceToSalesTrailing12Months': 6.769024, 'dateShortInterest': 1634256000, 'pegRatio': 1.35, 'ytdReturn': None, 'forwardPE': 25.050167, 'lastCapGain': None, 'shortPercentOfFloat': 0.0061000003, 'sharesShortPriorMonth': 100926641, 'impliedSharesOutstanding': None, 'category': None, 'fiveYearAverageReturn': None, 'previousClose': 152.57, 'regularMarketOpen': 147.215, 'twoHundredDayAverage': 140.12863, 'trailingAnnualDividendYield': 0.005571213, 'payoutRatio': 0.16309999, 'volume24Hr': None, 'regularMarketDayHigh': 149.935, 'navPrice': None, 'averageDailyVolume10Day': 75246133, 'regularMarketPreviousClose': 152.57, 'fiftyDayAverage': 145.59914, 'trailingAnnualDividendRate': 0.85, 'open': 147.215, 'toCurrency': None, 'averageVolume10days': 75246133, 'expireDate': None, 'algorithm': None, 'dividendRate': 0.88, 'exDividendDate': 1628208000, 'circulatingSupply': None, 'startDate': None, 'regularMarketDayLow': 146.4128, 'currency': 'USD', 'trailingPE': 26.702316, 'regularMarketVolume': 124953168, 'lastMarket': None, 'maxSupply': None, 'openInterest': None, 'marketCap': 2476224020480, 'volumeAllCurrencies': None, 'strikePrice': None, 'averageVolume': 75359889, 'dayLow': 146.4128, 'ask': 149.93, 'askSize': 1100, 'volume': 124953168, 'fiftyTwoWeekHigh': 157.26, 'fromCurrency': None, 'fiveYearAvgDividendYield': 1.22, 'fiftyTwoWeekLow': 107.32, 'bid': 149.92, 'tradeable': False, 'dividendYield': 0.0058999998, 'bidSize': 1100, 'dayHigh': 149.935, 'regularMarketPrice': 149.8, 'preMarketPrice': None, 'logo_url': 'https://logo.clearbit.com/apple.com'}\n"
          ]
        },
        {
          "output_type": "execute_result",
          "data": {
            "text/html": [
              "<div>\n",
              "<style scoped>\n",
              "    .dataframe tbody tr th:only-of-type {\n",
              "        vertical-align: middle;\n",
              "    }\n",
              "\n",
              "    .dataframe tbody tr th {\n",
              "        vertical-align: top;\n",
              "    }\n",
              "\n",
              "    .dataframe thead th {\n",
              "        text-align: right;\n",
              "    }\n",
              "</style>\n",
              "<table border=\"1\" class=\"dataframe\">\n",
              "  <thead>\n",
              "    <tr style=\"text-align: right;\">\n",
              "      <th></th>\n",
              "      <th>Open</th>\n",
              "      <th>High</th>\n",
              "      <th>Low</th>\n",
              "      <th>Close</th>\n",
              "      <th>Volume</th>\n",
              "      <th>Dividends</th>\n",
              "      <th>Stock Splits</th>\n",
              "    </tr>\n",
              "    <tr>\n",
              "      <th>Date</th>\n",
              "      <th></th>\n",
              "      <th></th>\n",
              "      <th></th>\n",
              "      <th></th>\n",
              "      <th></th>\n",
              "      <th></th>\n",
              "      <th></th>\n",
              "    </tr>\n",
              "  </thead>\n",
              "  <tbody>\n",
              "    <tr>\n",
              "      <th>2016-01-04</th>\n",
              "      <td>23.655166</td>\n",
              "      <td>24.291443</td>\n",
              "      <td>23.514540</td>\n",
              "      <td>24.286831</td>\n",
              "      <td>270597600</td>\n",
              "      <td>0.0</td>\n",
              "      <td>0</td>\n",
              "    </tr>\n",
              "    <tr>\n",
              "      <th>2016-01-05</th>\n",
              "      <td>24.379045</td>\n",
              "      <td>24.402098</td>\n",
              "      <td>23.609059</td>\n",
              "      <td>23.678219</td>\n",
              "      <td>223164000</td>\n",
              "      <td>0.0</td>\n",
              "      <td>0</td>\n",
              "    </tr>\n",
              "    <tr>\n",
              "      <th>2016-01-06</th>\n",
              "      <td>23.182569</td>\n",
              "      <td>23.599838</td>\n",
              "      <td>23.023501</td>\n",
              "      <td>23.214844</td>\n",
              "      <td>273829600</td>\n",
              "      <td>0.0</td>\n",
              "      <td>0</td>\n",
              "    </tr>\n",
              "    <tr>\n",
              "      <th>2016-01-07</th>\n",
              "      <td>22.749160</td>\n",
              "      <td>23.083435</td>\n",
              "      <td>22.230457</td>\n",
              "      <td>22.235067</td>\n",
              "      <td>324377600</td>\n",
              "      <td>0.0</td>\n",
              "      <td>0</td>\n",
              "    </tr>\n",
              "    <tr>\n",
              "      <th>2016-01-08</th>\n",
              "      <td>22.719193</td>\n",
              "      <td>22.848292</td>\n",
              "      <td>22.306536</td>\n",
              "      <td>22.352642</td>\n",
              "      <td>283192000</td>\n",
              "      <td>0.0</td>\n",
              "      <td>0</td>\n",
              "    </tr>\n",
              "    <tr>\n",
              "      <th>...</th>\n",
              "      <td>...</td>\n",
              "      <td>...</td>\n",
              "      <td>...</td>\n",
              "      <td>...</td>\n",
              "      <td>...</td>\n",
              "      <td>...</td>\n",
              "      <td>...</td>\n",
              "    </tr>\n",
              "    <tr>\n",
              "      <th>2017-12-22</th>\n",
              "      <td>41.827749</td>\n",
              "      <td>42.004946</td>\n",
              "      <td>41.784649</td>\n",
              "      <td>41.906769</td>\n",
              "      <td>65397600</td>\n",
              "      <td>0.0</td>\n",
              "      <td>0</td>\n",
              "    </tr>\n",
              "    <tr>\n",
              "      <th>2017-12-26</th>\n",
              "      <td>40.898678</td>\n",
              "      <td>41.059112</td>\n",
              "      <td>40.630488</td>\n",
              "      <td>40.843605</td>\n",
              "      <td>132742000</td>\n",
              "      <td>0.0</td>\n",
              "      <td>0</td>\n",
              "    </tr>\n",
              "    <tr>\n",
              "      <th>2017-12-27</th>\n",
              "      <td>40.731061</td>\n",
              "      <td>40.893888</td>\n",
              "      <td>40.637675</td>\n",
              "      <td>40.850788</td>\n",
              "      <td>85992800</td>\n",
              "      <td>0.0</td>\n",
              "      <td>0</td>\n",
              "    </tr>\n",
              "    <tr>\n",
              "      <th>2017-12-28</th>\n",
              "      <td>40.946568</td>\n",
              "      <td>41.150105</td>\n",
              "      <td>40.822051</td>\n",
              "      <td>40.965725</td>\n",
              "      <td>65920800</td>\n",
              "      <td>0.0</td>\n",
              "      <td>0</td>\n",
              "    </tr>\n",
              "    <tr>\n",
              "      <th>2017-12-29</th>\n",
              "      <td>40.831621</td>\n",
              "      <td>40.848381</td>\n",
              "      <td>40.520331</td>\n",
              "      <td>40.522724</td>\n",
              "      <td>103999600</td>\n",
              "      <td>0.0</td>\n",
              "      <td>0</td>\n",
              "    </tr>\n",
              "  </tbody>\n",
              "</table>\n",
              "<p>503 rows × 7 columns</p>\n",
              "</div>"
            ],
            "text/plain": [
              "                 Open       High        Low  ...     Volume  Dividends  Stock Splits\n",
              "Date                                         ...                                    \n",
              "2016-01-04  23.655166  24.291443  23.514540  ...  270597600        0.0             0\n",
              "2016-01-05  24.379045  24.402098  23.609059  ...  223164000        0.0             0\n",
              "2016-01-06  23.182569  23.599838  23.023501  ...  273829600        0.0             0\n",
              "2016-01-07  22.749160  23.083435  22.230457  ...  324377600        0.0             0\n",
              "2016-01-08  22.719193  22.848292  22.306536  ...  283192000        0.0             0\n",
              "...               ...        ...        ...  ...        ...        ...           ...\n",
              "2017-12-22  41.827749  42.004946  41.784649  ...   65397600        0.0             0\n",
              "2017-12-26  40.898678  41.059112  40.630488  ...  132742000        0.0             0\n",
              "2017-12-27  40.731061  40.893888  40.637675  ...   85992800        0.0             0\n",
              "2017-12-28  40.946568  41.150105  40.822051  ...   65920800        0.0             0\n",
              "2017-12-29  40.831621  40.848381  40.520331  ...  103999600        0.0             0\n",
              "\n",
              "[503 rows x 7 columns]"
            ]
          },
          "metadata": {},
          "execution_count": 424
        }
      ]
    },
    {
      "cell_type": "code",
      "metadata": {
        "colab": {
          "base_uri": "https://localhost:8080/",
          "height": 487
        },
        "id": "Cg2b_8YXanr4",
        "outputId": "9bbf860e-d164-474f-ce38-9dc8818868af"
      },
      "source": [
        "import yfinance as yf\n",
        "\n",
        "pfizer = yf.Ticker(\"PFE\")\n",
        "\n",
        "# get stock info\n",
        "print(pfizer.info)\n",
        "\n",
        "# get historical market data\n",
        "pfizer_table = pfizer.history(start=\"2016-01-01\",  end=\"2017-12-31\")\n",
        "pfizer_table"
      ],
      "execution_count": 425,
      "outputs": [
        {
          "output_type": "stream",
          "name": "stdout",
          "text": [
            "{'zip': '10017', 'sector': 'Healthcare', 'fullTimeEmployees': 78500, 'longBusinessSummary': 'Pfizer Inc. discovers, develops, manufactures, markets, distributes, and sells biopharmaceutical products worldwide. It offers medicines and vaccines in various therapeutic areas, including cardiovascular metabolic and pain under the Eliquis, Chantix/Champix, and Premarin family brands; biologics, small molecules, immunotherapies, and biosimilars under the Ibrance, Xtandi, Sutent, Inlyta, Retacrit, Lorbrena, and Braftovi brands; and sterile injectable and anti-infective medicines under the Sulperazon, Medrol, Zithromax, Vfend, and Panzyga brands. The company also provides medicines and vaccines in various therapeutic areas, such as pneumococcal disease, meningococcal disease, tick-borne encephalitis, and COVID-19 under the Prevnar 13/Prevenar 13 (pediatric/adult), Nimenrix, FSME/IMMUN-TicoVac, Trumenba, and the Pfizer-BioNTech COVID-19 vaccine brands; biosimilars for chronic immune and inflammatory diseases under the Xeljanz, Enbrel, Inflectra, and Eucrisa/Staquis brands; and amyloidosis, hemophilia, and endocrine diseases under the Vyndaqel/Vyndamax, BeneFIX, and Genotropin brands. In addition, the company is involved in the contract manufacturing business. It serves wholesalers, retailers, hospitals, clinics, government agencies, pharmacies, and individual provider offices, as well as disease control and prevention centers. The company has collaboration agreements with Bristol-Myers Squibb Company; Astellas Pharma US, Inc.; Myovant Sciences Ltd.; Akcea Therapeutics, Inc; Merck KGaA; Valneva SE; BioNTech SE; Arvinas, Inc.; and Syapse, Inc. Pfizer Inc. was founded in 1849 and is headquartered in New York, New York.', 'city': 'New York', 'phone': '212 733 2323', 'state': 'NY', 'country': 'United States', 'companyOfficers': [], 'website': 'http://www.pfizer.com', 'maxAge': 1, 'address1': '235 East 42nd Street', 'industry': 'Drug Manufacturers—General', 'ebitdaMargins': 0.36270002, 'profitMargins': 0.23798999, 'grossMargins': 0.7112, 'operatingCashflow': 23552000000, 'revenueGrowth': 0.924, 'operatingMargins': 0.2732, 'ebitda': 20137000960, 'targetLowPrice': None, 'recommendationKey': 'none', 'grossProfits': 33334000000, 'freeCashflow': 31606624256, 'targetMedianPrice': None, 'currentPrice': 43.74, 'earningsGrowth': 0.59, 'currentRatio': 1.369, 'returnOnAssets': 0.0545, 'numberOfAnalystOpinions': None, 'targetMeanPrice': None, 'debtToEquity': 55.809, 'returnOnEquity': 0.18354, 'targetHighPrice': None, 'totalCash': 21702000640, 'totalDebt': 39241998336, 'totalRevenue': 55520002048, 'totalCashPerShare': 3.871, 'financialCurrency': 'USD', 'revenuePerShare': 9.958, 'quickRatio': 1.011, 'recommendationMean': None, 'exchange': 'NYQ', 'shortName': 'Pfizer, Inc.', 'longName': 'Pfizer Inc.', 'exchangeTimezoneName': 'America/New_York', 'exchangeTimezoneShortName': 'EDT', 'isEsgPopulated': False, 'gmtOffSetMilliseconds': '-14400000', 'quoteType': 'EQUITY', 'symbol': 'PFE', 'messageBoardId': 'finmb_162270', 'market': 'us_market', 'annualHoldingsTurnover': None, 'enterpriseToRevenue': 4.738, 'beta3Year': None, 'enterpriseToEbitda': 13.063, '52WeekChange': 0.27248025, 'morningStarRiskRating': None, 'forwardEps': 32.87, 'revenueQuarterlyGrowth': None, 'sharesOutstanding': 5606689792, 'fundInceptionDate': None, 'annualReportExpenseRatio': None, 'totalAssets': None, 'bookValue': 12.51, 'sharesShort': 54477410, 'sharesPercentSharesOut': 0.0097, 'fundFamily': None, 'lastFiscalYearEnd': 1609372800, 'heldPercentInstitutions': 0.67500997, 'netIncomeToCommon': 12323999744, 'trailingEps': 2.342, 'lastDividendValue': 0.39, 'SandP52WeekChange': 0.39125264, 'priceToBook': 3.496403, 'heldPercentInsiders': 0.00039, 'nextFiscalYearEnd': 1672444800, 'yield': None, 'mostRecentQuarter': 1625356800, 'shortRatio': 2.21, 'sharesShortPreviousMonthDate': 1631664000, 'floatShares': 5601025601, 'beta': 0.693121, 'enterpriseValue': 263049543680, 'priceHint': 2, 'threeYearAverageReturn': None, 'lastSplitDate': 1605571200, 'lastSplitFactor': '1054:1000', 'legalType': None, 'lastDividendDate': 1627516800, 'morningStarOverallRating': None, 'earningsQuarterlyGrowth': 0.594, 'priceToSalesTrailing12Months': 4.4170856, 'dateShortInterest': 1634256000, 'pegRatio': 0.01, 'ytdReturn': None, 'forwardPE': 1.3306968, 'lastCapGain': None, 'shortPercentOfFloat': 0.0097, 'sharesShortPriorMonth': 54093535, 'impliedSharesOutstanding': None, 'category': None, 'fiveYearAverageReturn': None, 'previousClose': 43.18, 'regularMarketOpen': 43.09, 'twoHundredDayAverage': 42.07885, 'trailingAnnualDividendYield': 0.03566466, 'payoutRatio': 0.7064, 'volume24Hr': None, 'regularMarketDayHigh': 43.83, 'navPrice': None, 'averageDailyVolume10Day': 23391500, 'regularMarketPreviousClose': 43.18, 'fiftyDayAverage': 43.084858, 'trailingAnnualDividendRate': 1.54, 'open': 43.09, 'toCurrency': None, 'averageVolume10days': 23391500, 'expireDate': None, 'algorithm': None, 'dividendRate': 1.56, 'exDividendDate': 1635984000, 'circulatingSupply': None, 'startDate': None, 'regularMarketDayLow': 42.855, 'currency': 'USD', 'trailingPE': 18.676346, 'regularMarketVolume': 30307485, 'lastMarket': None, 'maxSupply': None, 'openInterest': None, 'marketCap': 245236613120, 'volumeAllCurrencies': None, 'strikePrice': None, 'averageVolume': 31618450, 'dayLow': 42.855, 'ask': 43.8, 'askSize': 1100, 'volume': 30307485, 'fiftyTwoWeekHigh': 51.86, 'fromCurrency': None, 'fiveYearAvgDividendYield': 3.7, 'fiftyTwoWeekLow': 33.36, 'bid': 43.77, 'tradeable': False, 'dividendYield': 0.0357, 'bidSize': 4000, 'dayHigh': 43.83, 'regularMarketPrice': 43.74, 'preMarketPrice': None, 'logo_url': 'https://logo.clearbit.com/pfizer.com'}\n"
          ]
        },
        {
          "output_type": "execute_result",
          "data": {
            "text/html": [
              "<div>\n",
              "<style scoped>\n",
              "    .dataframe tbody tr th:only-of-type {\n",
              "        vertical-align: middle;\n",
              "    }\n",
              "\n",
              "    .dataframe tbody tr th {\n",
              "        vertical-align: top;\n",
              "    }\n",
              "\n",
              "    .dataframe thead th {\n",
              "        text-align: right;\n",
              "    }\n",
              "</style>\n",
              "<table border=\"1\" class=\"dataframe\">\n",
              "  <thead>\n",
              "    <tr style=\"text-align: right;\">\n",
              "      <th></th>\n",
              "      <th>Open</th>\n",
              "      <th>High</th>\n",
              "      <th>Low</th>\n",
              "      <th>Close</th>\n",
              "      <th>Volume</th>\n",
              "      <th>Dividends</th>\n",
              "      <th>Stock Splits</th>\n",
              "    </tr>\n",
              "    <tr>\n",
              "      <th>Date</th>\n",
              "      <th></th>\n",
              "      <th></th>\n",
              "      <th></th>\n",
              "      <th></th>\n",
              "      <th></th>\n",
              "      <th></th>\n",
              "      <th></th>\n",
              "    </tr>\n",
              "  </thead>\n",
              "  <tbody>\n",
              "    <tr>\n",
              "      <th>2016-01-04</th>\n",
              "      <td>24.324911</td>\n",
              "      <td>24.462384</td>\n",
              "      <td>24.111067</td>\n",
              "      <td>24.401285</td>\n",
              "      <td>39322421</td>\n",
              "      <td>0.0</td>\n",
              "      <td>0</td>\n",
              "    </tr>\n",
              "    <tr>\n",
              "      <th>2016-01-05</th>\n",
              "      <td>24.576942</td>\n",
              "      <td>24.622767</td>\n",
              "      <td>24.386010</td>\n",
              "      <td>24.576942</td>\n",
              "      <td>28777994</td>\n",
              "      <td>0.0</td>\n",
              "      <td>0</td>\n",
              "    </tr>\n",
              "    <tr>\n",
              "      <th>2016-01-06</th>\n",
              "      <td>24.233264</td>\n",
              "      <td>24.363100</td>\n",
              "      <td>23.996508</td>\n",
              "      <td>24.141617</td>\n",
              "      <td>27242316</td>\n",
              "      <td>0.0</td>\n",
              "      <td>0</td>\n",
              "    </tr>\n",
              "    <tr>\n",
              "      <th>2016-01-07</th>\n",
              "      <td>23.797935</td>\n",
              "      <td>24.294362</td>\n",
              "      <td>23.782661</td>\n",
              "      <td>23.981232</td>\n",
              "      <td>39223134</td>\n",
              "      <td>0.0</td>\n",
              "      <td>0</td>\n",
              "    </tr>\n",
              "    <tr>\n",
              "      <th>2016-01-08</th>\n",
              "      <td>24.095791</td>\n",
              "      <td>24.156890</td>\n",
              "      <td>23.614639</td>\n",
              "      <td>23.675737</td>\n",
              "      <td>34840286</td>\n",
              "      <td>0.0</td>\n",
              "      <td>0</td>\n",
              "    </tr>\n",
              "    <tr>\n",
              "      <th>...</th>\n",
              "      <td>...</td>\n",
              "      <td>...</td>\n",
              "      <td>...</td>\n",
              "      <td>...</td>\n",
              "      <td>...</td>\n",
              "      <td>...</td>\n",
              "      <td>...</td>\n",
              "    </tr>\n",
              "    <tr>\n",
              "      <th>2017-12-22</th>\n",
              "      <td>29.879168</td>\n",
              "      <td>29.969785</td>\n",
              "      <td>29.697933</td>\n",
              "      <td>29.772074</td>\n",
              "      <td>9063557</td>\n",
              "      <td>0.0</td>\n",
              "      <td>0</td>\n",
              "    </tr>\n",
              "    <tr>\n",
              "      <th>2017-12-26</th>\n",
              "      <td>29.730883</td>\n",
              "      <td>29.879169</td>\n",
              "      <td>29.615551</td>\n",
              "      <td>29.829741</td>\n",
              "      <td>11480590</td>\n",
              "      <td>0.0</td>\n",
              "      <td>0</td>\n",
              "    </tr>\n",
              "    <tr>\n",
              "      <th>2017-12-27</th>\n",
              "      <td>29.912116</td>\n",
              "      <td>30.035686</td>\n",
              "      <td>29.846213</td>\n",
              "      <td>29.928595</td>\n",
              "      <td>8768964</td>\n",
              "      <td>0.0</td>\n",
              "      <td>0</td>\n",
              "    </tr>\n",
              "    <tr>\n",
              "      <th>2017-12-28</th>\n",
              "      <td>29.953305</td>\n",
              "      <td>30.093349</td>\n",
              "      <td>29.862685</td>\n",
              "      <td>29.961542</td>\n",
              "      <td>6939431</td>\n",
              "      <td>0.0</td>\n",
              "      <td>0</td>\n",
              "    </tr>\n",
              "    <tr>\n",
              "      <th>2017-12-29</th>\n",
              "      <td>29.846210</td>\n",
              "      <td>30.060399</td>\n",
              "      <td>29.837973</td>\n",
              "      <td>29.837973</td>\n",
              "      <td>12038261</td>\n",
              "      <td>0.0</td>\n",
              "      <td>0</td>\n",
              "    </tr>\n",
              "  </tbody>\n",
              "</table>\n",
              "<p>503 rows × 7 columns</p>\n",
              "</div>"
            ],
            "text/plain": [
              "                 Open       High        Low  ...    Volume  Dividends  Stock Splits\n",
              "Date                                         ...                                   \n",
              "2016-01-04  24.324911  24.462384  24.111067  ...  39322421        0.0             0\n",
              "2016-01-05  24.576942  24.622767  24.386010  ...  28777994        0.0             0\n",
              "2016-01-06  24.233264  24.363100  23.996508  ...  27242316        0.0             0\n",
              "2016-01-07  23.797935  24.294362  23.782661  ...  39223134        0.0             0\n",
              "2016-01-08  24.095791  24.156890  23.614639  ...  34840286        0.0             0\n",
              "...               ...        ...        ...  ...       ...        ...           ...\n",
              "2017-12-22  29.879168  29.969785  29.697933  ...   9063557        0.0             0\n",
              "2017-12-26  29.730883  29.879169  29.615551  ...  11480590        0.0             0\n",
              "2017-12-27  29.912116  30.035686  29.846213  ...   8768964        0.0             0\n",
              "2017-12-28  29.953305  30.093349  29.862685  ...   6939431        0.0             0\n",
              "2017-12-29  29.846210  30.060399  29.837973  ...  12038261        0.0             0\n",
              "\n",
              "[503 rows x 7 columns]"
            ]
          },
          "metadata": {},
          "execution_count": 425
        }
      ]
    },
    {
      "cell_type": "markdown",
      "metadata": {
        "id": "NkFztSYhJyVA"
      },
      "source": [
        "We will create a Series named \"aapl\" whose values are Apple's daily closing prices, which are of course indexed by dates:"
      ]
    },
    {
      "cell_type": "code",
      "metadata": {
        "id": "QDJbOpCeHW91"
      },
      "source": [
        "aapl = aapl_table['Close']['2017']"
      ],
      "execution_count": 426,
      "outputs": []
    },
    {
      "cell_type": "code",
      "metadata": {
        "colab": {
          "base_uri": "https://localhost:8080/"
        },
        "id": "SXfgCQJOHW91",
        "outputId": "e0e8b093-a34b-4302-e427-d7c44720e3f8"
      },
      "source": [
        "print(aapl)"
      ],
      "execution_count": 427,
      "outputs": [
        {
          "output_type": "stream",
          "name": "stdout",
          "text": [
            "Date\n",
            "2017-01-03    27.372358\n",
            "2017-01-04    27.341722\n",
            "2017-01-05    27.480768\n",
            "2017-01-06    27.787130\n",
            "2017-01-09    28.041643\n",
            "                ...    \n",
            "2017-12-22    41.906769\n",
            "2017-12-26    40.843605\n",
            "2017-12-27    40.850788\n",
            "2017-12-28    40.965725\n",
            "2017-12-29    40.522724\n",
            "Name: Close, Length: 251, dtype: float64\n"
          ]
        }
      ]
    },
    {
      "cell_type": "code",
      "metadata": {
        "id": "FbJ8ldVZb8MM"
      },
      "source": [
        "pfizer = pfizer_table['Close']['2017']"
      ],
      "execution_count": 428,
      "outputs": []
    },
    {
      "cell_type": "code",
      "metadata": {
        "colab": {
          "base_uri": "https://localhost:8080/"
        },
        "id": "ymIvF3_7cFhS",
        "outputId": "fdbcd4c5-8e7b-458b-c8f1-3b1ec424848a"
      },
      "source": [
        "print(pfizer)"
      ],
      "execution_count": 429,
      "outputs": [
        {
          "output_type": "stream",
          "name": "stdout",
          "text": [
            "Date\n",
            "2017-01-03    26.156351\n",
            "2017-01-04    26.386217\n",
            "2017-01-05    26.639851\n",
            "2017-01-06    26.536808\n",
            "2017-01-09    26.528885\n",
            "                ...    \n",
            "2017-12-22    29.772074\n",
            "2017-12-26    29.829741\n",
            "2017-12-27    29.928595\n",
            "2017-12-28    29.961542\n",
            "2017-12-29    29.837973\n",
            "Name: Close, Length: 251, dtype: float64\n"
          ]
        }
      ]
    },
    {
      "cell_type": "markdown",
      "metadata": {
        "id": "waUEgBhzKEcA"
      },
      "source": [
        "Recall that we can fetch a specific data point using series['yyyy-mm-dd']. We can also fetch the data in a specific month using series['yyyy-mm']."
      ]
    },
    {
      "cell_type": "code",
      "metadata": {
        "colab": {
          "base_uri": "https://localhost:8080/"
        },
        "id": "2gS50G0zHW92",
        "outputId": "b0583e5f-f9ed-447a-df83-9dcc6938d674"
      },
      "source": [
        "print(aapl['2017-3'])"
      ],
      "execution_count": 430,
      "outputs": [
        {
          "output_type": "stream",
          "name": "stdout",
          "text": [
            "Date\n",
            "2017-03-01    33.086285\n",
            "2017-03-02    32.889839\n",
            "2017-03-03    33.083920\n",
            "2017-03-06    32.979774\n",
            "2017-03-07    33.022381\n",
            "2017-03-08    32.899315\n",
            "2017-03-09    32.823563\n",
            "2017-03-10    32.932442\n",
            "2017-03-13    32.946632\n",
            "2017-03-14    32.896938\n",
            "2017-03-15    33.244862\n",
            "2017-03-16    33.299297\n",
            "2017-03-17    33.133625\n",
            "2017-03-20    33.481552\n",
            "2017-03-21    33.098122\n",
            "2017-03-22    33.472084\n",
            "2017-03-23    33.353737\n",
            "2017-03-24    33.287472\n",
            "2017-03-27    33.344276\n",
            "2017-03-28    34.035393\n",
            "2017-03-29    34.111141\n",
            "2017-03-30    34.066158\n",
            "2017-03-31    34.002258\n",
            "Name: Close, dtype: float64\n"
          ]
        }
      ]
    },
    {
      "cell_type": "code",
      "metadata": {
        "colab": {
          "base_uri": "https://localhost:8080/"
        },
        "id": "7EIKzcJxcNU2",
        "outputId": "437527c0-18c6-4ddf-bd47-f65184ad4542"
      },
      "source": [
        "print(pfizer['2017-3'])"
      ],
      "execution_count": 431,
      "outputs": [
        {
          "output_type": "stream",
          "name": "stdout",
          "text": [
            "Date\n",
            "2017-03-01    27.559820\n",
            "2017-03-02    27.631874\n",
            "2017-03-03    27.639885\n",
            "2017-03-06    27.503765\n",
            "2017-03-07    27.215517\n",
            "2017-03-08    27.151461\n",
            "2017-03-09    27.263557\n",
            "2017-03-10    27.311605\n",
            "2017-03-13    27.311605\n",
            "2017-03-14    27.399673\n",
            "2017-03-15    27.727957\n",
            "2017-03-16    27.567822\n",
            "2017-03-17    27.479744\n",
            "2017-03-20    27.527786\n",
            "2017-03-21    27.423698\n",
            "2017-03-22    27.599850\n",
            "2017-03-23    27.455723\n",
            "2017-03-24    27.223520\n",
            "2017-03-27    27.367653\n",
            "2017-03-28    27.351635\n",
            "2017-03-29    27.487751\n",
            "2017-03-30    27.503765\n",
            "2017-03-31    27.391668\n",
            "Name: Close, dtype: float64\n"
          ]
        }
      ]
    },
    {
      "cell_type": "code",
      "metadata": {
        "colab": {
          "base_uri": "https://localhost:8080/"
        },
        "id": "vpvxGwXtHW92",
        "outputId": "80c94eb2-36c7-4531-fa3d-0494f7ceb38e"
      },
      "source": [
        "aapl['2017-2':'2017-4']"
      ],
      "execution_count": 432,
      "outputs": [
        {
          "output_type": "execute_result",
          "data": {
            "text/plain": [
              "Date\n",
              "2017-02-01    30.341724\n",
              "2017-02-02    30.289883\n",
              "2017-02-03    30.419495\n",
              "2017-02-06    30.704645\n",
              "2017-02-07    30.996870\n",
              "                ...    \n",
              "2017-04-24    33.997520\n",
              "2017-04-25    34.208176\n",
              "2017-04-26    34.006996\n",
              "2017-04-27    34.033031\n",
              "2017-04-28    33.999882\n",
              "Name: Close, Length: 61, dtype: float64"
            ]
          },
          "metadata": {},
          "execution_count": 432
        }
      ]
    },
    {
      "cell_type": "code",
      "metadata": {
        "colab": {
          "base_uri": "https://localhost:8080/"
        },
        "id": "6csZDURucWSr",
        "outputId": "86c536ec-dec6-459f-b2bb-124e701dd3a5"
      },
      "source": [
        "pfizer['2017-2':'2017-4']"
      ],
      "execution_count": 433,
      "outputs": [
        {
          "output_type": "execute_result",
          "data": {
            "text/plain": [
              "Date\n",
              "2017-02-01    25.357908\n",
              "2017-02-02    25.405954\n",
              "2017-02-03    25.694202\n",
              "2017-02-06    25.806297\n",
              "2017-02-07    25.686193\n",
              "                ...    \n",
              "2017-04-24    27.015347\n",
              "2017-04-25    27.031357\n",
              "2017-04-26    27.103416\n",
              "2017-04-27    27.111425\n",
              "2017-04-28    27.159472\n",
              "Name: Close, Length: 61, dtype: float64"
            ]
          },
          "metadata": {},
          "execution_count": 433
        }
      ]
    },
    {
      "cell_type": "markdown",
      "metadata": {
        "id": "lWwoD39pKNKb"
      },
      "source": [
        ".head(N) and .tail(N) are methods for quickly accessing the first or last N elements."
      ]
    },
    {
      "cell_type": "code",
      "metadata": {
        "colab": {
          "base_uri": "https://localhost:8080/"
        },
        "id": "1eU218ALHW93",
        "outputId": "83be3e65-befa-473c-b239-2ebf51254e66"
      },
      "source": [
        "print(aapl.head(5)) #.head(N) and .tail(N) are methods for quickly accessing the first or last N elements.\n",
        "print(aapl.tail(10))"
      ],
      "execution_count": 434,
      "outputs": [
        {
          "output_type": "stream",
          "name": "stdout",
          "text": [
            "Date\n",
            "2017-01-03    27.372358\n",
            "2017-01-04    27.341722\n",
            "2017-01-05    27.480768\n",
            "2017-01-06    27.787130\n",
            "2017-01-09    28.041643\n",
            "Name: Close, dtype: float64\n",
            "Date\n",
            "2017-12-15    41.657745\n",
            "2017-12-18    42.244408\n",
            "2017-12-19    41.794235\n",
            "2017-12-20    41.748737\n",
            "2017-12-21    41.906769\n",
            "2017-12-22    41.906769\n",
            "2017-12-26    40.843605\n",
            "2017-12-27    40.850788\n",
            "2017-12-28    40.965725\n",
            "2017-12-29    40.522724\n",
            "Name: Close, dtype: float64\n"
          ]
        }
      ]
    },
    {
      "cell_type": "code",
      "metadata": {
        "colab": {
          "base_uri": "https://localhost:8080/"
        },
        "id": "C5SKhIvxc38h",
        "outputId": "47469baf-0a11-4d3c-a647-81f08a0d513c"
      },
      "source": [
        "print(pfizer.head(5))\n",
        "print(pfizer.tail(10))"
      ],
      "execution_count": 435,
      "outputs": [
        {
          "output_type": "stream",
          "name": "stdout",
          "text": [
            "Date\n",
            "2017-01-03    26.156351\n",
            "2017-01-04    26.386217\n",
            "2017-01-05    26.639851\n",
            "2017-01-06    26.536808\n",
            "2017-01-09    26.528885\n",
            "Name: Close, dtype: float64\n",
            "Date\n",
            "2017-12-15    30.645298\n",
            "2017-12-18    30.587629\n",
            "2017-12-19    30.431112\n",
            "2017-12-20    30.035688\n",
            "2017-12-21    29.854454\n",
            "2017-12-22    29.772074\n",
            "2017-12-26    29.829741\n",
            "2017-12-27    29.928595\n",
            "2017-12-28    29.961542\n",
            "2017-12-29    29.837973\n",
            "Name: Close, dtype: float64\n"
          ]
        }
      ]
    },
    {
      "cell_type": "markdown",
      "metadata": {
        "id": "IxhKxtj-KQ66"
      },
      "source": [
        "# Resampling\n",
        "**_series.resample(freq)_** is a class called \"DatetimeIndexResampler\" which groups data in a Series object into regular time intervals. The argument \"freq\" determines the length of each interval.\n",
        "\n",
        "**_series.resample.mean()_** is a complete statement that groups data into intervals, and then compute the mean of each interval. For example, if we want to aggregate the daily data into monthly data by mean:"
      ]
    },
    {
      "cell_type": "code",
      "metadata": {
        "colab": {
          "base_uri": "https://localhost:8080/"
        },
        "id": "rAV8NkHkHW93",
        "outputId": "186d24d5-2658-4be6-bb32-cff09211e30e"
      },
      "source": [
        "by_month = aapl.resample('M').mean() #determines the length of each interval.\n",
        "print(by_month)"
      ],
      "execution_count": 436,
      "outputs": [
        {
          "output_type": "stream",
          "name": "stdout",
          "text": [
            "Date\n",
            "2017-01-31    28.178332\n",
            "2017-02-28    31.606275\n",
            "2017-03-31    33.282220\n",
            "2017-04-30    33.819264\n",
            "2017-05-31    36.125685\n",
            "2017-06-30    35.133984\n",
            "2017-07-31    35.245241\n",
            "2017-08-31    37.897228\n",
            "2017-09-30    37.604739\n",
            "2017-10-31    37.654550\n",
            "2017-11-30    41.233916\n",
            "2017-12-31    41.160038\n",
            "Freq: M, Name: Close, dtype: float64\n"
          ]
        }
      ]
    },
    {
      "cell_type": "code",
      "metadata": {
        "colab": {
          "base_uri": "https://localhost:8080/"
        },
        "id": "t93El6A_dA_j",
        "outputId": "636d703c-4685-45fa-edb6-6efb81331978"
      },
      "source": [
        "by_month = pfizer.resample('M').mean()\n",
        "print(by_month)"
      ],
      "execution_count": 437,
      "outputs": [
        {
          "output_type": "stream",
          "name": "stdout",
          "text": [
            "Date\n",
            "2017-01-31    25.579330\n",
            "2017-02-28    26.410611\n",
            "2017-03-31    27.439015\n",
            "2017-04-30    27.169161\n",
            "2017-05-31    26.438657\n",
            "2017-06-30    26.737751\n",
            "2017-07-31    26.937694\n",
            "2017-08-31    27.160662\n",
            "2017-09-30    28.660028\n",
            "2017-10-31    29.423453\n",
            "2017-11-30    29.160019\n",
            "2017-12-31    29.902644\n",
            "Freq: M, Name: Close, dtype: float64\n"
          ]
        }
      ]
    },
    {
      "cell_type": "markdown",
      "metadata": {
        "id": "QDPfVzBEKV6Q"
      },
      "source": [
        "We can also aggregate the data by week:"
      ]
    },
    {
      "cell_type": "code",
      "metadata": {
        "colab": {
          "base_uri": "https://localhost:8080/"
        },
        "id": "aAP3tKkBHW94",
        "outputId": "b991f1c2-4863-4fb6-81fb-df2227386b80"
      },
      "source": [
        "by_week = aapl.resample('W').mean()#aggregate the data by week\n",
        "print(by_week.head())"
      ],
      "execution_count": 438,
      "outputs": [
        {
          "output_type": "stream",
          "name": "stdout",
          "text": [
            "Date\n",
            "2017-01-08    27.495495\n",
            "2017-01-15    28.097735\n",
            "2017-01-22    28.266119\n",
            "2017-01-29    28.553979\n",
            "2017-02-05    29.662544\n",
            "Freq: W-SUN, Name: Close, dtype: float64\n"
          ]
        }
      ]
    },
    {
      "cell_type": "code",
      "metadata": {
        "colab": {
          "base_uri": "https://localhost:8080/"
        },
        "id": "rF_oKEBxdOry",
        "outputId": "037ea9a8-0806-4cc4-94ec-96b4ff68b949"
      },
      "source": [
        "by_week = pfizer.resample('W').mean()\n",
        "print(by_week.head())"
      ],
      "execution_count": 439,
      "outputs": [
        {
          "output_type": "stream",
          "name": "stdout",
          "text": [
            "Date\n",
            "2017-01-08    26.429807\n",
            "2017-01-15    26.134163\n",
            "2017-01-22    25.276551\n",
            "2017-01-29    24.824757\n",
            "2017-02-05    25.284925\n",
            "Freq: W-SUN, Name: Close, dtype: float64\n"
          ]
        }
      ]
    },
    {
      "cell_type": "markdown",
      "metadata": {
        "id": "o_MXSVsILoBS"
      },
      "source": [
        "We can also aggregate the data by month with max:"
      ]
    },
    {
      "cell_type": "code",
      "metadata": {
        "colab": {
          "base_uri": "https://localhost:8080/"
        },
        "id": "gn0wqXBTHW95",
        "outputId": "4339d0c6-407e-45f1-f6d9-097040468776"
      },
      "source": [
        "aapl.resample('M').max()"
      ],
      "execution_count": 440,
      "outputs": [
        {
          "output_type": "execute_result",
          "data": {
            "text/plain": [
              "Date\n",
              "2017-01-31    28.739210\n",
              "2017-02-28    32.451962\n",
              "2017-03-31    34.111141\n",
              "2017-04-30    34.264988\n",
              "2017-05-31    37.099136\n",
              "2017-06-30    36.944645\n",
              "2017-07-31    36.471699\n",
              "2017-08-31    39.129723\n",
              "2017-09-30    39.141651\n",
              "2017-10-31    40.332249\n",
              "2017-11-30    42.050137\n",
              "2017-12-31    42.244408\n",
              "Freq: M, Name: Close, dtype: float64"
            ]
          },
          "metadata": {},
          "execution_count": 440
        }
      ]
    },
    {
      "cell_type": "code",
      "metadata": {
        "colab": {
          "base_uri": "https://localhost:8080/"
        },
        "id": "T_As3jlmdVqk",
        "outputId": "420185d7-57d6-4260-c683-ff9b68c1b2a2"
      },
      "source": [
        "pfizer.resample('M').max()"
      ],
      "execution_count": 441,
      "outputs": [
        {
          "output_type": "execute_result",
          "data": {
            "text/plain": [
              "Date\n",
              "2017-01-31    26.639851\n",
              "2017-02-28    27.447723\n",
              "2017-03-31    27.727957\n",
              "2017-04-30    27.495760\n",
              "2017-05-31    27.047371\n",
              "2017-06-30    27.624466\n",
              "2017-07-31    27.341511\n",
              "2017-08-31    27.690218\n",
              "2017-09-30    29.380037\n",
              "2017-10-31    29.755554\n",
              "2017-11-30    29.870930\n",
              "2017-12-31    30.645298\n",
              "Freq: M, Name: Close, dtype: float64"
            ]
          },
          "metadata": {},
          "execution_count": 441
        }
      ]
    },
    {
      "cell_type": "markdown",
      "metadata": {
        "id": "Z8r46UFlLdAh"
      },
      "source": [
        "We can choose almost any frequency by using the format 'nf', where 'n' is an integer and 'f' is M for month, W for week and D for day."
      ]
    },
    {
      "cell_type": "code",
      "metadata": {
        "colab": {
          "base_uri": "https://localhost:8080/"
        },
        "id": "kdVB_-JFHW96",
        "outputId": "d5886c34-a01d-49e0-83c2-bec2d1a06c35"
      },
      "source": [
        "three_day = aapl.resample('3D').mean()\n",
        "two_week = aapl.resample('2W').mean()\n",
        "two_month = aapl.resample('2M').mean()\n",
        "\n",
        "\n",
        "print(three_day)\n",
        "print(two_week)\n",
        "print(two_month )"
      ],
      "execution_count": 442,
      "outputs": [
        {
          "output_type": "stream",
          "name": "stdout",
          "text": [
            "Date\n",
            "2017-01-03    27.398283\n",
            "2017-01-06    27.787130\n",
            "2017-01-09    28.110776\n",
            "2017-01-12    28.078175\n",
            "2017-01-15    28.279673\n",
            "                ...    \n",
            "2017-12-17    42.019321\n",
            "2017-12-20    41.854092\n",
            "2017-12-23          NaN\n",
            "2017-12-26    40.886706\n",
            "2017-12-29    40.522724\n",
            "Freq: 3D, Name: Close, Length: 121, dtype: float64\n",
            "Date\n",
            "2017-01-08    27.495495\n",
            "2017-01-22    28.172572\n",
            "2017-02-05    29.108262\n",
            "2017-02-19    31.516815\n",
            "2017-03-05    32.595557\n",
            "2017-03-19    33.017883\n",
            "2017-04-02    33.625219\n",
            "2017-04-16    33.849729\n",
            "2017-04-30    33.791845\n",
            "2017-05-14    35.697633\n",
            "2017-05-28    36.496180\n",
            "2017-06-11    36.515007\n",
            "2017-06-25    34.529047\n",
            "2017-07-09    34.265136\n",
            "2017-07-23    35.278871\n",
            "2017-08-06    36.272774\n",
            "2017-08-20    37.904119\n",
            "2017-09-03    38.458792\n",
            "2017-09-17    38.282710\n",
            "2017-10-01    36.840874\n",
            "2017-10-15    37.071593\n",
            "2017-10-29    37.757322\n",
            "2017-11-12    41.032236\n",
            "2017-11-26    41.204380\n",
            "2017-12-10    40.867065\n",
            "2017-12-24    41.620866\n",
            "2018-01-07    40.795711\n",
            "Freq: 2W-SUN, Name: Close, dtype: float64\n",
            "Date\n",
            "2017-01-31    28.178332\n",
            "2017-03-31    32.524055\n",
            "2017-05-31    35.056856\n",
            "2017-07-31    35.186964\n",
            "2017-09-30    37.761187\n",
            "2017-11-30    39.402613\n",
            "2018-01-31    41.160038\n",
            "Freq: 2M, Name: Close, dtype: float64\n"
          ]
        }
      ]
    },
    {
      "cell_type": "code",
      "metadata": {
        "colab": {
          "base_uri": "https://localhost:8080/"
        },
        "id": "rq7rjxVceWFZ",
        "outputId": "22a59a6f-2425-400d-c603-5f87b0730cbe"
      },
      "source": [
        "three_day = pfizer.resample('3D').mean()\n",
        "two_week = pfizer.resample('2W').mean()\n",
        "two_month = pfizer.resample('2M').mean()\n",
        "\n",
        "\n",
        "print(three_day)\n",
        "print(two_week)\n",
        "print(two_month )"
      ],
      "execution_count": 443,
      "outputs": [
        {
          "output_type": "stream",
          "name": "stdout",
          "text": [
            "Date\n",
            "2017-01-03    26.394140\n",
            "2017-01-06    26.536808\n",
            "2017-01-09    26.351869\n",
            "2017-01-12    25.807604\n",
            "2017-01-15    25.411293\n",
            "                ...    \n",
            "2017-12-17    30.509371\n",
            "2017-12-20    29.887405\n",
            "2017-12-23          NaN\n",
            "2017-12-26    29.906626\n",
            "2017-12-29    29.837973\n",
            "Freq: 3D, Name: Close, Length: 121, dtype: float64\n",
            "Date\n",
            "2017-01-08    26.429807\n",
            "2017-01-22    25.753002\n",
            "2017-02-05    25.054841\n",
            "2017-02-19    26.205844\n",
            "2017-03-05    27.346298\n",
            "2017-03-19    27.393271\n",
            "2017-04-02    27.433305\n",
            "2017-04-16    27.290248\n",
            "2017-04-30    27.060183\n",
            "2017-05-14    26.795876\n",
            "2017-05-28    26.132081\n",
            "2017-06-11    26.136932\n",
            "2017-06-25    26.892017\n",
            "2017-07-09    27.200482\n",
            "2017-07-23    26.982562\n",
            "2017-08-06    26.894176\n",
            "2017-08-20    27.133474\n",
            "2017-09-03    27.271436\n",
            "2017-09-17    28.274351\n",
            "2017-10-01    29.100852\n",
            "2017-10-15    29.543307\n",
            "2017-10-29    29.456774\n",
            "2017-11-12    28.859469\n",
            "2017-11-26    29.178936\n",
            "2017-12-10    29.545527\n",
            "2017-12-24    30.151019\n",
            "2018-01-07    29.889462\n",
            "Freq: 2W-SUN, Name: Close, dtype: float64\n",
            "Date\n",
            "2017-01-31    25.579330\n",
            "2017-03-31    26.973784\n",
            "2017-05-31    26.777183\n",
            "2017-07-31    26.832962\n",
            "2017-09-30    27.858041\n",
            "2017-11-30    29.294799\n",
            "2018-01-31    29.902644\n",
            "Freq: 2M, Name: Close, dtype: float64\n"
          ]
        }
      ]
    },
    {
      "cell_type": "markdown",
      "metadata": {
        "id": "iy4RqsnwL-Bw"
      },
      "source": [
        "Besides the mean() method, other methods can also be used with the resampler:\n",
        "\n"
      ]
    },
    {
      "cell_type": "code",
      "metadata": {
        "colab": {
          "base_uri": "https://localhost:8080/"
        },
        "id": "DNT8Fx9dHW96",
        "outputId": "3669dc50-7cc0-44e1-f3c2-a0723e17d410"
      },
      "source": [
        "std = aapl.resample('W').std()\n",
        "max = aapl.resample('W').max()\n",
        "min = aapl.resample('W').min()\n",
        "\n",
        "\n",
        "print(std)\n",
        "print(max)\n",
        "print(min)"
      ],
      "execution_count": 444,
      "outputs": [
        {
          "output_type": "stream",
          "name": "stdout",
          "text": [
            "Date\n",
            "2017-01-08    0.203369\n",
            "2017-01-15    0.072531\n",
            "2017-01-22    0.025557\n",
            "2017-01-29    0.245288\n",
            "2017-02-05    0.943258\n",
            "2017-02-12    0.252001\n",
            "2017-02-19    0.231395\n",
            "2017-02-26    0.059342\n",
            "2017-03-05    0.340090\n",
            "2017-03-12    0.076284\n",
            "2017-03-19    0.177834\n",
            "2017-03-26    0.157263\n",
            "2017-04-02    0.319806\n",
            "2017-04-09    0.128692\n",
            "2017-04-16    0.212473\n",
            "2017-04-23    0.174674\n",
            "2017-04-30    0.090026\n",
            "2017-05-07    0.235636\n",
            "2017-05-14    0.352981\n",
            "2017-05-21    0.536096\n",
            "2017-05-28    0.060390\n",
            "2017-06-04    0.281223\n",
            "2017-06-11    0.620033\n",
            "2017-06-18    0.382565\n",
            "2017-06-25    0.128893\n",
            "2017-07-02    0.264113\n",
            "2017-07-09    0.158888\n",
            "2017-07-16    0.404279\n",
            "2017-07-23    0.124989\n",
            "2017-07-30    0.384443\n",
            "2017-08-06    0.924392\n",
            "2017-08-13    0.467471\n",
            "2017-08-20    0.435251\n",
            "2017-08-27    0.275767\n",
            "2017-09-03    0.251720\n",
            "2017-09-10    0.381638\n",
            "2017-09-17    0.294139\n",
            "2017-09-24    0.735193\n",
            "2017-10-01    0.354843\n",
            "2017-10-08    0.204853\n",
            "2017-10-15    0.118733\n",
            "2017-10-22    0.516997\n",
            "2017-10-29    0.680455\n",
            "2017-11-05    0.560683\n",
            "2017-11-12    0.190969\n",
            "2017-11-19    0.436199\n",
            "2017-11-26    0.563044\n",
            "2017-12-03    0.427443\n",
            "2017-12-10    0.073127\n",
            "2017-12-17    0.205267\n",
            "2017-12-24    0.194125\n",
            "2017-12-31    0.190398\n",
            "Freq: W-SUN, Name: Close, dtype: float64\n",
            "Date\n",
            "2017-01-08    27.787130\n",
            "2017-01-15    28.220755\n",
            "2017-01-22    28.279673\n",
            "2017-01-29    28.739210\n",
            "2017-02-05    30.419495\n",
            "2017-02-12    31.341909\n",
            "2017-02-19    32.122978\n",
            "2017-02-26    32.451962\n",
            "2017-03-05    33.086285\n",
            "2017-03-12    33.022381\n",
            "2017-03-19    33.299297\n",
            "2017-03-26    33.481552\n",
            "2017-04-02    34.111141\n",
            "2017-04-09    34.264988\n",
            "2017-04-16    33.886280\n",
            "2017-04-23    33.713501\n",
            "2017-04-30    34.208176\n",
            "2017-05-07    35.256691\n",
            "2017-05-14    37.099136\n",
            "2017-05-21    37.004063\n",
            "2017-05-28    36.597664\n",
            "2017-06-04    36.944645\n",
            "2017-06-11    36.925632\n",
            "2017-06-18    34.838959\n",
            "2017-06-25    34.779545\n",
            "2017-07-02    34.658344\n",
            "2017-07-09    34.266190\n",
            "2017-07-16    35.421227\n",
            "2017-07-23    35.891804\n",
            "2017-07-30    36.471699\n",
            "2017-08-06    37.346294\n",
            "2017-08-13    38.277935\n",
            "2017-08-20    38.557091\n",
            "2017-08-27    38.170563\n",
            "2017-09-03    39.141651\n",
            "2017-09-10    38.671623\n",
            "2017-09-17    38.533234\n",
            "2017-09-24    37.872322\n",
            "2017-10-01    36.798637\n",
            "2017-10-08    37.075409\n",
            "2017-10-15    37.457169\n",
            "2017-10-22    38.287476\n",
            "2017-10-29    38.903061\n",
            "2017-11-05    41.157787\n",
            "2017-11-12    42.050137\n",
            "2017-11-19    41.657745\n",
            "2017-11-26    41.897190\n",
            "2017-12-03    41.686470\n",
            "2017-12-10    40.659218\n",
            "2017-12-17    41.657745\n",
            "2017-12-24    42.244408\n",
            "2017-12-31    40.965725\n",
            "Freq: W-SUN, Name: Close, dtype: float64\n",
            "Date\n",
            "2017-01-08    27.341722\n",
            "2017-01-15    28.041643\n",
            "2017-01-22    28.227819\n",
            "2017-01-29    28.272593\n",
            "2017-02-05    28.597818\n",
            "2017-02-12    30.704645\n",
            "2017-02-19    31.547825\n",
            "2017-02-26    32.314690\n",
            "2017-03-05    32.409363\n",
            "2017-03-12    32.823563\n",
            "2017-03-19    32.896938\n",
            "2017-03-26    33.098122\n",
            "2017-04-02    33.344276\n",
            "2017-04-09    33.926517\n",
            "2017-04-16    33.384514\n",
            "2017-04-23    33.296932\n",
            "2017-04-30    33.997520\n",
            "2017-05-07    34.681549\n",
            "2017-05-14    36.215275\n",
            "2017-05-21    35.708801\n",
            "2017-05-28    36.443184\n",
            "2017-06-04    36.305332\n",
            "2017-06-11    35.406975\n",
            "2017-06-18    33.812256\n",
            "2017-06-25    34.463451\n",
            "2017-07-02    34.147358\n",
            "2017-07-09    33.921581\n",
            "2017-07-16    34.475342\n",
            "2017-07-23    35.544815\n",
            "2017-07-30    35.530552\n",
            "2017-08-06    35.347549\n",
            "2017-08-13    37.058712\n",
            "2017-08-20    37.578854\n",
            "2017-08-27    37.509655\n",
            "2017-09-03    38.526085\n",
            "2017-09-10    37.848469\n",
            "2017-09-17    37.764954\n",
            "2017-09-24    36.240322\n",
            "2017-10-01    35.920612\n",
            "2017-10-08    36.619694\n",
            "2017-10-15    37.182777\n",
            "2017-10-22    37.216187\n",
            "2017-10-29    37.261524\n",
            "2017-11-05    39.778706\n",
            "2017-11-12    41.575329\n",
            "2017-11-19    40.486816\n",
            "2017-11-26    40.702324\n",
            "2017-12-03    40.582596\n",
            "2017-12-10    40.470055\n",
            "2017-12-17    41.114182\n",
            "2017-12-24    41.748737\n",
            "2017-12-31    40.522724\n",
            "Freq: W-SUN, Name: Close, dtype: float64\n"
          ]
        }
      ]
    },
    {
      "cell_type": "code",
      "metadata": {
        "colab": {
          "base_uri": "https://localhost:8080/"
        },
        "id": "4TXWSGgKegAi",
        "outputId": "e19fa30e-f15b-44bb-c284-82d9fd41bf07"
      },
      "source": [
        "std = pfizer.resample('W').std()\n",
        "max = pfizer.resample('W').max()\n",
        "min = pfizer.resample('W').min()\n",
        "\n",
        "\n",
        "print(std)\n",
        "print(max)\n",
        "print(min)"
      ],
      "execution_count": 445,
      "outputs": [
        {
          "output_type": "stream",
          "name": "stdout",
          "text": [
            "Date\n",
            "2017-01-08    0.209957\n",
            "2017-01-15    0.361028\n",
            "2017-01-22    0.143985\n",
            "2017-01-29    0.097881\n",
            "2017-02-05    0.325911\n",
            "2017-02-12    0.103875\n",
            "2017-02-19    0.399760\n",
            "2017-02-26    0.264946\n",
            "2017-03-05    0.135881\n",
            "2017-03-12    0.133790\n",
            "2017-03-19    0.160076\n",
            "2017-03-26    0.141817\n",
            "2017-04-02    0.070396\n",
            "2017-04-09    0.079386\n",
            "2017-04-16    0.054844\n",
            "2017-04-23    0.127307\n",
            "2017-04-30    0.059811\n",
            "2017-05-07    0.111437\n",
            "2017-05-14    0.037088\n",
            "2017-05-21    0.298117\n",
            "2017-05-28    0.034489\n",
            "2017-06-04    0.211267\n",
            "2017-06-11    0.314691\n",
            "2017-06-18    0.119227\n",
            "2017-06-25    0.313756\n",
            "2017-07-02    0.142525\n",
            "2017-07-09    0.220255\n",
            "2017-07-16    0.092779\n",
            "2017-07-23    0.118541\n",
            "2017-07-30    0.130784\n",
            "2017-08-06    0.320071\n",
            "2017-08-13    0.071957\n",
            "2017-08-20    0.255463\n",
            "2017-08-27    0.193232\n",
            "2017-09-03    0.209483\n",
            "2017-09-10    0.101745\n",
            "2017-09-17    0.432790\n",
            "2017-09-24    0.213780\n",
            "2017-10-01    0.123723\n",
            "2017-10-08    0.056144\n",
            "2017-10-15    0.096348\n",
            "2017-10-22    0.188609\n",
            "2017-10-29    0.282883\n",
            "2017-11-05    0.168157\n",
            "2017-11-12    0.077787\n",
            "2017-11-19    0.080632\n",
            "2017-11-26    0.067388\n",
            "2017-12-03    0.294643\n",
            "2017-12-10    0.182206\n",
            "2017-12-17    0.300454\n",
            "2017-12-24    0.358062\n",
            "2017-12-31    0.065688\n",
            "Freq: W-SUN, Name: Close, dtype: float64\n",
            "Date\n",
            "2017-01-08    26.639851\n",
            "2017-01-15    26.528885\n",
            "2017-01-22    25.411293\n",
            "2017-01-29    24.935724\n",
            "2017-02-05    25.694202\n",
            "2017-02-12    25.926405\n",
            "2017-02-19    26.919258\n",
            "2017-02-26    27.431704\n",
            "2017-03-05    27.639885\n",
            "2017-03-12    27.503765\n",
            "2017-03-19    27.727957\n",
            "2017-03-26    27.599850\n",
            "2017-04-02    27.503765\n",
            "2017-04-09    27.495760\n",
            "2017-04-16    27.255552\n",
            "2017-04-23    27.223520\n",
            "2017-04-30    27.159472\n",
            "2017-05-07    27.047371\n",
            "2017-05-14    26.783144\n",
            "2017-05-21    26.775600\n",
            "2017-05-28    25.999496\n",
            "2017-06-04    26.444143\n",
            "2017-06-11    26.492647\n",
            "2017-06-18    26.654335\n",
            "2017-06-25    27.624466\n",
            "2017-07-02    27.519369\n",
            "2017-07-09    27.341511\n",
            "2017-07-16    27.026224\n",
            "2017-07-23    27.179821\n",
            "2017-07-30    26.937292\n",
            "2017-08-06    27.461641\n",
            "2017-08-13    27.306536\n",
            "2017-08-20    27.249392\n",
            "2017-08-27    27.257555\n",
            "2017-09-03    27.722872\n",
            "2017-09-10    27.837156\n",
            "2017-09-17    29.167788\n",
            "2017-09-24    29.380037\n",
            "2017-10-01    29.143299\n",
            "2017-10-08    29.502491\n",
            "2017-10-15    29.755554\n",
            "2017-10-22    29.731066\n",
            "2017-10-29    29.714737\n",
            "2017-11-05    29.020855\n",
            "2017-11-12    28.997702\n",
            "2017-11-19    29.294270\n",
            "2017-11-26    29.277794\n",
            "2017-12-03    29.945074\n",
            "2017-12-10    29.706165\n",
            "2017-12-17    30.645298\n",
            "2017-12-24    30.587629\n",
            "2017-12-31    29.961542\n",
            "Freq: W-SUN, Name: Close, dtype: float64\n",
            "Date\n",
            "2017-01-08    26.156351\n",
            "2017-01-15    25.775900\n",
            "2017-01-22    25.125954\n",
            "2017-01-29    24.690012\n",
            "2017-02-05    24.816830\n",
            "2017-02-12    25.686193\n",
            "2017-02-19    26.110561\n",
            "2017-02-26    26.895241\n",
            "2017-03-05    27.319607\n",
            "2017-03-12    27.151461\n",
            "2017-03-19    27.311605\n",
            "2017-03-26    27.223520\n",
            "2017-04-02    27.351635\n",
            "2017-04-09    27.303589\n",
            "2017-04-16    27.127443\n",
            "2017-04-23    26.911253\n",
            "2017-04-30    27.015347\n",
            "2017-05-07    26.783144\n",
            "2017-05-14    26.686676\n",
            "2017-05-21    26.048000\n",
            "2017-05-28    25.910570\n",
            "2017-06-04    25.975246\n",
            "2017-06-11    25.668037\n",
            "2017-06-18    26.339045\n",
            "2017-06-25    26.856443\n",
            "2017-07-02    27.155569\n",
            "2017-07-09    26.856443\n",
            "2017-07-16    26.816023\n",
            "2017-07-23    26.880695\n",
            "2017-07-30    26.589659\n",
            "2017-08-06    26.743263\n",
            "2017-08-13    27.143270\n",
            "2017-08-20    26.669792\n",
            "2017-08-27    26.743265\n",
            "2017-09-03    27.306536\n",
            "2017-09-10    27.592251\n",
            "2017-09-17    28.016750\n",
            "2017-09-24    28.939217\n",
            "2017-10-01    28.816763\n",
            "2017-10-08    29.355549\n",
            "2017-10-15    29.502491\n",
            "2017-10-22    29.249424\n",
            "2017-10-29    29.061666\n",
            "2017-11-05    28.620842\n",
            "2017-11-12    28.833096\n",
            "2017-11-19    29.080080\n",
            "2017-11-26    29.121273\n",
            "2017-12-03    29.236597\n",
            "2017-12-10    29.244839\n",
            "2017-12-17    29.829741\n",
            "2017-12-24    29.772074\n",
            "2017-12-31    29.829741\n",
            "Freq: W-SUN, Name: Close, dtype: float64\n"
          ]
        }
      ]
    },
    {
      "cell_type": "markdown",
      "metadata": {
        "id": "uqln0s5DMI3I"
      },
      "source": [
        "Often we want to calculate monthly returns of a stock, based on prices on the last day of each month. To fetch those prices, we use the series.resample.agg() method:"
      ]
    },
    {
      "cell_type": "code",
      "metadata": {
        "colab": {
          "base_uri": "https://localhost:8080/"
        },
        "id": "A6FSYvqbHW97",
        "outputId": "2b8eb942-0a1b-4a23-c236-f9769b895b06"
      },
      "source": [
        "last_day = aapl.resample('M').agg(lambda x: x[-1])#agg():Fetch those prices\n",
        "print(last_day)"
      ],
      "execution_count": 446,
      "outputs": [
        {
          "output_type": "stream",
          "name": "stdout",
          "text": [
            "Date\n",
            "2017-01-31    28.597818\n",
            "2017-02-28    32.423573\n",
            "2017-03-31    34.002258\n",
            "2017-04-30    33.999882\n",
            "2017-05-31    36.305332\n",
            "2017-06-30    34.228168\n",
            "2017-07-31    35.347549\n",
            "2017-08-31    39.129723\n",
            "2017-09-30    36.772400\n",
            "2017-10-31    40.332249\n",
            "2017-11-30    41.150105\n",
            "2017-12-31    40.522724\n",
            "Freq: M, Name: Close, dtype: float64\n"
          ]
        }
      ]
    },
    {
      "cell_type": "code",
      "metadata": {
        "colab": {
          "base_uri": "https://localhost:8080/"
        },
        "id": "2MZooIR-ez1K",
        "outputId": "2e11e622-96f6-4d64-9267-d0281e7b60cc"
      },
      "source": [
        "pfizer_last_day = pfizer.resample('M').agg(lambda x: x[-1])\n",
        "print(pfizer_last_day)"
      ],
      "execution_count": 447,
      "outputs": [
        {
          "output_type": "stream",
          "name": "stdout",
          "text": [
            "Date\n",
            "2017-01-31    25.149733\n",
            "2017-02-28    27.319607\n",
            "2017-03-31    27.391668\n",
            "2017-04-30    27.159472\n",
            "2017-05-31    26.395634\n",
            "2017-06-30    27.155569\n",
            "2017-07-31    26.807940\n",
            "2017-08-31    27.690218\n",
            "2017-09-30    29.143299\n",
            "2017-10-31    28.620842\n",
            "2017-11-30    29.870930\n",
            "2017-12-31    29.837973\n",
            "Freq: M, Name: Close, dtype: float64\n"
          ]
        }
      ]
    },
    {
      "cell_type": "markdown",
      "metadata": {
        "id": "uwomY3aXMR46"
      },
      "source": [
        "Or directly calculate the monthly rates of return using the data for the first day and the last day:"
      ]
    },
    {
      "cell_type": "code",
      "metadata": {
        "colab": {
          "base_uri": "https://localhost:8080/"
        },
        "id": "qK2NMJrNHW96",
        "outputId": "bf59b20f-62d0-4fa2-ad59-78bf6a1f017a"
      },
      "source": [
        "monthly_return = aapl.resample('M').agg(lambda x: x[-1]/x[0] - 1)\n",
        "print(monthly_return)"
      ],
      "execution_count": 448,
      "outputs": [
        {
          "output_type": "stream",
          "name": "stdout",
          "text": [
            "Date\n",
            "2017-01-31    0.044770\n",
            "2017-02-28    0.068613\n",
            "2017-03-31    0.027684\n",
            "2017-04-30   -0.000348\n",
            "2017-05-31    0.046463\n",
            "2017-06-30   -0.059799\n",
            "2017-07-31    0.036446\n",
            "2017-08-31    0.097261\n",
            "2017-09-30   -0.060530\n",
            "2017-10-31    0.099018\n",
            "2017-11-30    0.033422\n",
            "2017-12-31   -0.010640\n",
            "Freq: M, Name: Close, dtype: float64\n"
          ]
        }
      ]
    },
    {
      "cell_type": "code",
      "metadata": {
        "colab": {
          "base_uri": "https://localhost:8080/"
        },
        "id": "XHYq8cP0e4uC",
        "outputId": "14979361-8b5f-47c0-c516-18ddd7bffbcd"
      },
      "source": [
        "pfizer_monthly_return = pfizer.resample('M').agg(lambda x: x[-1]/x[0] - 1)\n",
        "print(pfizer_monthly_return)"
      ],
      "execution_count": 449,
      "outputs": [
        {
          "output_type": "stream",
          "name": "stdout",
          "text": [
            "Date\n",
            "2017-01-31   -0.038485\n",
            "2017-02-28    0.077360\n",
            "2017-03-31   -0.006101\n",
            "2017-04-30   -0.009346\n",
            "2017-05-31   -0.024096\n",
            "2017-06-30    0.026903\n",
            "2017-07-31   -0.019515\n",
            "2017-08-31    0.035409\n",
            "2017-09-30    0.051237\n",
            "2017-10-31   -0.028001\n",
            "2017-11-30    0.037758\n",
            "2017-12-31   -0.003577\n",
            "Freq: M, Name: Close, dtype: float64\n"
          ]
        }
      ]
    },
    {
      "cell_type": "markdown",
      "metadata": {
        "id": "_DYbMTFWMj8J"
      },
      "source": [
        "Series object also provides us some convenient methods to do some quick calculation."
      ]
    },
    {
      "cell_type": "code",
      "metadata": {
        "colab": {
          "base_uri": "https://localhost:8080/"
        },
        "id": "1Mxc0HwvHW98",
        "outputId": "c6a3df5f-00ad-409d-80a0-b21d7965de2f"
      },
      "source": [
        "print(monthly_return.mean())\n",
        "print(monthly_return.std())\n",
        "print(monthly_return.max())"
      ],
      "execution_count": 450,
      "outputs": [
        {
          "output_type": "stream",
          "name": "stdout",
          "text": [
            "0.0268633424911623\n",
            "0.05225852371732628\n",
            "0.09901839583970218\n"
          ]
        }
      ]
    },
    {
      "cell_type": "code",
      "metadata": {
        "colab": {
          "base_uri": "https://localhost:8080/"
        },
        "id": "cjSWsFVbgBaF",
        "outputId": "d70db4d0-d523-4e5d-ba2f-aff578b17961"
      },
      "source": [
        "print(pfizer_monthly_return.mean())\n",
        "print(pfizer_monthly_return.std())\n",
        "print(pfizer_monthly_return.max())"
      ],
      "execution_count": 451,
      "outputs": [
        {
          "output_type": "stream",
          "name": "stdout",
          "text": [
            "0.008295526671840156\n",
            "0.03637081292760605\n",
            "0.07736042392966236\n"
          ]
        }
      ]
    },
    {
      "cell_type": "markdown",
      "metadata": {
        "id": "mn59J5dqMpqX"
      },
      "source": [
        "Another two methods frequently used on Series are .diff() and .pct_change(). The former calculates the difference between consecutive elements, and the latter calculates the percentage change."
      ]
    },
    {
      "cell_type": "code",
      "metadata": {
        "colab": {
          "base_uri": "https://localhost:8080/"
        },
        "id": "DupZTSqqHW99",
        "outputId": "37f6d3ae-a787-4767-de64-62f93ebae23d"
      },
      "source": [
        "print(last_day.diff())# Calculate the difference between consecutive elements\n",
        "print(last_day.pct_change())"
      ],
      "execution_count": 452,
      "outputs": [
        {
          "output_type": "stream",
          "name": "stdout",
          "text": [
            "Date\n",
            "2017-01-31         NaN\n",
            "2017-02-28    3.825754\n",
            "2017-03-31    1.578686\n",
            "2017-04-30   -0.002377\n",
            "2017-05-31    2.305450\n",
            "2017-06-30   -2.077164\n",
            "2017-07-31    1.119381\n",
            "2017-08-31    3.782173\n",
            "2017-09-30   -2.357323\n",
            "2017-10-31    3.559849\n",
            "2017-11-30    0.817856\n",
            "2017-12-31   -0.627380\n",
            "Freq: M, Name: Close, dtype: float64\n",
            "Date\n",
            "2017-01-31         NaN\n",
            "2017-02-28    0.133778\n",
            "2017-03-31    0.048689\n",
            "2017-04-30   -0.000070\n",
            "2017-05-31    0.067808\n",
            "2017-06-30   -0.057214\n",
            "2017-07-31    0.032704\n",
            "2017-08-31    0.107000\n",
            "2017-09-30   -0.060244\n",
            "2017-10-31    0.096808\n",
            "2017-11-30    0.020278\n",
            "2017-12-31   -0.015246\n",
            "Freq: M, Name: Close, dtype: float64\n"
          ]
        }
      ]
    },
    {
      "cell_type": "code",
      "metadata": {
        "colab": {
          "base_uri": "https://localhost:8080/"
        },
        "id": "xF-1-tFKgalu",
        "outputId": "d023a585-d47f-4738-b48b-eaf4e445bcc4"
      },
      "source": [
        "print(pfizer_last_day.diff())\n",
        "print(pfizer_last_day.pct_change())"
      ],
      "execution_count": 453,
      "outputs": [
        {
          "output_type": "stream",
          "name": "stdout",
          "text": [
            "Date\n",
            "2017-01-31         NaN\n",
            "2017-02-28    2.169874\n",
            "2017-03-31    0.072062\n",
            "2017-04-30   -0.232197\n",
            "2017-05-31   -0.763838\n",
            "2017-06-30    0.759935\n",
            "2017-07-31   -0.347630\n",
            "2017-08-31    0.882278\n",
            "2017-09-30    1.453081\n",
            "2017-10-31   -0.522457\n",
            "2017-11-30    1.250088\n",
            "2017-12-31   -0.032957\n",
            "Freq: M, Name: Close, dtype: float64\n",
            "Date\n",
            "2017-01-31         NaN\n",
            "2017-02-28    0.086278\n",
            "2017-03-31    0.002638\n",
            "2017-04-30   -0.008477\n",
            "2017-05-31   -0.028124\n",
            "2017-06-30    0.028790\n",
            "2017-07-31   -0.012801\n",
            "2017-08-31    0.032911\n",
            "2017-09-30    0.052476\n",
            "2017-10-31   -0.017927\n",
            "2017-11-30    0.043678\n",
            "2017-12-31   -0.001103\n",
            "Freq: M, Name: Close, dtype: float64\n"
          ]
        }
      ]
    },
    {
      "cell_type": "markdown",
      "metadata": {
        "id": "RaMAOFepM6Io"
      },
      "source": [
        "Notice that we induced a NaN value while calculating percentage changes i.e. returns.\n",
        "\n",
        "When dealing with NaN values, we usually either removing the data point or fill it with a specific value. Here we fill it with 0:"
      ]
    },
    {
      "cell_type": "code",
      "metadata": {
        "colab": {
          "base_uri": "https://localhost:8080/"
        },
        "id": "-xyLb3A3HW99",
        "outputId": "368170dd-a2e1-4fad-f0fb-0ac75e561349"
      },
      "source": [
        "daily_return = last_day.pct_change()\n",
        "print(daily_return.fillna(0))"
      ],
      "execution_count": 454,
      "outputs": [
        {
          "output_type": "stream",
          "name": "stdout",
          "text": [
            "Date\n",
            "2017-01-31    0.000000\n",
            "2017-02-28    0.133778\n",
            "2017-03-31    0.048689\n",
            "2017-04-30   -0.000070\n",
            "2017-05-31    0.067808\n",
            "2017-06-30   -0.057214\n",
            "2017-07-31    0.032704\n",
            "2017-08-31    0.107000\n",
            "2017-09-30   -0.060244\n",
            "2017-10-31    0.096808\n",
            "2017-11-30    0.020278\n",
            "2017-12-31   -0.015246\n",
            "Freq: M, Name: Close, dtype: float64\n"
          ]
        }
      ]
    },
    {
      "cell_type": "code",
      "metadata": {
        "colab": {
          "base_uri": "https://localhost:8080/"
        },
        "id": "AYkdc6kdgqVN",
        "outputId": "0dc1310c-6e7b-4bfa-b0a1-36dc7a1dec98"
      },
      "source": [
        "pfizer_daily_return = pfizer_last_day.pct_change()\n",
        "print(pfizer_daily_return.fillna(0))"
      ],
      "execution_count": 455,
      "outputs": [
        {
          "output_type": "stream",
          "name": "stdout",
          "text": [
            "Date\n",
            "2017-01-31    0.000000\n",
            "2017-02-28    0.086278\n",
            "2017-03-31    0.002638\n",
            "2017-04-30   -0.008477\n",
            "2017-05-31   -0.028124\n",
            "2017-06-30    0.028790\n",
            "2017-07-31   -0.012801\n",
            "2017-08-31    0.032911\n",
            "2017-09-30    0.052476\n",
            "2017-10-31   -0.017927\n",
            "2017-11-30    0.043678\n",
            "2017-12-31   -0.001103\n",
            "Freq: M, Name: Close, dtype: float64\n"
          ]
        }
      ]
    },
    {
      "cell_type": "markdown",
      "metadata": {
        "id": "BYS10Om1NQVC"
      },
      "source": [
        "Alternatively, we can fill a NaN with the next fitted value. This is called 'backward fill', or 'bfill' in short:"
      ]
    },
    {
      "cell_type": "code",
      "metadata": {
        "colab": {
          "base_uri": "https://localhost:8080/"
        },
        "id": "J513kHeKHW9-",
        "outputId": "6798c8ac-c9fc-4fd6-acfb-dc07b0a03116"
      },
      "source": [
        "daily_return = last_day.pct_change()\n",
        "print(daily_return.fillna(method = 'bfill'))"
      ],
      "execution_count": 456,
      "outputs": [
        {
          "output_type": "stream",
          "name": "stdout",
          "text": [
            "Date\n",
            "2017-01-31    0.133778\n",
            "2017-02-28    0.133778\n",
            "2017-03-31    0.048689\n",
            "2017-04-30   -0.000070\n",
            "2017-05-31    0.067808\n",
            "2017-06-30   -0.057214\n",
            "2017-07-31    0.032704\n",
            "2017-08-31    0.107000\n",
            "2017-09-30   -0.060244\n",
            "2017-10-31    0.096808\n",
            "2017-11-30    0.020278\n",
            "2017-12-31   -0.015246\n",
            "Freq: M, Name: Close, dtype: float64\n"
          ]
        }
      ]
    },
    {
      "cell_type": "code",
      "metadata": {
        "colab": {
          "base_uri": "https://localhost:8080/"
        },
        "id": "JT8A6bwIg7qU",
        "outputId": "cf2f37ab-7bf5-4ebd-a04c-fd7b1ee8cdcc"
      },
      "source": [
        "pfizer_daily_return = pfizer_last_day.pct_change()\n",
        "print(pfizer_daily_return.fillna(method = 'bfill'))"
      ],
      "execution_count": 457,
      "outputs": [
        {
          "output_type": "stream",
          "name": "stdout",
          "text": [
            "Date\n",
            "2017-01-31    0.086278\n",
            "2017-02-28    0.086278\n",
            "2017-03-31    0.002638\n",
            "2017-04-30   -0.008477\n",
            "2017-05-31   -0.028124\n",
            "2017-06-30    0.028790\n",
            "2017-07-31   -0.012801\n",
            "2017-08-31    0.032911\n",
            "2017-09-30    0.052476\n",
            "2017-10-31   -0.017927\n",
            "2017-11-30    0.043678\n",
            "2017-12-31   -0.001103\n",
            "Freq: M, Name: Close, dtype: float64\n"
          ]
        }
      ]
    },
    {
      "cell_type": "markdown",
      "metadata": {
        "id": "bj8QUSgdNepf"
      },
      "source": [
        "As expected, since there is a 'backward fill' method, there must be a 'forward fill' method, or 'ffill' in short. However we can't use it here because the NaN is the first value.\n",
        "\n",
        "We can also simply remove NaN values by **_.dropna()_**"
      ]
    },
    {
      "cell_type": "code",
      "metadata": {
        "colab": {
          "base_uri": "https://localhost:8080/"
        },
        "id": "WG5ux1lqHW9-",
        "outputId": "56a5b053-32d3-4f27-bdb3-b1ee7dab9f58"
      },
      "source": [
        "daily_return = last_day.pct_change()\n",
        "daily_return.dropna() #Remove'NaN' values"
      ],
      "execution_count": 458,
      "outputs": [
        {
          "output_type": "execute_result",
          "data": {
            "text/plain": [
              "Date\n",
              "2017-02-28    0.133778\n",
              "2017-03-31    0.048689\n",
              "2017-04-30   -0.000070\n",
              "2017-05-31    0.067808\n",
              "2017-06-30   -0.057214\n",
              "2017-07-31    0.032704\n",
              "2017-08-31    0.107000\n",
              "2017-09-30   -0.060244\n",
              "2017-10-31    0.096808\n",
              "2017-11-30    0.020278\n",
              "2017-12-31   -0.015246\n",
              "Freq: M, Name: Close, dtype: float64"
            ]
          },
          "metadata": {},
          "execution_count": 458
        }
      ]
    },
    {
      "cell_type": "code",
      "metadata": {
        "colab": {
          "base_uri": "https://localhost:8080/"
        },
        "id": "TH1Ac6_khG1E",
        "outputId": "b92f58a9-5bab-47e5-e582-ac21cf508535"
      },
      "source": [
        "pfizer_daily_return = pfizer_last_day.pct_change()\n",
        "pfizer_daily_return.dropna()"
      ],
      "execution_count": 459,
      "outputs": [
        {
          "output_type": "execute_result",
          "data": {
            "text/plain": [
              "Date\n",
              "2017-02-28    0.086278\n",
              "2017-03-31    0.002638\n",
              "2017-04-30   -0.008477\n",
              "2017-05-31   -0.028124\n",
              "2017-06-30    0.028790\n",
              "2017-07-31   -0.012801\n",
              "2017-08-31    0.032911\n",
              "2017-09-30    0.052476\n",
              "2017-10-31   -0.017927\n",
              "2017-11-30    0.043678\n",
              "2017-12-31   -0.001103\n",
              "Freq: M, Name: Close, dtype: float64"
            ]
          },
          "metadata": {},
          "execution_count": 459
        }
      ]
    },
    {
      "cell_type": "markdown",
      "metadata": {
        "id": "nQH2eBWkNjdC"
      },
      "source": [
        "# DataFrame\n",
        "The **DataFrame** is the most commonly used data structure in Pandas. It is essentially a table, just like an Excel spreadsheet.\n",
        "\n",
        "More precisely, a DataFrame is a collection of Series objects, each of which may contain different data types. A DataFrame can be created from various data types: dictionary, 2-D numpy.ndarray, a Series or another DataFrame.\n",
        "\n",
        "## Create DataFrames\n",
        "The most common method of creating a DataFrame is passing a dictionary:"
      ]
    },
    {
      "cell_type": "code",
      "metadata": {
        "colab": {
          "base_uri": "https://localhost:8080/"
        },
        "id": "vd5Wf1ohHW9-",
        "outputId": "5832b977-605a-4e14-d6a8-07f8006f85cb"
      },
      "source": [
        "import pandas as pd\n",
        "\n",
        "dict = {'AAPL': [143.5, 144.09, 142.73, 144.18, 143.77],'GOOG':[898.7, 911.71, 906.69, 918.59, 926.99],\n",
        "        'IBM':[155.58, 153.67, 152.36, 152.94, 153.49]}\n",
        "data_index = pd.date_range('2017-07-03',periods = 5, freq = 'D')\n",
        "df = pd.DataFrame(dict, index = data_index)\n",
        "print(df)"
      ],
      "execution_count": 460,
      "outputs": [
        {
          "output_type": "stream",
          "name": "stdout",
          "text": [
            "              AAPL    GOOG     IBM\n",
            "2017-07-03  143.50  898.70  155.58\n",
            "2017-07-04  144.09  911.71  153.67\n",
            "2017-07-05  142.73  906.69  152.36\n",
            "2017-07-06  144.18  918.59  152.94\n",
            "2017-07-07  143.77  926.99  153.49\n"
          ]
        }
      ]
    },
    {
      "cell_type": "code",
      "metadata": {
        "colab": {
          "base_uri": "https://localhost:8080/"
        },
        "id": "-hVhR9B8h3HZ",
        "outputId": "395e3504-51d4-429e-a2a3-5dc8e3fdfc77"
      },
      "source": [
        "import pandas as pd\n",
        "\n",
        "e_dict = {'Ej01': [3.5, 4.09, 2.73, 4.18, 3.77],'Ej02':[198.7, 211.71, 250.69, 318.59, 426.99],\n",
        "        'Ej03':[35.58, 43.67, 62.36, 92.94, 13.49]}\n",
        "data_index = pd.date_range('2017-07-03',periods = 5, freq = 'D')\n",
        "e_df = pd.DataFrame(e_dict, index = data_index)\n",
        "print(e_df)"
      ],
      "execution_count": 461,
      "outputs": [
        {
          "output_type": "stream",
          "name": "stdout",
          "text": [
            "            Ej01    Ej02   Ej03\n",
            "2017-07-03  3.50  198.70  35.58\n",
            "2017-07-04  4.09  211.71  43.67\n",
            "2017-07-05  2.73  250.69  62.36\n",
            "2017-07-06  4.18  318.59  92.94\n",
            "2017-07-07  3.77  426.99  13.49\n"
          ]
        }
      ]
    },
    {
      "cell_type": "markdown",
      "metadata": {
        "id": "0uYmLQTgOPnX"
      },
      "source": [
        "## Manipulating DataFrames\n",
        "We can fetch values in a DataFrame by columns and index. Each column in a DataFrame is essentially a Pandas Series. We can fetch a column by square brackets: **df['column_name']**\n",
        "\n",
        "If a column name contains no spaces, then we can also use df.column_name to fetch a column:"
      ]
    },
    {
      "cell_type": "code",
      "metadata": {
        "colab": {
          "base_uri": "https://localhost:8080/"
        },
        "id": "2pB2f7lBHW9_",
        "outputId": "8d740bdf-2fd7-4efb-93d5-b28975a05acd"
      },
      "source": [
        "df = aapl_table\n",
        "print(df.Close.tail(5))#Fetch a column\n",
        "print(df['Volume'].tail(5))"
      ],
      "execution_count": 462,
      "outputs": [
        {
          "output_type": "stream",
          "name": "stdout",
          "text": [
            "Date\n",
            "2017-12-22    41.906769\n",
            "2017-12-26    40.843605\n",
            "2017-12-27    40.850788\n",
            "2017-12-28    40.965725\n",
            "2017-12-29    40.522724\n",
            "Name: Close, dtype: float64\n",
            "Date\n",
            "2017-12-22     65397600\n",
            "2017-12-26    132742000\n",
            "2017-12-27     85992800\n",
            "2017-12-28     65920800\n",
            "2017-12-29    103999600\n",
            "Name: Volume, dtype: int64\n"
          ]
        }
      ]
    },
    {
      "cell_type": "code",
      "metadata": {
        "colab": {
          "base_uri": "https://localhost:8080/"
        },
        "id": "i66aLLNEiUO9",
        "outputId": "fc3b4a3a-ebb4-424b-a4f0-86d64e82be24"
      },
      "source": [
        "e_df = pfizer_table\n",
        "print(e_df.Close.tail(5))\n",
        "print(e_df['Volume'].tail(5))"
      ],
      "execution_count": 463,
      "outputs": [
        {
          "output_type": "stream",
          "name": "stdout",
          "text": [
            "Date\n",
            "2017-12-22    29.772074\n",
            "2017-12-26    29.829741\n",
            "2017-12-27    29.928595\n",
            "2017-12-28    29.961542\n",
            "2017-12-29    29.837973\n",
            "Name: Close, dtype: float64\n",
            "Date\n",
            "2017-12-22     9063557\n",
            "2017-12-26    11480590\n",
            "2017-12-27     8768964\n",
            "2017-12-28     6939431\n",
            "2017-12-29    12038261\n",
            "Name: Volume, dtype: int64\n"
          ]
        }
      ]
    },
    {
      "cell_type": "markdown",
      "metadata": {
        "id": "z0ugOel9O4-P"
      },
      "source": [
        "All the methods we applied to a Series index such as iloc[], loc[] and resampling methods, can also be applied to a DataFrame:"
      ]
    },
    {
      "cell_type": "code",
      "metadata": {
        "colab": {
          "base_uri": "https://localhost:8080/"
        },
        "id": "_8dfjkedHW9_",
        "outputId": "7b55c320-0298-453b-9956-372a55883fa9"
      },
      "source": [
        "aapl_2016 = df['2016']\n",
        "aapl_month = aapl_2016.resample('M').agg(lambda x: x[-1])\n",
        "print(aapl_month)"
      ],
      "execution_count": 464,
      "outputs": [
        {
          "output_type": "stream",
          "name": "stdout",
          "text": [
            "                 Open       High        Low  ...     Volume  Dividends  Stock Splits\n",
            "Date                                         ...                                    \n",
            "2016-01-31  21.852386  22.440248  21.750950  ...  257666000        0.0             0\n",
            "2016-02-29  22.450759  22.768306  22.402084  ...  140865200        0.0             0\n",
            "2016-03-31  25.431518  25.473240  25.236817  ...  103553600        0.0             0\n",
            "2016-04-30  21.785533  21.954737  21.442491  ...  274126000        0.0             0\n",
            "2016-05-31  23.226403  23.412961  23.044510  ...  169228800        0.0             0\n",
            "2016-06-30  22.023114  22.333264  21.990466  ...  143345600        0.0             0\n",
            "2016-07-31  24.296780  24.380731  24.177849  ...  110934800        0.0             0\n",
            "2016-08-31  24.773056  24.986413  24.768365  ...  118649600        0.0             0\n",
            "2016-09-30  26.367382  26.580742  26.212639  ...  145516400        0.0             0\n",
            "2016-10-31  26.646394  26.782382  26.540886  ...  105677600        0.0             0\n",
            "2016-11-30  26.300088  26.441486  25.986654  ...  144649200        0.0             0\n",
            "2016-12-31  27.490199  27.619813  27.202689  ...  122345200        0.0             0\n",
            "\n",
            "[12 rows x 7 columns]\n"
          ]
        }
      ]
    },
    {
      "cell_type": "code",
      "metadata": {
        "colab": {
          "base_uri": "https://localhost:8080/"
        },
        "id": "psh2HK7IidL_",
        "outputId": "97ed7e0e-77b1-4c33-fa0c-01a5fe80968c"
      },
      "source": [
        "pfizer_2016 = e_df['2016']\n",
        "pfizer_month = pfizer_2016.resample('M').agg(lambda x: x[-1])\n",
        "print(pfizer_month)"
      ],
      "execution_count": 465,
      "outputs": [
        {
          "output_type": "stream",
          "name": "stdout",
          "text": [
            "                 Open       High        Low  ...    Volume  Dividends  Stock Splits\n",
            "Date                                         ...                                   \n",
            "2016-01-31  23.202222  23.286234  22.850905  ...  59794263        0.0             0\n",
            "2016-02-29  23.211779  23.281205  22.810645  ...  37091841        0.0             0\n",
            "2016-03-31  23.188634  23.273489  22.764357  ...  59861719        0.0             0\n",
            "2016-04-30  25.356303  25.418016  25.016882  ...  36061134        0.0             0\n",
            "2016-05-31  26.984350  27.046615  26.758637  ...  34547274        0.0             0\n",
            "2016-06-30  27.350158  27.451340  27.194496  ...  28451465        0.0             0\n",
            "2016-07-31  28.548775  28.758923  28.525427  ...  22675545        0.0             0\n",
            "2016-08-31  27.357772  27.420555  27.161573  ...  21919616        0.0             0\n",
            "2016-09-30  26.243371  26.698548  26.211979  ...  30138076        0.0             0\n",
            "2016-10-31  25.144664  25.144664  24.807205  ...  37890668        0.0             0\n",
            "2016-11-30  25.347887  25.657006  25.165585  ...  40599553        0.0             0\n",
            "2016-12-31  25.633227  25.839308  25.609450  ...  19885396        0.0             0\n",
            "\n",
            "[12 rows x 7 columns]\n"
          ]
        }
      ]
    },
    {
      "cell_type": "markdown",
      "metadata": {
        "id": "CqrbrbFZPTJe"
      },
      "source": [
        "We may select certain columns of a DataFrame using their names:"
      ]
    },
    {
      "cell_type": "code",
      "metadata": {
        "colab": {
          "base_uri": "https://localhost:8080/"
        },
        "id": "7bQGeyCAHW9_",
        "outputId": "a15a0084-b2ab-4eae-8f71-90c20f8e93ed"
      },
      "source": [
        "aapl_bar = aapl_month[['Open', 'High', 'Low', 'Close']]\n",
        "print(aapl_bar)"
      ],
      "execution_count": 466,
      "outputs": [
        {
          "output_type": "stream",
          "name": "stdout",
          "text": [
            "                 Open       High        Low      Close\n",
            "Date                                                  \n",
            "2016-01-31  21.852386  22.440248  21.750950  22.440248\n",
            "2016-02-29  22.450759  22.768306  22.402084  22.411356\n",
            "2016-03-31  25.431518  25.473240  25.236817  25.262314\n",
            "2016-04-30  21.785533  21.954737  21.442491  21.727587\n",
            "2016-05-31  23.226403  23.412961  23.044510  23.287035\n",
            "2016-06-30  22.023114  22.333264  21.990466  22.293621\n",
            "2016-07-31  24.296780  24.380731  24.177849  24.301443\n",
            "2016-08-31  24.773056  24.986413  24.768365  24.876217\n",
            "2016-09-30  26.367382  26.580742  26.212639  26.505714\n",
            "2016-10-31  26.646394  26.782382  26.540886  26.620604\n",
            "2016-11-30  26.300088  26.441486  25.986654  26.045570\n",
            "2016-12-31  27.490199  27.619813  27.202689  27.294598\n"
          ]
        }
      ]
    },
    {
      "cell_type": "code",
      "metadata": {
        "colab": {
          "base_uri": "https://localhost:8080/"
        },
        "id": "dQQZCBz9iqpg",
        "outputId": "602169c9-592e-43e2-9a5e-5d4d38d727a5"
      },
      "source": [
        "pfizer_bar = pfizer_month[['Open', 'High', 'Low', 'Close']]\n",
        "print(pfizer_bar)"
      ],
      "execution_count": 467,
      "outputs": [
        {
          "output_type": "stream",
          "name": "stdout",
          "text": [
            "                 Open       High        Low      Close\n",
            "Date                                                  \n",
            "2016-01-31  23.202222  23.286234  22.850905  23.286234\n",
            "2016-02-29  23.211779  23.281205  22.810645  22.887785\n",
            "2016-03-31  23.188634  23.273489  22.764357  22.864641\n",
            "2016-04-30  25.356303  25.418016  25.016882  25.232878\n",
            "2016-05-31  26.984350  27.046615  26.758637  27.007698\n",
            "2016-06-30  27.350158  27.451340  27.194496  27.404640\n",
            "2016-07-31  28.548775  28.758923  28.525427  28.712223\n",
            "2016-08-31  27.357772  27.420555  27.161573  27.310684\n",
            "2016-09-30  26.243371  26.698548  26.211979  26.580830\n",
            "2016-10-31  25.144664  25.144664  24.807205  24.885683\n",
            "2016-11-30  25.347887  25.657006  25.165585  25.474705\n",
            "2016-12-31  25.633227  25.839308  25.609450  25.744194\n"
          ]
        }
      ]
    },
    {
      "cell_type": "markdown",
      "metadata": {
        "id": "8CQaZCAQP68O"
      },
      "source": [
        "We can even specify both rows and columns using loc[]. The row indices and column names are separated by a comma:"
      ]
    },
    {
      "cell_type": "code",
      "metadata": {
        "colab": {
          "base_uri": "https://localhost:8080/"
        },
        "id": "YjWWiHVpHW-A",
        "outputId": "286e070e-8e06-4022-a5f9-4750e286c950"
      },
      "source": [
        "print(aapl_month.loc['2016-03':'2016-06',['Open', 'High', 'Low', 'Close']])"
      ],
      "execution_count": 468,
      "outputs": [
        {
          "output_type": "stream",
          "name": "stdout",
          "text": [
            "                 Open       High        Low      Close\n",
            "Date                                                  \n",
            "2016-03-31  25.431518  25.473240  25.236817  25.262314\n",
            "2016-04-30  21.785533  21.954737  21.442491  21.727587\n",
            "2016-05-31  23.226403  23.412961  23.044510  23.287035\n",
            "2016-06-30  22.023114  22.333264  21.990466  22.293621\n"
          ]
        }
      ]
    },
    {
      "cell_type": "code",
      "metadata": {
        "colab": {
          "base_uri": "https://localhost:8080/"
        },
        "id": "1SdeTI1GizrD",
        "outputId": "f4f0e33e-483c-4244-a66d-36f03278aac4"
      },
      "source": [
        "print(pfizer_month.loc['2016-03':'2016-06',['Open', 'High', 'Low', 'Close']])"
      ],
      "execution_count": 469,
      "outputs": [
        {
          "output_type": "stream",
          "name": "stdout",
          "text": [
            "                 Open       High        Low      Close\n",
            "Date                                                  \n",
            "2016-03-31  23.188634  23.273489  22.764357  22.864641\n",
            "2016-04-30  25.356303  25.418016  25.016882  25.232878\n",
            "2016-05-31  26.984350  27.046615  26.758637  27.007698\n",
            "2016-06-30  27.350158  27.451340  27.194496  27.404640\n"
          ]
        }
      ]
    },
    {
      "cell_type": "markdown",
      "metadata": {
        "id": "Xcn_pHNLQBEH"
      },
      "source": [
        "The subset methods in DataFrame is quite useful. By writing logical statements in square brackets, we can make customized subsets:"
      ]
    },
    {
      "cell_type": "code",
      "metadata": {
        "colab": {
          "base_uri": "https://localhost:8080/"
        },
        "id": "RxKg4dObHW-A",
        "outputId": "dad44faa-ba8a-43b2-d182-66ace018d0ca"
      },
      "source": [
        "import numpy as np\n",
        "\n",
        "above = aapl_bar[aapl_bar.Close > np.mean(aapl_bar.Close)]\n",
        "print(above)"
      ],
      "execution_count": 470,
      "outputs": [
        {
          "output_type": "stream",
          "name": "stdout",
          "text": [
            "                 Open       High        Low      Close\n",
            "Date                                                  \n",
            "2016-03-31  25.431518  25.473240  25.236817  25.262314\n",
            "2016-08-31  24.773056  24.986413  24.768365  24.876217\n",
            "2016-09-30  26.367382  26.580742  26.212639  26.505714\n",
            "2016-10-31  26.646394  26.782382  26.540886  26.620604\n",
            "2016-11-30  26.300088  26.441486  25.986654  26.045570\n",
            "2016-12-31  27.490199  27.619813  27.202689  27.294598\n"
          ]
        }
      ]
    },
    {
      "cell_type": "code",
      "metadata": {
        "colab": {
          "base_uri": "https://localhost:8080/"
        },
        "id": "ixtYvRMui5Q2",
        "outputId": "e60830c5-170d-4637-ace6-4a827da2925b"
      },
      "source": [
        "import numpy as np\n",
        "\n",
        "e_above = pfizer_bar[pfizer_bar.Close > np.mean(pfizer_bar.Close)]\n",
        "print(e_above)"
      ],
      "execution_count": 471,
      "outputs": [
        {
          "output_type": "stream",
          "name": "stdout",
          "text": [
            "                 Open       High        Low      Close\n",
            "Date                                                  \n",
            "2016-05-31  26.984350  27.046615  26.758637  27.007698\n",
            "2016-06-30  27.350158  27.451340  27.194496  27.404640\n",
            "2016-07-31  28.548775  28.758923  28.525427  28.712223\n",
            "2016-08-31  27.357772  27.420555  27.161573  27.310684\n",
            "2016-09-30  26.243371  26.698548  26.211979  26.580830\n",
            "2016-12-31  25.633227  25.839308  25.609450  25.744194\n"
          ]
        }
      ]
    },
    {
      "cell_type": "markdown",
      "metadata": {
        "id": "wcm_UadkQLL5"
      },
      "source": [
        "## Data Validation\n",
        "As mentioned, all methods that apply to a Series can also be applied to a DataFrame. Here we add a new column to an existing DataFrame:"
      ]
    },
    {
      "cell_type": "code",
      "metadata": {
        "colab": {
          "base_uri": "https://localhost:8080/"
        },
        "id": "jZXFdOVFHW-A",
        "outputId": "bc0f159a-50d1-4b53-b80d-1e26f2d2f36d"
      },
      "source": [
        "aapl_bar['rate_return'] = aapl_bar.Close.pct_change()\n",
        "print(aapl_bar)"
      ],
      "execution_count": 472,
      "outputs": [
        {
          "output_type": "stream",
          "name": "stdout",
          "text": [
            "                 Open       High        Low      Close  rate_return\n",
            "Date                                                               \n",
            "2016-01-31  21.852386  22.440248  21.750950  22.440248          NaN\n",
            "2016-02-29  22.450759  22.768306  22.402084  22.411356    -0.001288\n",
            "2016-03-31  25.431518  25.473240  25.236817  25.262314     0.127210\n",
            "2016-04-30  21.785533  21.954737  21.442491  21.727587    -0.139921\n",
            "2016-05-31  23.226403  23.412961  23.044510  23.287035     0.071773\n",
            "2016-06-30  22.023114  22.333264  21.990466  22.293621    -0.042660\n",
            "2016-07-31  24.296780  24.380731  24.177849  24.301443     0.090063\n",
            "2016-08-31  24.773056  24.986413  24.768365  24.876217     0.023652\n",
            "2016-09-30  26.367382  26.580742  26.212639  26.505714     0.065504\n",
            "2016-10-31  26.646394  26.782382  26.540886  26.620604     0.004335\n",
            "2016-11-30  26.300088  26.441486  25.986654  26.045570    -0.021601\n",
            "2016-12-31  27.490199  27.619813  27.202689  27.294598     0.047955\n"
          ]
        },
        {
          "output_type": "stream",
          "name": "stderr",
          "text": [
            "/usr/local/lib/python3.7/dist-packages/ipykernel_launcher.py:1: SettingWithCopyWarning: \n",
            "A value is trying to be set on a copy of a slice from a DataFrame.\n",
            "Try using .loc[row_indexer,col_indexer] = value instead\n",
            "\n",
            "See the caveats in the documentation: https://pandas.pydata.org/pandas-docs/stable/user_guide/indexing.html#returning-a-view-versus-a-copy\n",
            "  \"\"\"Entry point for launching an IPython kernel.\n"
          ]
        }
      ]
    },
    {
      "cell_type": "code",
      "metadata": {
        "colab": {
          "base_uri": "https://localhost:8080/"
        },
        "id": "WYGolYKrjW4V",
        "outputId": "59b5126f-3f74-465f-c8f5-bcecb4bc2758"
      },
      "source": [
        "pfizer_bar['rate_return'] = pfizer_bar.Close.pct_change()\n",
        "print(pfizer_bar)"
      ],
      "execution_count": 473,
      "outputs": [
        {
          "output_type": "stream",
          "name": "stdout",
          "text": [
            "                 Open       High        Low      Close  rate_return\n",
            "Date                                                               \n",
            "2016-01-31  23.202222  23.286234  22.850905  23.286234          NaN\n",
            "2016-02-29  23.211779  23.281205  22.810645  22.887785    -0.017111\n",
            "2016-03-31  23.188634  23.273489  22.764357  22.864641    -0.001011\n",
            "2016-04-30  25.356303  25.418016  25.016882  25.232878     0.103576\n",
            "2016-05-31  26.984350  27.046615  26.758637  27.007698     0.070338\n",
            "2016-06-30  27.350158  27.451340  27.194496  27.404640     0.014697\n",
            "2016-07-31  28.548775  28.758923  28.525427  28.712223     0.047714\n",
            "2016-08-31  27.357772  27.420555  27.161573  27.310684    -0.048813\n",
            "2016-09-30  26.243371  26.698548  26.211979  26.580830    -0.026724\n",
            "2016-10-31  25.144664  25.144664  24.807205  24.885683    -0.063773\n",
            "2016-11-30  25.347887  25.657006  25.165585  25.474705     0.023669\n",
            "2016-12-31  25.633227  25.839308  25.609450  25.744194     0.010579\n"
          ]
        },
        {
          "output_type": "stream",
          "name": "stderr",
          "text": [
            "/usr/local/lib/python3.7/dist-packages/ipykernel_launcher.py:1: SettingWithCopyWarning: \n",
            "A value is trying to be set on a copy of a slice from a DataFrame.\n",
            "Try using .loc[row_indexer,col_indexer] = value instead\n",
            "\n",
            "See the caveats in the documentation: https://pandas.pydata.org/pandas-docs/stable/user_guide/indexing.html#returning-a-view-versus-a-copy\n",
            "  \"\"\"Entry point for launching an IPython kernel.\n"
          ]
        }
      ]
    },
    {
      "cell_type": "markdown",
      "metadata": {
        "id": "_or6n5-LQUa-"
      },
      "source": [
        "Here the calculation introduced a NaN value. If the DataFrame is large, we would not be able to observe it. **isnull()** provides a convenient way to check abnormal values."
      ]
    },
    {
      "cell_type": "code",
      "metadata": {
        "colab": {
          "base_uri": "https://localhost:8080/"
        },
        "id": "V5wgmhIPHW-B",
        "outputId": "9f17c176-1bfb-491a-8433-bf21c7ec77ce"
      },
      "source": [
        "missing = aapl_bar.isnull() #check abnormal values\n",
        "print(missing)\n",
        "print('---------------------------------------------')\n",
        "print(missing.describe())"
      ],
      "execution_count": 474,
      "outputs": [
        {
          "output_type": "stream",
          "name": "stdout",
          "text": [
            "             Open   High    Low  Close  rate_return\n",
            "Date                                               \n",
            "2016-01-31  False  False  False  False         True\n",
            "2016-02-29  False  False  False  False        False\n",
            "2016-03-31  False  False  False  False        False\n",
            "2016-04-30  False  False  False  False        False\n",
            "2016-05-31  False  False  False  False        False\n",
            "2016-06-30  False  False  False  False        False\n",
            "2016-07-31  False  False  False  False        False\n",
            "2016-08-31  False  False  False  False        False\n",
            "2016-09-30  False  False  False  False        False\n",
            "2016-10-31  False  False  False  False        False\n",
            "2016-11-30  False  False  False  False        False\n",
            "2016-12-31  False  False  False  False        False\n",
            "---------------------------------------------\n",
            "         Open   High    Low  Close rate_return\n",
            "count      12     12     12     12          12\n",
            "unique      1      1      1      1           2\n",
            "top     False  False  False  False       False\n",
            "freq       12     12     12     12          11\n"
          ]
        }
      ]
    },
    {
      "cell_type": "code",
      "metadata": {
        "colab": {
          "base_uri": "https://localhost:8080/"
        },
        "id": "W49rJzX9jiD-",
        "outputId": "eea8f53b-a190-49a3-805c-1d009202b3ce"
      },
      "source": [
        "e_missing = pfizer_bar.isnull()\n",
        "print(e_missing)\n",
        "print('---------------------------------------------')\n",
        "print(e_missing.describe())"
      ],
      "execution_count": 475,
      "outputs": [
        {
          "output_type": "stream",
          "name": "stdout",
          "text": [
            "             Open   High    Low  Close  rate_return\n",
            "Date                                               \n",
            "2016-01-31  False  False  False  False         True\n",
            "2016-02-29  False  False  False  False        False\n",
            "2016-03-31  False  False  False  False        False\n",
            "2016-04-30  False  False  False  False        False\n",
            "2016-05-31  False  False  False  False        False\n",
            "2016-06-30  False  False  False  False        False\n",
            "2016-07-31  False  False  False  False        False\n",
            "2016-08-31  False  False  False  False        False\n",
            "2016-09-30  False  False  False  False        False\n",
            "2016-10-31  False  False  False  False        False\n",
            "2016-11-30  False  False  False  False        False\n",
            "2016-12-31  False  False  False  False        False\n",
            "---------------------------------------------\n",
            "         Open   High    Low  Close rate_return\n",
            "count      12     12     12     12          12\n",
            "unique      1      1      1      1           2\n",
            "top     False  False  False  False       False\n",
            "freq       12     12     12     12          11\n"
          ]
        }
      ]
    },
    {
      "cell_type": "markdown",
      "metadata": {
        "id": "d6KFV4i0QfLW"
      },
      "source": [
        "The row labelled \"unique\" indicates the number of unique values in each column. Since the \"rate_return\" column has 2 unique values, it has at least one missing value.\n",
        "\n",
        "We can deduce the number of missing values by comparing \"count\" with \"freq\". There are 12 counts and 11 False values, so there is one True value which corresponds to the missing value.\n",
        "\n",
        "We can also find the rows with missing values easily:"
      ]
    },
    {
      "cell_type": "code",
      "metadata": {
        "colab": {
          "base_uri": "https://localhost:8080/"
        },
        "id": "Eo0ZAhCsHW-B",
        "outputId": "61609d72-f18c-4fb3-c44d-5741dd6f3093"
      },
      "source": [
        "print(missing[missing.rate_return == True])"
      ],
      "execution_count": 476,
      "outputs": [
        {
          "output_type": "stream",
          "name": "stdout",
          "text": [
            "             Open   High    Low  Close  rate_return\n",
            "Date                                               \n",
            "2016-01-31  False  False  False  False         True\n"
          ]
        }
      ]
    },
    {
      "cell_type": "code",
      "metadata": {
        "colab": {
          "base_uri": "https://localhost:8080/"
        },
        "id": "IgccmJtkjuHo",
        "outputId": "ee2d9094-5e4f-4886-ff03-05baab1375d5"
      },
      "source": [
        "print(e_missing[e_missing.rate_return == True])"
      ],
      "execution_count": 477,
      "outputs": [
        {
          "output_type": "stream",
          "name": "stdout",
          "text": [
            "             Open   High    Low  Close  rate_return\n",
            "Date                                               \n",
            "2016-01-31  False  False  False  False         True\n"
          ]
        }
      ]
    },
    {
      "cell_type": "markdown",
      "metadata": {
        "id": "qgggpD8OQkZX"
      },
      "source": [
        "Usually when dealing with missing data, we either delete the whole row or fill it with some value. As we introduced in the Series chapter, the same method **dropna()** and **fillna()** can be applied to a DataFrame."
      ]
    },
    {
      "cell_type": "code",
      "metadata": {
        "colab": {
          "base_uri": "https://localhost:8080/"
        },
        "id": "j8PaIokjHW-B",
        "outputId": "4abaa91c-e534-460a-fafa-1d410c6e3a2d"
      },
      "source": [
        "drop = aapl_bar.dropna() # delete the whole row\n",
        "print(drop)\n",
        "print('\\n--------------------------------------------------\\n')\n",
        "fill = aapl_bar.fillna(0)\n",
        "print(fill)"
      ],
      "execution_count": 478,
      "outputs": [
        {
          "output_type": "stream",
          "name": "stdout",
          "text": [
            "                 Open       High        Low      Close  rate_return\n",
            "Date                                                               \n",
            "2016-02-29  22.450759  22.768306  22.402084  22.411356    -0.001288\n",
            "2016-03-31  25.431518  25.473240  25.236817  25.262314     0.127210\n",
            "2016-04-30  21.785533  21.954737  21.442491  21.727587    -0.139921\n",
            "2016-05-31  23.226403  23.412961  23.044510  23.287035     0.071773\n",
            "2016-06-30  22.023114  22.333264  21.990466  22.293621    -0.042660\n",
            "2016-07-31  24.296780  24.380731  24.177849  24.301443     0.090063\n",
            "2016-08-31  24.773056  24.986413  24.768365  24.876217     0.023652\n",
            "2016-09-30  26.367382  26.580742  26.212639  26.505714     0.065504\n",
            "2016-10-31  26.646394  26.782382  26.540886  26.620604     0.004335\n",
            "2016-11-30  26.300088  26.441486  25.986654  26.045570    -0.021601\n",
            "2016-12-31  27.490199  27.619813  27.202689  27.294598     0.047955\n",
            "\n",
            "--------------------------------------------------\n",
            "\n",
            "                 Open       High        Low      Close  rate_return\n",
            "Date                                                               \n",
            "2016-01-31  21.852386  22.440248  21.750950  22.440248     0.000000\n",
            "2016-02-29  22.450759  22.768306  22.402084  22.411356    -0.001288\n",
            "2016-03-31  25.431518  25.473240  25.236817  25.262314     0.127210\n",
            "2016-04-30  21.785533  21.954737  21.442491  21.727587    -0.139921\n",
            "2016-05-31  23.226403  23.412961  23.044510  23.287035     0.071773\n",
            "2016-06-30  22.023114  22.333264  21.990466  22.293621    -0.042660\n",
            "2016-07-31  24.296780  24.380731  24.177849  24.301443     0.090063\n",
            "2016-08-31  24.773056  24.986413  24.768365  24.876217     0.023652\n",
            "2016-09-30  26.367382  26.580742  26.212639  26.505714     0.065504\n",
            "2016-10-31  26.646394  26.782382  26.540886  26.620604     0.004335\n",
            "2016-11-30  26.300088  26.441486  25.986654  26.045570    -0.021601\n",
            "2016-12-31  27.490199  27.619813  27.202689  27.294598     0.047955\n"
          ]
        }
      ]
    },
    {
      "cell_type": "code",
      "metadata": {
        "colab": {
          "base_uri": "https://localhost:8080/"
        },
        "id": "BTLC4UmOj1BI",
        "outputId": "b3abe57d-5324-46f6-81ae-b39853eb99de"
      },
      "source": [
        "drop = pfizer_bar.dropna()\n",
        "print(drop)\n",
        "print('\\n--------------------------------------------------\\n')\n",
        "fill = pfizer_bar.fillna(0)\n",
        "print(fill)"
      ],
      "execution_count": 479,
      "outputs": [
        {
          "output_type": "stream",
          "name": "stdout",
          "text": [
            "                 Open       High        Low      Close  rate_return\n",
            "Date                                                               \n",
            "2016-02-29  23.211779  23.281205  22.810645  22.887785    -0.017111\n",
            "2016-03-31  23.188634  23.273489  22.764357  22.864641    -0.001011\n",
            "2016-04-30  25.356303  25.418016  25.016882  25.232878     0.103576\n",
            "2016-05-31  26.984350  27.046615  26.758637  27.007698     0.070338\n",
            "2016-06-30  27.350158  27.451340  27.194496  27.404640     0.014697\n",
            "2016-07-31  28.548775  28.758923  28.525427  28.712223     0.047714\n",
            "2016-08-31  27.357772  27.420555  27.161573  27.310684    -0.048813\n",
            "2016-09-30  26.243371  26.698548  26.211979  26.580830    -0.026724\n",
            "2016-10-31  25.144664  25.144664  24.807205  24.885683    -0.063773\n",
            "2016-11-30  25.347887  25.657006  25.165585  25.474705     0.023669\n",
            "2016-12-31  25.633227  25.839308  25.609450  25.744194     0.010579\n",
            "\n",
            "--------------------------------------------------\n",
            "\n",
            "                 Open       High        Low      Close  rate_return\n",
            "Date                                                               \n",
            "2016-01-31  23.202222  23.286234  22.850905  23.286234     0.000000\n",
            "2016-02-29  23.211779  23.281205  22.810645  22.887785    -0.017111\n",
            "2016-03-31  23.188634  23.273489  22.764357  22.864641    -0.001011\n",
            "2016-04-30  25.356303  25.418016  25.016882  25.232878     0.103576\n",
            "2016-05-31  26.984350  27.046615  26.758637  27.007698     0.070338\n",
            "2016-06-30  27.350158  27.451340  27.194496  27.404640     0.014697\n",
            "2016-07-31  28.548775  28.758923  28.525427  28.712223     0.047714\n",
            "2016-08-31  27.357772  27.420555  27.161573  27.310684    -0.048813\n",
            "2016-09-30  26.243371  26.698548  26.211979  26.580830    -0.026724\n",
            "2016-10-31  25.144664  25.144664  24.807205  24.885683    -0.063773\n",
            "2016-11-30  25.347887  25.657006  25.165585  25.474705     0.023669\n",
            "2016-12-31  25.633227  25.839308  25.609450  25.744194     0.010579\n"
          ]
        }
      ]
    },
    {
      "cell_type": "markdown",
      "metadata": {
        "id": "0tvoFlKWQxYG"
      },
      "source": [
        "## DataFrame Concat\n",
        "We have seen how to extract a Series from a dataFrame. Now we need to consider how to merge a Series or a DataFrame into another one.\n",
        "\n",
        "In Pandas, the function **concat()** allows us to merge multiple Series into a DataFrame:"
      ]
    },
    {
      "cell_type": "code",
      "metadata": {
        "colab": {
          "base_uri": "https://localhost:8080/"
        },
        "id": "uQrmLIWKHW-C",
        "outputId": "9304e1c9-5725-489e-a237-5177a364d023"
      },
      "source": [
        "s1 = pd.Series([143.5, 144.09, 142.73, 144.18, 143.77], name = 'AAPL')\n",
        "s2 = pd.Series([898.7, 911.71, 906.69, 918.59, 926.99], name = 'GOOG')\n",
        "data_frame = pd.concat([s1,s2], axis = 1) #concat()allows us to merge multiple Series into a DataFrame\n",
        "print(data_frame)"
      ],
      "execution_count": 480,
      "outputs": [
        {
          "output_type": "stream",
          "name": "stdout",
          "text": [
            "     AAPL    GOOG\n",
            "0  143.50  898.70\n",
            "1  144.09  911.71\n",
            "2  142.73  906.69\n",
            "3  144.18  918.59\n",
            "4  143.77  926.99\n"
          ]
        }
      ]
    },
    {
      "cell_type": "code",
      "metadata": {
        "colab": {
          "base_uri": "https://localhost:8080/"
        },
        "id": "AimsJbPSkHT6",
        "outputId": "bfd3645e-670f-4e10-8142-d0b18a881446"
      },
      "source": [
        "e_s1 = pd.Series([14, 144, 142, 11, 143], name = 'EL1')\n",
        "e_s2 = pd.Series([89, 91, 90, 98, 92], name = 'GOOG')\n",
        "e_data_frame = pd.concat([e_s1,e_s2], axis = 1)\n",
        "print(e_data_frame)"
      ],
      "execution_count": 481,
      "outputs": [
        {
          "output_type": "stream",
          "name": "stdout",
          "text": [
            "   EL1  GOOG\n",
            "0   14    89\n",
            "1  144    91\n",
            "2  142    90\n",
            "3   11    98\n",
            "4  143    92\n"
          ]
        }
      ]
    },
    {
      "cell_type": "markdown",
      "metadata": {
        "id": "3ojbNYJLR2vv"
      },
      "source": [
        "The \"axis = 1\" parameter will join two DataFrames by columns:"
      ]
    },
    {
      "cell_type": "code",
      "metadata": {
        "colab": {
          "base_uri": "https://localhost:8080/"
        },
        "id": "DJsaLd-cRoIm",
        "outputId": "cb2a519a-d1ad-430f-f1b3-b22d9dbe8065"
      },
      "source": [
        "log_price = np.log(aapl_bar.Close)\n",
        "log_price.name = 'log_price'\n",
        "print(log_price)\n",
        "print('\\n---------------------- separate line--------------------\\n')\n",
        "concat = pd.concat([aapl_bar, log_price], axis = 1)\n",
        "print(concat)"
      ],
      "execution_count": 482,
      "outputs": [
        {
          "output_type": "stream",
          "name": "stdout",
          "text": [
            "Date\n",
            "2016-01-31    3.110856\n",
            "2016-02-29    3.109568\n",
            "2016-03-31    3.229314\n",
            "2016-04-30    3.078583\n",
            "2016-05-31    3.147897\n",
            "2016-06-30    3.104301\n",
            "2016-07-31    3.190536\n",
            "2016-08-31    3.213912\n",
            "2016-09-30    3.277360\n",
            "2016-10-31    3.281685\n",
            "2016-11-30    3.259848\n",
            "2016-12-31    3.306689\n",
            "Freq: M, Name: log_price, dtype: float64\n",
            "\n",
            "---------------------- separate line--------------------\n",
            "\n",
            "                 Open       High        Low      Close  rate_return  log_price\n",
            "Date                                                                          \n",
            "2016-01-31  21.852386  22.440248  21.750950  22.440248          NaN   3.110856\n",
            "2016-02-29  22.450759  22.768306  22.402084  22.411356    -0.001288   3.109568\n",
            "2016-03-31  25.431518  25.473240  25.236817  25.262314     0.127210   3.229314\n",
            "2016-04-30  21.785533  21.954737  21.442491  21.727587    -0.139921   3.078583\n",
            "2016-05-31  23.226403  23.412961  23.044510  23.287035     0.071773   3.147897\n",
            "2016-06-30  22.023114  22.333264  21.990466  22.293621    -0.042660   3.104301\n",
            "2016-07-31  24.296780  24.380731  24.177849  24.301443     0.090063   3.190536\n",
            "2016-08-31  24.773056  24.986413  24.768365  24.876217     0.023652   3.213912\n",
            "2016-09-30  26.367382  26.580742  26.212639  26.505714     0.065504   3.277360\n",
            "2016-10-31  26.646394  26.782382  26.540886  26.620604     0.004335   3.281685\n",
            "2016-11-30  26.300088  26.441486  25.986654  26.045570    -0.021601   3.259848\n",
            "2016-12-31  27.490199  27.619813  27.202689  27.294598     0.047955   3.306689\n"
          ]
        }
      ]
    },
    {
      "cell_type": "code",
      "metadata": {
        "colab": {
          "base_uri": "https://localhost:8080/"
        },
        "id": "WIHuO1dlkkQo",
        "outputId": "4f557b34-be55-46a9-ae68-a1085f0db7fa"
      },
      "source": [
        "e_log_price = np.log(pfizer_bar.Close)\n",
        "e_log_price.name = 'e_log_price'\n",
        "print(e_log_price)\n",
        "print('\\n---------------------- separate line--------------------\\n')\n",
        "e_concat = pd.concat([pfizer_bar, e_log_price], axis = 1)\n",
        "print(e_concat)"
      ],
      "execution_count": 483,
      "outputs": [
        {
          "output_type": "stream",
          "name": "stdout",
          "text": [
            "Date\n",
            "2016-01-31    3.147862\n",
            "2016-02-29    3.130603\n",
            "2016-03-31    3.129592\n",
            "2016-04-30    3.228148\n",
            "2016-05-31    3.296122\n",
            "2016-06-30    3.310712\n",
            "2016-07-31    3.357323\n",
            "2016-08-31    3.307278\n",
            "2016-09-30    3.280190\n",
            "2016-10-31    3.214293\n",
            "2016-11-30    3.237686\n",
            "2016-12-31    3.248209\n",
            "Freq: M, Name: e_log_price, dtype: float64\n",
            "\n",
            "---------------------- separate line--------------------\n",
            "\n",
            "                 Open       High  ...  rate_return  e_log_price\n",
            "Date                              ...                          \n",
            "2016-01-31  23.202222  23.286234  ...          NaN     3.147862\n",
            "2016-02-29  23.211779  23.281205  ...    -0.017111     3.130603\n",
            "2016-03-31  23.188634  23.273489  ...    -0.001011     3.129592\n",
            "2016-04-30  25.356303  25.418016  ...     0.103576     3.228148\n",
            "2016-05-31  26.984350  27.046615  ...     0.070338     3.296122\n",
            "2016-06-30  27.350158  27.451340  ...     0.014697     3.310712\n",
            "2016-07-31  28.548775  28.758923  ...     0.047714     3.357323\n",
            "2016-08-31  27.357772  27.420555  ...    -0.048813     3.307278\n",
            "2016-09-30  26.243371  26.698548  ...    -0.026724     3.280190\n",
            "2016-10-31  25.144664  25.144664  ...    -0.063773     3.214293\n",
            "2016-11-30  25.347887  25.657006  ...     0.023669     3.237686\n",
            "2016-12-31  25.633227  25.839308  ...     0.010579     3.248209\n",
            "\n",
            "[12 rows x 6 columns]\n"
          ]
        }
      ]
    },
    {
      "cell_type": "markdown",
      "metadata": {
        "id": "mIZz-FUyR_62"
      },
      "source": [
        "We can also join two DataFrames by rows. Consider these two DataFrames:"
      ]
    },
    {
      "cell_type": "code",
      "metadata": {
        "colab": {
          "base_uri": "https://localhost:8080/"
        },
        "id": "W7uXZptLHW-C",
        "outputId": "6815659f-5372-44b8-c7e5-e1a7cc71473b"
      },
      "source": [
        "df_volume = aapl_table.loc['2016-10':'2017-04',['Volume', 'Stock Splits']].resample('M').agg(lambda x: x[-1])\n",
        "print(df_volume)\n",
        "print('\\n---------------------- separate line--------------------\\n')\n",
        "df_2017 = aapl_table.loc['2016-10':'2017-04',['Open', 'High', 'Low', 'Close']].resample('M').agg(lambda x: x[-1])\n",
        "print(df_2017)"
      ],
      "execution_count": 484,
      "outputs": [
        {
          "output_type": "stream",
          "name": "stdout",
          "text": [
            "               Volume  Stock Splits\n",
            "Date                               \n",
            "2016-10-31  105677600             0\n",
            "2016-11-30  144649200             0\n",
            "2016-12-31  122345200             0\n",
            "2017-01-31  196804000             0\n",
            "2017-02-28   93931600             0\n",
            "2017-03-31   78646800             0\n",
            "2017-04-30   83441600             0\n",
            "\n",
            "---------------------- separate line--------------------\n",
            "\n",
            "                 Open       High        Low      Close\n",
            "Date                                                  \n",
            "2016-10-31  26.646394  26.782382  26.540886  26.620604\n",
            "2016-11-30  26.300088  26.441486  25.986654  26.045570\n",
            "2016-12-31  27.490199  27.619813  27.202689  27.294598\n",
            "2017-01-31  28.550686  28.607245  28.425785  28.597818\n",
            "2017-02-28  32.444873  32.530080  32.354932  32.423573\n",
            "2017-03-31  34.016459  34.146637  33.848410  34.002258\n",
            "2017-04-30  34.104024  34.153730  33.909944  33.999882\n"
          ]
        }
      ]
    },
    {
      "cell_type": "code",
      "metadata": {
        "colab": {
          "base_uri": "https://localhost:8080/"
        },
        "id": "BgTtvDDTk6C2",
        "outputId": "e7bceb43-5ce8-462b-dd8a-582c42bf7f18"
      },
      "source": [
        "e_df_volume = pfizer_table.loc['2016-10':'2017-04',['Volume', 'Stock Splits']].resample('M').agg(lambda x: x[-1])\n",
        "print(e_df_volume)\n",
        "print('\\n---------------------- separate line--------------------\\n')\n",
        "e_df_2017 = pfizer_table.loc['2016-10':'2017-04',['Open', 'High', 'Low', 'Close']].resample('M').agg(lambda x: x[-1])\n",
        "print(e_df_2017)"
      ],
      "execution_count": 485,
      "outputs": [
        {
          "output_type": "stream",
          "name": "stdout",
          "text": [
            "              Volume  Stock Splits\n",
            "Date                              \n",
            "2016-10-31  37890668             0\n",
            "2016-11-30  40599553             0\n",
            "2016-12-31  19885396             0\n",
            "2017-01-31  39472300             0\n",
            "2017-02-28  28964658             0\n",
            "2017-03-31  19616837             0\n",
            "2017-04-30  16842077             0\n",
            "\n",
            "---------------------- separate line--------------------\n",
            "\n",
            "                 Open       High        Low      Close\n",
            "Date                                                  \n",
            "2016-10-31  25.144664  25.144664  24.807205  24.885683\n",
            "2016-11-30  25.347887  25.657006  25.165585  25.474705\n",
            "2016-12-31  25.633227  25.839308  25.609450  25.744194\n",
            "2017-01-31  24.579048  25.308257  24.515638  25.149733\n",
            "2017-02-28  27.303591  27.431704  27.151461  27.319607\n",
            "2017-03-31  27.391668  27.527785  27.351633  27.391668\n",
            "2017-04-30  27.127446  27.175484  27.023355  27.159472\n"
          ]
        }
      ]
    },
    {
      "cell_type": "markdown",
      "metadata": {
        "id": "iZk_C9aSSLeP"
      },
      "source": [
        "Now we merge the DataFrames with our DataFrame 'aapl_bar'"
      ]
    },
    {
      "cell_type": "code",
      "metadata": {
        "colab": {
          "base_uri": "https://localhost:8080/"
        },
        "id": "aFqmjokOHW-C",
        "outputId": "ce258a54-e517-4f1b-cc19-bed1a4c339da"
      },
      "source": [
        "concat = pd.concat([aapl_bar, df_volume], axis = 1)\n",
        "print(concat)"
      ],
      "execution_count": 486,
      "outputs": [
        {
          "output_type": "stream",
          "name": "stdout",
          "text": [
            "                 Open       High  ...       Volume  Stock Splits\n",
            "Date                              ...                           \n",
            "2016-01-31  21.852386  22.440248  ...          NaN           NaN\n",
            "2016-02-29  22.450759  22.768306  ...          NaN           NaN\n",
            "2016-03-31  25.431518  25.473240  ...          NaN           NaN\n",
            "2016-04-30  21.785533  21.954737  ...          NaN           NaN\n",
            "2016-05-31  23.226403  23.412961  ...          NaN           NaN\n",
            "2016-06-30  22.023114  22.333264  ...          NaN           NaN\n",
            "2016-07-31  24.296780  24.380731  ...          NaN           NaN\n",
            "2016-08-31  24.773056  24.986413  ...          NaN           NaN\n",
            "2016-09-30  26.367382  26.580742  ...          NaN           NaN\n",
            "2016-10-31  26.646394  26.782382  ...  105677600.0           0.0\n",
            "2016-11-30  26.300088  26.441486  ...  144649200.0           0.0\n",
            "2016-12-31  27.490199  27.619813  ...  122345200.0           0.0\n",
            "2017-01-31        NaN        NaN  ...  196804000.0           0.0\n",
            "2017-02-28        NaN        NaN  ...   93931600.0           0.0\n",
            "2017-03-31        NaN        NaN  ...   78646800.0           0.0\n",
            "2017-04-30        NaN        NaN  ...   83441600.0           0.0\n",
            "\n",
            "[16 rows x 7 columns]\n"
          ]
        }
      ]
    },
    {
      "cell_type": "code",
      "metadata": {
        "colab": {
          "base_uri": "https://localhost:8080/"
        },
        "id": "4tiShuFilGzH",
        "outputId": "a61b792d-1e46-4a7e-d334-ade41356b185"
      },
      "source": [
        "e_concat = pd.concat([pfizer_bar, e_df_volume], axis = 1)\n",
        "print(e_concat)"
      ],
      "execution_count": 487,
      "outputs": [
        {
          "output_type": "stream",
          "name": "stdout",
          "text": [
            "                 Open       High  ...      Volume  Stock Splits\n",
            "Date                              ...                          \n",
            "2016-01-31  23.202222  23.286234  ...         NaN           NaN\n",
            "2016-02-29  23.211779  23.281205  ...         NaN           NaN\n",
            "2016-03-31  23.188634  23.273489  ...         NaN           NaN\n",
            "2016-04-30  25.356303  25.418016  ...         NaN           NaN\n",
            "2016-05-31  26.984350  27.046615  ...         NaN           NaN\n",
            "2016-06-30  27.350158  27.451340  ...         NaN           NaN\n",
            "2016-07-31  28.548775  28.758923  ...         NaN           NaN\n",
            "2016-08-31  27.357772  27.420555  ...         NaN           NaN\n",
            "2016-09-30  26.243371  26.698548  ...         NaN           NaN\n",
            "2016-10-31  25.144664  25.144664  ...  37890668.0           0.0\n",
            "2016-11-30  25.347887  25.657006  ...  40599553.0           0.0\n",
            "2016-12-31  25.633227  25.839308  ...  19885396.0           0.0\n",
            "2017-01-31        NaN        NaN  ...  39472300.0           0.0\n",
            "2017-02-28        NaN        NaN  ...  28964658.0           0.0\n",
            "2017-03-31        NaN        NaN  ...  19616837.0           0.0\n",
            "2017-04-30        NaN        NaN  ...  16842077.0           0.0\n",
            "\n",
            "[16 rows x 7 columns]\n"
          ]
        }
      ]
    },
    {
      "cell_type": "markdown",
      "metadata": {
        "id": "7yI3tgB4SR4O"
      },
      "source": [
        "By default the DataFrame are joined with all of the data. This default options results in zero information loss. We can also merge them by intersection, this is called 'inner join"
      ]
    },
    {
      "cell_type": "code",
      "metadata": {
        "colab": {
          "base_uri": "https://localhost:8080/"
        },
        "id": "31QGLyijHW-C",
        "outputId": "c1c71e1a-afd3-460c-d30b-6105cb987238"
      },
      "source": [
        "concat = pd.concat([aapl_bar,df_volume],axis = 1, join = 'inner')\n",
        "print(concat)"
      ],
      "execution_count": 488,
      "outputs": [
        {
          "output_type": "stream",
          "name": "stdout",
          "text": [
            "                 Open       High  ...     Volume  Stock Splits\n",
            "Date                              ...                         \n",
            "2016-10-31  26.646394  26.782382  ...  105677600             0\n",
            "2016-11-30  26.300088  26.441486  ...  144649200             0\n",
            "2016-12-31  27.490199  27.619813  ...  122345200             0\n",
            "\n",
            "[3 rows x 7 columns]\n"
          ]
        }
      ]
    },
    {
      "cell_type": "code",
      "metadata": {
        "colab": {
          "base_uri": "https://localhost:8080/"
        },
        "id": "P-9W1bsTlRe1",
        "outputId": "788de23b-513d-4401-e0ff-ec16bd517a9b"
      },
      "source": [
        "e_concat = pd.concat([pfizer_bar,e_df_volume],axis = 1, join = 'inner')\n",
        "print(e_concat)"
      ],
      "execution_count": 489,
      "outputs": [
        {
          "output_type": "stream",
          "name": "stdout",
          "text": [
            "                 Open       High  ...    Volume  Stock Splits\n",
            "Date                              ...                        \n",
            "2016-10-31  25.144664  25.144664  ...  37890668             0\n",
            "2016-11-30  25.347887  25.657006  ...  40599553             0\n",
            "2016-12-31  25.633227  25.839308  ...  19885396             0\n",
            "\n",
            "[3 rows x 7 columns]\n"
          ]
        }
      ]
    },
    {
      "cell_type": "markdown",
      "metadata": {
        "id": "oudcWMm5Sd0u"
      },
      "source": [
        "Only the intersection part was left if use 'inner join' method. Now let's try to append a DataFrame to another one:"
      ]
    },
    {
      "cell_type": "code",
      "metadata": {
        "colab": {
          "base_uri": "https://localhost:8080/"
        },
        "id": "lgw0qaOsHW-D",
        "outputId": "0b6faf04-8154-4bee-c530-77462977a6e4"
      },
      "source": [
        "append = aapl_bar.append(df_2017)\n",
        "print(append)"
      ],
      "execution_count": 490,
      "outputs": [
        {
          "output_type": "stream",
          "name": "stdout",
          "text": [
            "                 Open       High        Low      Close  rate_return\n",
            "Date                                                               \n",
            "2016-01-31  21.852386  22.440248  21.750950  22.440248          NaN\n",
            "2016-02-29  22.450759  22.768306  22.402084  22.411356    -0.001288\n",
            "2016-03-31  25.431518  25.473240  25.236817  25.262314     0.127210\n",
            "2016-04-30  21.785533  21.954737  21.442491  21.727587    -0.139921\n",
            "2016-05-31  23.226403  23.412961  23.044510  23.287035     0.071773\n",
            "2016-06-30  22.023114  22.333264  21.990466  22.293621    -0.042660\n",
            "2016-07-31  24.296780  24.380731  24.177849  24.301443     0.090063\n",
            "2016-08-31  24.773056  24.986413  24.768365  24.876217     0.023652\n",
            "2016-09-30  26.367382  26.580742  26.212639  26.505714     0.065504\n",
            "2016-10-31  26.646394  26.782382  26.540886  26.620604     0.004335\n",
            "2016-11-30  26.300088  26.441486  25.986654  26.045570    -0.021601\n",
            "2016-12-31  27.490199  27.619813  27.202689  27.294598     0.047955\n",
            "2016-10-31  26.646394  26.782382  26.540886  26.620604          NaN\n",
            "2016-11-30  26.300088  26.441486  25.986654  26.045570          NaN\n",
            "2016-12-31  27.490199  27.619813  27.202689  27.294598          NaN\n",
            "2017-01-31  28.550686  28.607245  28.425785  28.597818          NaN\n",
            "2017-02-28  32.444873  32.530080  32.354932  32.423573          NaN\n",
            "2017-03-31  34.016459  34.146637  33.848410  34.002258          NaN\n",
            "2017-04-30  34.104024  34.153730  33.909944  33.999882          NaN\n"
          ]
        }
      ]
    },
    {
      "cell_type": "code",
      "metadata": {
        "colab": {
          "base_uri": "https://localhost:8080/"
        },
        "id": "VHb1b0_JlaWj",
        "outputId": "5993dfce-8adb-4267-a7be-a914fcc6d8ee"
      },
      "source": [
        "e_append = pfizer_bar.append(e_df_2017)\n",
        "print(e_append)"
      ],
      "execution_count": 491,
      "outputs": [
        {
          "output_type": "stream",
          "name": "stdout",
          "text": [
            "                 Open       High        Low      Close  rate_return\n",
            "Date                                                               \n",
            "2016-01-31  23.202222  23.286234  22.850905  23.286234          NaN\n",
            "2016-02-29  23.211779  23.281205  22.810645  22.887785    -0.017111\n",
            "2016-03-31  23.188634  23.273489  22.764357  22.864641    -0.001011\n",
            "2016-04-30  25.356303  25.418016  25.016882  25.232878     0.103576\n",
            "2016-05-31  26.984350  27.046615  26.758637  27.007698     0.070338\n",
            "2016-06-30  27.350158  27.451340  27.194496  27.404640     0.014697\n",
            "2016-07-31  28.548775  28.758923  28.525427  28.712223     0.047714\n",
            "2016-08-31  27.357772  27.420555  27.161573  27.310684    -0.048813\n",
            "2016-09-30  26.243371  26.698548  26.211979  26.580830    -0.026724\n",
            "2016-10-31  25.144664  25.144664  24.807205  24.885683    -0.063773\n",
            "2016-11-30  25.347887  25.657006  25.165585  25.474705     0.023669\n",
            "2016-12-31  25.633227  25.839308  25.609450  25.744194     0.010579\n",
            "2016-10-31  25.144664  25.144664  24.807205  24.885683          NaN\n",
            "2016-11-30  25.347887  25.657006  25.165585  25.474705          NaN\n",
            "2016-12-31  25.633227  25.839308  25.609450  25.744194          NaN\n",
            "2017-01-31  24.579048  25.308257  24.515638  25.149733          NaN\n",
            "2017-02-28  27.303591  27.431704  27.151461  27.319607          NaN\n",
            "2017-03-31  27.391668  27.527785  27.351633  27.391668          NaN\n",
            "2017-04-30  27.127446  27.175484  27.023355  27.159472          NaN\n"
          ]
        }
      ]
    },
    {
      "cell_type": "markdown",
      "metadata": {
        "id": "zXT6cMquSq_P"
      },
      "source": [
        "'Append' is essentially to concat two DataFrames by axis = 0, thus here is an alternative way to append:"
      ]
    },
    {
      "cell_type": "code",
      "metadata": {
        "colab": {
          "base_uri": "https://localhost:8080/"
        },
        "id": "2EuSaFO9HW-D",
        "outputId": "490b7a97-19dc-4c9f-a45e-2d10901ec5ae"
      },
      "source": [
        "concat = pd.concat([aapl_bar, df_2017], axis = 0)\n",
        "print(concat)"
      ],
      "execution_count": 492,
      "outputs": [
        {
          "output_type": "stream",
          "name": "stdout",
          "text": [
            "                 Open       High        Low      Close  rate_return\n",
            "Date                                                               \n",
            "2016-01-31  21.852386  22.440248  21.750950  22.440248          NaN\n",
            "2016-02-29  22.450759  22.768306  22.402084  22.411356    -0.001288\n",
            "2016-03-31  25.431518  25.473240  25.236817  25.262314     0.127210\n",
            "2016-04-30  21.785533  21.954737  21.442491  21.727587    -0.139921\n",
            "2016-05-31  23.226403  23.412961  23.044510  23.287035     0.071773\n",
            "2016-06-30  22.023114  22.333264  21.990466  22.293621    -0.042660\n",
            "2016-07-31  24.296780  24.380731  24.177849  24.301443     0.090063\n",
            "2016-08-31  24.773056  24.986413  24.768365  24.876217     0.023652\n",
            "2016-09-30  26.367382  26.580742  26.212639  26.505714     0.065504\n",
            "2016-10-31  26.646394  26.782382  26.540886  26.620604     0.004335\n",
            "2016-11-30  26.300088  26.441486  25.986654  26.045570    -0.021601\n",
            "2016-12-31  27.490199  27.619813  27.202689  27.294598     0.047955\n",
            "2016-10-31  26.646394  26.782382  26.540886  26.620604          NaN\n",
            "2016-11-30  26.300088  26.441486  25.986654  26.045570          NaN\n",
            "2016-12-31  27.490199  27.619813  27.202689  27.294598          NaN\n",
            "2017-01-31  28.550686  28.607245  28.425785  28.597818          NaN\n",
            "2017-02-28  32.444873  32.530080  32.354932  32.423573          NaN\n",
            "2017-03-31  34.016459  34.146637  33.848410  34.002258          NaN\n",
            "2017-04-30  34.104024  34.153730  33.909944  33.999882          NaN\n"
          ]
        }
      ]
    },
    {
      "cell_type": "code",
      "metadata": {
        "colab": {
          "base_uri": "https://localhost:8080/"
        },
        "id": "gNTDcctWlm_R",
        "outputId": "95460310-cbbd-46b3-89cb-dfee6a1f5686"
      },
      "source": [
        "e_concat = pd.concat([pfizer_bar, e_df_2017], axis = 0)\n",
        "print(e_concat)"
      ],
      "execution_count": 493,
      "outputs": [
        {
          "output_type": "stream",
          "name": "stdout",
          "text": [
            "                 Open       High        Low      Close  rate_return\n",
            "Date                                                               \n",
            "2016-01-31  23.202222  23.286234  22.850905  23.286234          NaN\n",
            "2016-02-29  23.211779  23.281205  22.810645  22.887785    -0.017111\n",
            "2016-03-31  23.188634  23.273489  22.764357  22.864641    -0.001011\n",
            "2016-04-30  25.356303  25.418016  25.016882  25.232878     0.103576\n",
            "2016-05-31  26.984350  27.046615  26.758637  27.007698     0.070338\n",
            "2016-06-30  27.350158  27.451340  27.194496  27.404640     0.014697\n",
            "2016-07-31  28.548775  28.758923  28.525427  28.712223     0.047714\n",
            "2016-08-31  27.357772  27.420555  27.161573  27.310684    -0.048813\n",
            "2016-09-30  26.243371  26.698548  26.211979  26.580830    -0.026724\n",
            "2016-10-31  25.144664  25.144664  24.807205  24.885683    -0.063773\n",
            "2016-11-30  25.347887  25.657006  25.165585  25.474705     0.023669\n",
            "2016-12-31  25.633227  25.839308  25.609450  25.744194     0.010579\n",
            "2016-10-31  25.144664  25.144664  24.807205  24.885683          NaN\n",
            "2016-11-30  25.347887  25.657006  25.165585  25.474705          NaN\n",
            "2016-12-31  25.633227  25.839308  25.609450  25.744194          NaN\n",
            "2017-01-31  24.579048  25.308257  24.515638  25.149733          NaN\n",
            "2017-02-28  27.303591  27.431704  27.151461  27.319607          NaN\n",
            "2017-03-31  27.391668  27.527785  27.351633  27.391668          NaN\n",
            "2017-04-30  27.127446  27.175484  27.023355  27.159472          NaN\n"
          ]
        }
      ]
    },
    {
      "cell_type": "markdown",
      "metadata": {
        "id": "-YXL7V9ASst9"
      },
      "source": [
        "Please note that if the two DataFrame have some columns with the same column names, these columns are considered to be the same and will be merged. It's very important to have the right column names. If we change a column names here:"
      ]
    },
    {
      "cell_type": "code",
      "metadata": {
        "colab": {
          "base_uri": "https://localhost:8080/"
        },
        "id": "aT1eoa8mHW-D",
        "outputId": "cc2156c4-64ae-4107-a16a-0ecedffeaa55"
      },
      "source": [
        "df_2017.columns = ['Change', 'High','Low','Close']\n",
        "concat = pd.concat([aapl_bar, df_2017], axis = 0)\n",
        "print(concat)"
      ],
      "execution_count": 494,
      "outputs": [
        {
          "output_type": "stream",
          "name": "stdout",
          "text": [
            "                 Open       High        Low      Close  rate_return     Change\n",
            "Date                                                                          \n",
            "2016-01-31  21.852386  22.440248  21.750950  22.440248          NaN        NaN\n",
            "2016-02-29  22.450759  22.768306  22.402084  22.411356    -0.001288        NaN\n",
            "2016-03-31  25.431518  25.473240  25.236817  25.262314     0.127210        NaN\n",
            "2016-04-30  21.785533  21.954737  21.442491  21.727587    -0.139921        NaN\n",
            "2016-05-31  23.226403  23.412961  23.044510  23.287035     0.071773        NaN\n",
            "2016-06-30  22.023114  22.333264  21.990466  22.293621    -0.042660        NaN\n",
            "2016-07-31  24.296780  24.380731  24.177849  24.301443     0.090063        NaN\n",
            "2016-08-31  24.773056  24.986413  24.768365  24.876217     0.023652        NaN\n",
            "2016-09-30  26.367382  26.580742  26.212639  26.505714     0.065504        NaN\n",
            "2016-10-31  26.646394  26.782382  26.540886  26.620604     0.004335        NaN\n",
            "2016-11-30  26.300088  26.441486  25.986654  26.045570    -0.021601        NaN\n",
            "2016-12-31  27.490199  27.619813  27.202689  27.294598     0.047955        NaN\n",
            "2016-10-31        NaN  26.782382  26.540886  26.620604          NaN  26.646394\n",
            "2016-11-30        NaN  26.441486  25.986654  26.045570          NaN  26.300088\n",
            "2016-12-31        NaN  27.619813  27.202689  27.294598          NaN  27.490199\n",
            "2017-01-31        NaN  28.607245  28.425785  28.597818          NaN  28.550686\n",
            "2017-02-28        NaN  32.530080  32.354932  32.423573          NaN  32.444873\n",
            "2017-03-31        NaN  34.146637  33.848410  34.002258          NaN  34.016459\n",
            "2017-04-30        NaN  34.153730  33.909944  33.999882          NaN  34.104024\n"
          ]
        }
      ]
    },
    {
      "cell_type": "code",
      "metadata": {
        "colab": {
          "base_uri": "https://localhost:8080/"
        },
        "id": "MfQlJ7c7luzm",
        "outputId": "f7f8af2a-2d6d-4280-dc13-72ab8286ec0d"
      },
      "source": [
        "e_df_2017.columns = ['Change', 'High','Low','Close']\n",
        "e_concat = pd.concat([pfizer_bar, e_df_2017], axis = 0)\n",
        "print(e_concat)"
      ],
      "execution_count": 495,
      "outputs": [
        {
          "output_type": "stream",
          "name": "stdout",
          "text": [
            "                 Open       High        Low      Close  rate_return     Change\n",
            "Date                                                                          \n",
            "2016-01-31  23.202222  23.286234  22.850905  23.286234          NaN        NaN\n",
            "2016-02-29  23.211779  23.281205  22.810645  22.887785    -0.017111        NaN\n",
            "2016-03-31  23.188634  23.273489  22.764357  22.864641    -0.001011        NaN\n",
            "2016-04-30  25.356303  25.418016  25.016882  25.232878     0.103576        NaN\n",
            "2016-05-31  26.984350  27.046615  26.758637  27.007698     0.070338        NaN\n",
            "2016-06-30  27.350158  27.451340  27.194496  27.404640     0.014697        NaN\n",
            "2016-07-31  28.548775  28.758923  28.525427  28.712223     0.047714        NaN\n",
            "2016-08-31  27.357772  27.420555  27.161573  27.310684    -0.048813        NaN\n",
            "2016-09-30  26.243371  26.698548  26.211979  26.580830    -0.026724        NaN\n",
            "2016-10-31  25.144664  25.144664  24.807205  24.885683    -0.063773        NaN\n",
            "2016-11-30  25.347887  25.657006  25.165585  25.474705     0.023669        NaN\n",
            "2016-12-31  25.633227  25.839308  25.609450  25.744194     0.010579        NaN\n",
            "2016-10-31        NaN  25.144664  24.807205  24.885683          NaN  25.144664\n",
            "2016-11-30        NaN  25.657006  25.165585  25.474705          NaN  25.347887\n",
            "2016-12-31        NaN  25.839308  25.609450  25.744194          NaN  25.633227\n",
            "2017-01-31        NaN  25.308257  24.515638  25.149733          NaN  24.579048\n",
            "2017-02-28        NaN  27.431704  27.151461  27.319607          NaN  27.303591\n",
            "2017-03-31        NaN  27.527785  27.351633  27.391668          NaN  27.391668\n",
            "2017-04-30        NaN  27.175484  27.023355  27.159472          NaN  27.127446\n"
          ]
        }
      ]
    },
    {
      "cell_type": "markdown",
      "metadata": {
        "id": "shbpOFyyS6uV"
      },
      "source": [
        "Since the column name of 'Open' has been changed, the new DataFrame has an new column named 'Change'.\n",
        "\n",
        "# Summary\n",
        "\n",
        "Hereby we introduced the most import part of python: resampling and DataFrame manipulation. We only introduced the most commonly used method in Financial data analysis. There are also many methods used in data mining, which are also beneficial. You can always check the [Pandas](https://pandas.pydata.org/pandas-docs/stable/index.html) official documentations for help."
      ]
    }
  ]
}